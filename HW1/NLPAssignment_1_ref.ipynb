{
 "cells": [
  {
   "cell_type": "markdown",
   "metadata": {
    "id": "7ce5pQK3bFn_"
   },
   "source": [
    "# Assignment 1\n",
    "In this assignment you will be creating tools for learning and testing language models.\n",
    "The corpora that you will be working with are lists of tweets in 8 different languages that use the Latin script. The data is provided either formatted as CSV or as JSON, for your convenience. The end goal is to write a set of tools that can detect the language of a given tweet.\n"
   ]
  },
  {
   "cell_type": "code",
   "execution_count": 1,
   "metadata": {
    "id": "mPuno9W5d5y2"
   },
   "outputs": [],
   "source": [
    "import os\n",
    "import io\n",
    "import sys\n",
    "import pandas as pd\n",
    "import numpy as np\n",
    "import math\n",
    "from sklearn.metrics import f1_score\n",
    "\n",
    "start_token = '<start>'\n",
    "end_token = '<end>'\n",
    "languages = [\"en\",\"es\",\"in\",\"it\",\"pt\",\"fr\",\"nl\",\"tl\"]\n",
    "def updateTweet(tweet):\n",
    "  return \"בבב\" +tweet+\"בבב\""
   ]
  },
  {
   "cell_type": "markdown",
   "metadata": {
    "id": "vwG8v-Ll49KM"
   },
   "source": [
    "*As a preparation for this task, download the data files from the course git repository.\n",
    "\n",
    "The relevant files are under **lm-languages-data-new**:\n",
    "\n",
    "\n",
    "*   en.csv (or the equivalent JSON file)\n",
    "*   es.csv (or the equivalent JSON file)\n",
    "*   fr.csv (or the equivalent JSON file)\n",
    "*   in.csv (or the equivalent JSON file)\n",
    "*   it.csv (or the equivalent JSON file)\n",
    "*   nl.csv (or the equivalent JSON file)\n",
    "*   pt.csv (or the equivalent JSON file)\n",
    "*   tl.csv (or the equivalent JSON file)\n",
    "*   test.csv (or the equivalent JSON file)\n",
    "\n",
    "\n",
    "\n"
   ]
  },
  {
   "cell_type": "code",
   "execution_count": null,
   "metadata": {
    "colab": {
     "base_uri": "https://localhost:8080/"
    },
    "id": "7xC-87z2GWMq",
    "outputId": "a3bfa449-b214-433c-df44-ef3db9ef6451"
   },
   "outputs": [],
   "source": [
    "!git clone https://github.com/kfirbar/nlp-course.git"
   ]
  },
  {
   "cell_type": "markdown",
   "metadata": {
    "id": "DOVb4IhsqimJ",
    "tags": []
   },
   "source": [
    "\n",
    "\n",
    "---\n",
    "\n",
    "\n",
    "\n",
    "**Important note: please use only the files under lm-languages-data-new and NOT under lm-languages-data**\n",
    "\n",
    "\n",
    "---\n",
    "\n"
   ]
  },
  {
   "cell_type": "code",
   "execution_count": null,
   "metadata": {
    "colab": {
     "base_uri": "https://localhost:8080/"
    },
    "id": "QYdhPfbAGkip",
    "outputId": "973a2b69-d08b-41eb-cffc-c776e4af242a"
   },
   "outputs": [],
   "source": [
    "\n",
    "!ls nlp-course/lm-languages-data-new\n"
   ]
  },
  {
   "cell_type": "markdown",
   "metadata": {
    "id": "Ashyu_mT28o6"
   },
   "source": [
    "**Part 1**\n",
    "\n",
    "Write a function *preprocess* that iterates over all the data files and creates a single vocabulary, containing all the tokens in the data. **Our token definition is a single UTF-8 encoded character**. So, the vocabulary list is a simple Python list of all the characters that you see at least once in the data."
   ]
  },
  {
   "cell_type": "code",
   "execution_count": 7,
   "metadata": {},
   "outputs": [],
   "source": [
    "data_files = {'en_df': 'en.csv',\n",
    "              'es_df': 'es.csv',\n",
    "              'fr_df': 'fr.csv',\n",
    "              'in_df': 'in.csv',\n",
    "              'it_df': 'it.csv',\n",
    "              'nl_df': 'nl.csv',\n",
    "              'pt_df': 'pt.csv',\n",
    "              'tl_df': 'tl.csv'}\n",
    "data_files = {'en_df': r'nlp-course\\lm-languages-data\\en.csv',\n",
    "              'es_df': r'nlp-course\\lm-languages-data\\es.csv',\n",
    "              'fr_df': r'nlp-course\\lm-languages-data\\fr.csv',\n",
    "              'in_df': r'nlp-course\\lm-languages-data\\in.csv',\n",
    "              'it_df': r'nlp-course\\lm-languages-data\\it.csv',\n",
    "              'nl_df': r'nlp-course\\lm-languages-data\\nl.csv',\n",
    "              'pt_df': r'nlp-course\\lm-languages-data\\pt.csv',\n",
    "              'tl_df': r'nlp-course\\lm-languages-data\\tl.csv'}\n",
    "directory = 'nlp-course/lm-languages-data-new/'\n",
    "start_token = '↠'\n",
    "end_token = '↞'"
   ]
  },
  {
   "cell_type": "code",
   "execution_count": 8,
   "metadata": {
    "id": "xCfzsITW8Yaj"
   },
   "outputs": [],
   "source": [
    "import pandas as pd\n",
    "def preprocess():\n",
    "  tokens = {}\n",
    "  for language in languages:\n",
    "    tweets =  pd.read_csv(f'nlp-course/lm-languages-data-new/{language}.csv').get('tweet_text')\n",
    "    for tweet in tweets:\n",
    "      for char in tweet:\n",
    "        tokens[char]=0\n",
    "  return list(tokens.keys())\n",
    "\n",
    "\n"
   ]
  },
  {
   "cell_type": "code",
   "execution_count": 9,
   "metadata": {},
   "outputs": [],
   "source": [
    "vocabulary = preprocess()"
   ]
  },
  {
   "cell_type": "markdown",
   "metadata": {
    "id": "Nb2PGj0Yc2TY"
   },
   "source": [
    "**Part 2**\n",
    "\n",
    "Write a function lm that generates a language model from a textual corpus. The function should return a dictionary (representing a model) where the keys are all the relevant n-1 sequences, and the values are dictionaries with the n_th tokens and their corresponding probabilities to occur. For example, for a trigram model (tokens are characters), it should look something like:\n",
    "\n",
    "{\n",
    "  \"ab\":{\"c\":0.5, \"b\":0.25, \"d\":0.25},\n",
    "  \"ca\":{\"a\":0.2, \"b\":0.7, \"d\":0.1}\n",
    "}\n",
    "\n",
    "which means for example that after the sequence \"ab\", there is a 0.5 chance that \"c\" will appear, 0.25 for \"b\" to appear and 0.25 for \"d\" to appear.\n",
    "\n",
    "Note - You should think how to add the add_one smoothing information to the dictionary and implement it."
   ]
  },
  {
   "cell_type": "code",
   "execution_count": 10,
   "metadata": {
    "id": "kMC_u8eQbVvZ"
   },
   "outputs": [],
   "source": [
    "def lm(n, vocabulary, data_file_path, add_one):\n",
    "  # n - the n-gram to use (e.g., 1 - unigram, 2 - bigram, etc.)\n",
    "  # vocabulary - the vocabulary list (which you should use for calculating add_one smoothing)\n",
    "  # data_file_path - the data_file from which we record probabilities for our model\n",
    "  # add_one - True/False (use add_one smoothing or not)\n",
    "  if add_one:\n",
    "      add_one = 1\n",
    "  else:\n",
    "      add_one = 0\n",
    "  tweets =  pd.read_csv(data_file_path).get('tweet_text')\n",
    "  model = {}\n",
    "  for tweet in tweets:\n",
    "    if n > 1:\n",
    "      tweet = updateTweet(tweet)\n",
    "    startIndexs =range(len(tweet) - n + 1)\n",
    "    endIndexs = range(n-1, len(tweet))\n",
    "    nGram = zip(startIndexs, endIndexs)\n",
    "  \n",
    "    for i,j in nGram:\n",
    "      wNMinusOne = tweet[i: i + n -1]\n",
    "      if i==j:\n",
    "          wNMinusOne = \"\"\n",
    "      wN = tweet[j]\n",
    "      new_count = model.setdefault(wNMinusOne, {}).setdefault(wN, 0) + 1\n",
    "      model[wNMinusOne][wN] = new_count\n",
    "\n",
    "  for prefix in model.values():\n",
    "      countPrefixW = float(sum(prefix.values()))\n",
    "      if add_one:\n",
    "        countPrefixW += len(vocabulary)\n",
    "      for key in prefix.keys():\n",
    "        prefix[key] = (prefix[key] + add_one) / countPrefixW  \n",
    "  return model"
   ]
  },
  {
   "cell_type": "code",
   "execution_count": 13,
   "metadata": {},
   "outputs": [],
   "source": [
    "test_lm = lm(4, vocabulary, data_files['en_df'], False)"
   ]
  },
  {
   "cell_type": "markdown",
   "metadata": {
    "id": "7M8TchtI22I3"
   },
   "source": [
    "**Part 3**\n",
    "\n",
    "Write a function *eval* that returns the perplexity of a model (dictionary) running over a given data file."
   ]
  },
  {
   "cell_type": "code",
   "execution_count": null,
   "metadata": {
    "id": "F0kkMn328-lJ"
   },
   "outputs": [],
   "source": [
    "def eval(n, model, data_file):\n",
    "  # n - the n-gram that you used to build your model (must be the same number)\n",
    "  # model - the dictionary (model) to use for calculating perplexity\n",
    "  # data_file - the tweets file that you wish to claculate a perplexity score for\n",
    "  \n",
    "\n",
    "  tweets =  pd.read_csv(data_file).get('tweet_text')\n",
    "  entropyList=[]\n",
    "  for tweet in tweets:\n",
    "    entropyList.append(evalTweet(tweet,n,model))\n",
    "\n",
    "  return np.array(entropyList).mean()\n",
    "\n",
    "def evalTweet(tweet,n, model):\n",
    "    missing_value = 1e-8\n",
    "    tweet = updateTweet(tweet)\n",
    "    startIndexs =range(len(tweet) - n + 1)\n",
    "    endIndexs = range(n-1, len(tweet))\n",
    "    nGram = zip(startIndexs, endIndexs)\n",
    "    N=0\n",
    "    entropy =0\n",
    "    for i,j in nGram:\n",
    "      wNMinusOne = '' \n",
    "      N+=1\n",
    "      if i!=j:\n",
    "          wNMinusOne = tweet[i: i + n -1]\n",
    "      wN = tweet[j]\n",
    "      pwN = missing_value\n",
    "      if wNMinusOne in model.keys():\n",
    "             if wN in model[wNMinusOne].keys():\n",
    "               entropy+= -math.log2(model[wNMinusOne][wN])\n",
    "             else:\n",
    "              entropy+=-math.log2(missing_value)\n",
    "      else:\n",
    "          entropy+=-math.log2(missing_value)\n",
    "    entropy = entropy/N\n",
    "    return math.pow(2,entropy)"
   ]
  },
  {
   "cell_type": "code",
   "execution_count": null,
   "metadata": {
    "id": "eZuvfwbI5aGj"
   },
   "outputs": [],
   "source": [
    "vocabulary = preprocess()\n",
    "n = 2\n",
    "test_dict = lm(n, vocabulary, data_files['en_df'], False)\n",
    "eval(n,test_dict, data_files['en_df'])"
   ]
  },
  {
   "cell_type": "markdown",
   "metadata": {
    "id": "enGmtLE3921p"
   },
   "source": [
    "**Part 4**\n",
    "\n",
    "Write a function *match* that creates a model for every relevant language, using a specific value of *n* and *add_one*. Then, calculate the perplexity of all possible pairs (e.g., en model applied on the data files en ,es, fr, in, it, nl, pt, tl; es model applied on the data files en, es...). This function should return a pandas DataFrame with columns [en ,es, fr, in, it, nl, pt, tl] and every row should be labeled with one of the languages. Then, the values are the relevant perplexity values."
   ]
  },
  {
   "cell_type": "code",
   "execution_count": null,
   "metadata": {
    "id": "caAxLE9s_fvn"
   },
   "outputs": [],
   "source": [
    "def match(n, add_one):\n",
    "  # n - the n-gram to use for creating n-gram models\n",
    "  # add_one - use add_one smoothing or not\n",
    "  model= {}\n",
    "  df = {}\n",
    "\n",
    "  for language_model in languages:\n",
    "    data_file_path = f'nlp-course/lm-languages-data-new/{language_model}.csv'\n",
    "    model[language_model] = lm(n, preprocess(),data_file_path,add_one)\n",
    "    df[language_model] = {}\n",
    "    for language in languages:\n",
    "       data_file_path = f'nlp-course/lm-languages-data-new/{language}.csv'\n",
    "       df[language_model][language]=eval(n,model[language_model],data_file_path)\n",
    "  \n",
    "  return pd.DataFrame(df)\n",
    "\n",
    "   \n",
    "\n",
    "  "
   ]
  },
  {
   "cell_type": "markdown",
   "metadata": {
    "id": "waGMwA8H_n17"
   },
   "source": [
    "**Part 5**\n",
    "\n",
    "Run match with *n* values 1-4, once with add_one and once without, and print the 8 tables to this notebook, one after another."
   ]
  },
  {
   "cell_type": "code",
   "execution_count": null,
   "metadata": {
    "colab": {
     "base_uri": "https://localhost:8080/",
     "height": 363
    },
    "id": "nk32naXyAMdl",
    "outputId": "f6f64e25-34c5-4eff-ccf6-0a01f01a3bc7"
   },
   "outputs": [],
   "source": [
    "def run_match():\n",
    "  for i in range(1,5):\n",
    "    print(f\"add_one = True and n = {i}\")\n",
    "    print(match(i,True))\n",
    "    print(f\"add_one = False and n = {i}\")\n",
    "    print(match(i,False))\n",
    "    \n",
    "\n",
    "run_match()"
   ]
  },
  {
   "cell_type": "markdown",
   "metadata": {
    "id": "cg4h5Cl0q2nR"
   },
   "source": [
    "**Part 6**\n",
    "\n",
    "Each line in the file test.csv contains a sentence and the language it belongs to. Write a function that uses your language models to classify the correct language of each sentence.\n",
    "\n",
    "Important note regarding the grading of this section: this is an open question, where a different solution will yield different accuracy scores. any solution that is not trivial (e.g. returning 'en' in all cases) will be excepted. We do reserve the right to give bonus points to exceptionally good/creative solutions."
   ]
  },
  {
   "cell_type": "code",
   "execution_count": null,
   "metadata": {
    "colab": {
     "base_uri": "https://localhost:8080/"
    },
    "id": "qD6IRIQLrlZF",
    "outputId": "343bf2ba-2783-4a2c-f82d-c6c384aa71df"
   },
   "outputs": [],
   "source": [
    "def classify():\n",
    "   models = {}\n",
    "   res = []\n",
    "   n=3\n",
    "   add_one =True\n",
    "   data_file_path = f'nlp-course/lm-languages-data-new/test.csv'\n",
    "   for language_model in languages:\n",
    "        models[language_model] = lm(n, preprocess(),f'nlp-course/lm-languages-data-new/{language_model}.csv',add_one)\n",
    "   tweets =  pd.read_csv(data_file_path).get('tweet_text')\n",
    "   for tweet in tweets:\n",
    "     correctLang = languages[0]\n",
    "     minperplexity = float('inf')\n",
    "     for lang, model in models.items():\n",
    "        perplexity = evalTweet(tweet,n,model)\n",
    "        if perplexity< minperplexity:\n",
    "          correctLang = lang\n",
    "          minperplexity = perplexity\n",
    "     res.append(correctLang)\n",
    "   return res\n",
    "\n",
    "\n",
    "\n",
    "\n",
    "   \n",
    "\n",
    "  # TODO\n",
    "clasification_result = classify()\n",
    "print(clasification_result)"
   ]
  },
  {
   "cell_type": "markdown",
   "metadata": {
    "id": "q5ECmLd3rktZ"
   },
   "source": [
    "**Part 7**\n",
    "\n",
    "Calculate the F1 score of your output from part 6. (hint: you can use https://scikit-learn.org/stable/modules/generated/sklearn.metrics.f1_score.html). \n"
   ]
  },
  {
   "cell_type": "code",
   "execution_count": null,
   "metadata": {
    "colab": {
     "base_uri": "https://localhost:8080/"
    },
    "id": "VOBO3YQls66r",
    "outputId": "1630d42e-d31f-4059-c605-982efa90e370"
   },
   "outputs": [],
   "source": [
    "def calc_f1(result):\n",
    "     data_file_path = f'nlp-course/lm-languages-data-new/test.csv'\n",
    "     labels = pd.read_csv(data_file_path).get('label')\n",
    "     print(list(labels))\n",
    "     return f1_score(list(labels), clasification_result,average=\"micro\")\n",
    "\n",
    "  # TODO\n",
    "\n",
    "calc_f1(clasification_result)"
   ]
  },
  {
   "cell_type": "markdown",
   "metadata": {
    "id": "iEtckSWNANqW"
   },
   "source": [
    "# **Good luck!**"
   ]
  }
 ],
 "metadata": {
  "colab": {
   "collapsed_sections": [],
   "name": "NLPAssignment_1.ipynb",
   "provenance": []
  },
  "kernelspec": {
   "display_name": "Python 3 (ipykernel)",
   "language": "python",
   "name": "python3"
  },
  "language_info": {
   "codemirror_mode": {
    "name": "ipython",
    "version": 3
   },
   "file_extension": ".py",
   "mimetype": "text/x-python",
   "name": "python",
   "nbconvert_exporter": "python",
   "pygments_lexer": "ipython3",
   "version": "3.8.10"
  }
 },
 "nbformat": 4,
 "nbformat_minor": 4
}
