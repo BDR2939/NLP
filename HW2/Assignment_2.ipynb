{
 "cells": [
  {
   "cell_type": "markdown",
   "metadata": {
    "id": "n0zB2BpE6DhW"
   },
   "source": [
    "# Assignment 2\n",
    "\n",
    "This assignment is about training and evaluating a POS tagger with some real data. The dataset is available through the Universal Dependencies (https://universaldependencies.org/) (UD) project. To get to know the project, please visit https://universaldependencies.org/introduction.html)"
   ]
  },
  {
   "cell_type": "code",
   "execution_count": null,
   "metadata": {},
   "outputs": [],
   "source": [
    "!pip install conllutils\n",
    "!pip install conllu\n"
   ]
  },
  {
   "cell_type": "code",
   "execution_count": null,
   "metadata": {
    "colab": {
     "base_uri": "https://localhost:8080/"
    },
    "id": "iRm7zcfq56HF",
    "outputId": "a9a71595-3a76-45e7-9b6d-52bc01d27245"
   },
   "outputs": [
    {
     "name": "stdout",
     "output_type": "stream",
     "text": [
      "Requirement already satisfied: conllutils in /usr/local/lib/python3.7/dist-packages (1.1.4)\n",
      "Requirement already satisfied: numpy in /usr/local/lib/python3.7/dist-packages (from conllutils) (1.19.5)\n"
     ]
    }
   ],
   "source": [
    "import numpy as np\n",
    "import operator\n",
    "import nltk\n",
    "\n",
    "import conllutils\n",
    "from io import open\n",
    "from conllu import parse_incr\n",
    "\n",
    "from collections import defaultdict\n",
    "from conllutils import pipe\n",
    "\n"
   ]
  },
  {
   "cell_type": "markdown",
   "metadata": {
    "id": "UH-Xvqip6Teu"
   },
   "source": [
    "**Part 1** (getting the data)\n",
    "\n",
    "You can download the dataset files directly from the UD website, but it will let you only download all the languages in one compressed file. In this assignment you will be working with th GUM dataset, which you can download directly from:\n",
    "https://github.com/UniversalDependencies/UD_English-GUM.\n",
    "Please download it to your colab machine.\n",
    "\n"
   ]
  },
  {
   "cell_type": "code",
   "execution_count": null,
   "metadata": {
    "colab": {
     "base_uri": "https://localhost:8080/"
    },
    "id": "nsZsyTVC6Sw0",
    "outputId": "6a52943a-ce6d-498e-9664-54d85bc4041d"
   },
   "outputs": [
    {
     "name": "stdout",
     "output_type": "stream",
     "text": [
      "Cloning into 'UD_English-GUM'...\n",
      "remote: Enumerating objects: 2259, done.\u001b[K\n",
      "remote: Counting objects: 100% (1270/1270), done.\u001b[K\n",
      "remote: Compressing objects: 100% (499/499), done.\u001b[K\n",
      "remote: Total 2259 (delta 1114), reused 920 (delta 771), pack-reused 989\u001b[K\n",
      "Receiving objects: 100% (2259/2259), 14.99 MiB | 9.96 MiB/s, done.\n",
      "Resolving deltas: 100% (2004/2004), done.\n"
     ]
    }
   ],
   "source": [
    "!git clone https://github.com/UniversalDependencies/UD_English-GUM"
   ]
  },
  {
   "cell_type": "markdown",
   "metadata": {
    "id": "CZZGOtoteWHz"
   },
   "source": [
    "We will use the (train/dev/test) files:\n",
    "\n",
    "UD_English-GUM/en_gum-ud-train.conllu\n",
    "\n",
    "UD_English-GUM/en_gum-ud-dev.conllu\n",
    "\n",
    "UD_English-GUM/en_gum-ud-test.conllu\n",
    "\n",
    "They are all formatted in the conllu format. You may read about it [here](https://universaldependencies.org/format.html). There is a utility library **conllutils**, which can help you read the data into the memory. It has already been installed and imported above.\n",
    "\n",
    "You should write a code that reads the three datasets into memory. \n",
    "You may choose the data structure by yourself. \n",
    "As you can see\n",
    "1. every word is represented by a line\n",
    "2. columns representing specific features. \n",
    "   * We are only interested in the first and fourth columns \n",
    "   * corresponding to the word and its POS tag."
   ]
  },
  {
   "cell_type": "code",
   "execution_count": null,
   "metadata": {},
   "outputs": [],
   "source": [
    "def read_conllu(path):\n",
    "    \"https://www.youtube.com/watch?v=lvJRFMvWtFI\"\n",
    "    # train data\n",
    "    list_of_words  = []\n",
    "    idx = 0\n",
    "    data_file = open(path, \"r\", encoding=\"utf-8\")\n",
    "    annotation = data_file.read()\n",
    "    parse_annotation = conllu.parse(annotation)\n",
    "    data_dict = defaultdict(lambda : defaultdict(dict))\n",
    "    # item index\n",
    "    item_idx = 1\n",
    "    for item in parse_annotation:\n",
    "        \n",
    "        # get text tokens\n",
    "        line_tokens = item.filter()\n",
    "        \n",
    "        \n",
    "        # get token\n",
    "        sentence_tokens = list(map(lambda x: x, line_tokens))\n",
    "        \n",
    "     \n",
    "        # get meta data\n",
    "        metadata = item.metadata\n",
    "        text = metadata['text']\n",
    "        \n",
    "        # token index \n",
    "        for i_token in sentence_tokens:\n",
    "            \n",
    "            if 'lemma' in i_token.keys():\n",
    "                # get token line\n",
    "                word = i_token['lemma']\n",
    "                pos_tag =  i_token['upos']\n",
    "                list_of_words.append(word)\n",
    "                if not 'text' in  data_dict[item_idx].keys():\n",
    "                    data_dict[item_idx]['text'] = text\n",
    "\n",
    "                data_dict[item_idx][word] = pos_tag\n",
    "            else:\n",
    "                continue\n",
    "        item_idx += 1\n",
    "\n",
    "    return data_dict, list_of_words"
   ]
  },
  {
   "cell_type": "markdown",
   "metadata": {},
   "source": [
    "## Set Path's"
   ]
  },
  {
   "cell_type": "code",
   "execution_count": null,
   "metadata": {
    "id": "v7A0-DjWg2JW"
   },
   "outputs": [],
   "source": [
    "# Your code goes here\n",
    "user = 'Or'\n",
    "if user == 'Or':\n",
    "    ud_dev =   r\"C:\\MSC\\NLP2\\HW2\\UD_English-GUM\\en_gum-ud-dev.conllu\"\n",
    "    ud_train = r\"C:\\MSC\\NLP2\\HW2\\UD_English-GUM\\en_gum-ud-train.conllu\"\n",
    "    ud_test =  r\"C:\\MSC\\NLP2\\HW2\\UD_English-GUM\\en_gum-ud-test.conllu\"\n",
    "elif == roni:\n",
    "    ud_dev =   r\"C:\\MSC\\NLP2\\HW2\\UD_English-GUM\\en_gum-ud-dev.conllu\"\n",
    "    ud_train = r\"C:\\MSC\\NLP2\\HW2\\UD_English-GUM\\en_gum-ud-train.conllu\"\n",
    "    ud_test =  r\"C:\\MSC\\NLP2\\HW2\\UD_English-GUM\\en_gum-ud-test.conllu\"\n",
    "else:\n",
    "    ud_dev =   r\"C:\\MSC\\NLP2\\HW2\\UD_English-GUM\\en_gum-ud-dev.conllu\"\n",
    "    ud_train = r\"C:\\MSC\\NLP2\\HW2\\UD_English-GUM\\en_gum-ud-train.conllu\"\n",
    "    ud_test =  r\"C:\\MSC\\NLP2\\HW2\\UD_English-GUM\\en_gum-ud-test.conllu\""
   ]
  },
  {
   "cell_type": "code",
   "execution_count": null,
   "metadata": {},
   "outputs": [],
   "source": [
    "\n",
    "# get data\n",
    "\n",
    "train_dict, train_list_of_word = read_conllu(ud_train)\n",
    "dev_dict, dev_list_of_word = read_conllu(ud_dev)\n",
    "test_dict, test_list_of_word  = read_conllu(ud_test)\n",
    "train_words, train_counts_word = np.unique(np.array(train_list_of_word), return_counts=True)\n",
    "word_freq = train_counts_word/np.sum(train_counts_word)\n"
   ]
  },
  {
   "cell_type": "markdown",
   "metadata": {
    "id": "q0Z9BMNM7EP3"
   },
   "source": [
    "**Part 2**\n",
    "\n",
    "Write a class **simple_tagger**\n",
    "1. with methods *train* and *evaluate*. \n",
    "2. The method *train* receives the data as a list of sentences\n",
    "3. use it for training the tagger.\n",
    "4. In this case, it should learn a simple dictionary that maps words to tags\n",
    "    * defined as the most frequent tag for every word (in case there is more than one most frequent tag, you may select one of them randomly).\n",
    "    * The dictionary should be stored as a class member for evaluation.\n",
    "\n",
    "The method *evaluate* \n",
    "1. receives the data as a list of sentences\n",
    "2. use it to evaluate the tagger performance. \n",
    "3. Specifically, you should calculate the word and sentence level accuracy.\n",
    "4. The evaluation process is simply going word by word\n",
    "5. querying the dictionary (created by the train method) for each word’s tag and compare it to the true tag of that word. \n",
    "6. The word-level accuracy is the number of successes divided by the number of words.\n",
    "7. For OOV (out of vocabulary, or unknown) words\n",
    "8. the tagger should assign the most frequent tag in the entire training set (i.e., the mode).\n",
    "9. The function should return the two numbers:\n",
    "    * word level accuracy\n",
    "    * sentence level accuracy.\n"
   ]
  },
  {
   "cell_type": "code",
   "execution_count": null,
   "metadata": {
    "id": "MtivZLBH7dXq"
   },
   "outputs": [],
   "source": [
    "class simple_tagger:\n",
    "      def train(self, data):\n",
    "        # TODO\n",
    "  \n",
    "      def evaluate(self, data):\n",
    "        # TODO"
   ]
  },
  {
   "cell_type": "markdown",
   "metadata": {
    "id": "etK9iZIq8i0X"
   },
   "source": [
    "**Part 3**\n",
    "\n",
    "Similar to part 2, write the class hmm_tagger which implements HMM tagging. \n",
    "1. The method *train* should build the matrices A, B and Pi, from the data as discussed in class.\n",
    "2. The method *evaluate* should find the best tag sequence for every input sentence using he Viterbi decoding algorithm, and then calculate the word and sentence level accuracy using the gold-standard tags.\n",
    "    * You should implement the Viterbi algorithm in the next block and call it from your class.\n",
    "\n",
    "## Additional guidance:\n",
    "1. The matrix B represents the emissions probabilities. \n",
    "    * Since B is a matrix, you should build a dictionary that maps every unique word in the corpus to a serial numeric id (starting with 0). \n",
    "    * This way columns in B represents word ids.\n",
    "2. During the evaluation\n",
    "    * you should first convert each word into it’s index \n",
    "    * and then create the observation array to be given to Viterbi as a list of ids.\n",
    "    * OOV words should be assigned with a random tag.\n",
    "        * To make sure Viterbi works appropriately, you can simply break the sentence into multiple segments every time you see an OOV word, and decode every segment individually using Viterbi.\n"
   ]
  },
  {
   "cell_type": "code",
   "execution_count": null,
   "metadata": {
    "id": "TpH7GuiQ9L6W"
   },
   "outputs": [],
   "source": [
    "class hmm_tagger:\n",
    "    def train(self, data):\n",
    "        # TODO\n",
    "\n",
    "    def evaluate(self, data):\n",
    "        # TODO"
   ]
  },
  {
   "cell_type": "code",
   "execution_count": null,
   "metadata": {
    "id": "DR6KJW2F9yqt"
   },
   "outputs": [],
   "source": [
    "# Viterbi\n",
    "def viterbi (observations, A, B, Pi):\n",
    "  #...\n",
    "\n",
    "  return best_sequence\n",
    "\n",
    "# A simple example to run the Viterbi algorithm:\n",
    "#( Same as in presentation \"NLP 3 - Tagging\" on slide 35)\n",
    "\n",
    "# A = np.array([[0.3, 0.7], [0.2, 0.8]])\n",
    "# B = np.array([[0.1, 0.1, 0.3, 0.5], [0.3, 0.3, 0.2, 0.2]])\n",
    "# Pi = np.array([0.4, 0.6])\n",
    "# print(viterbi([0, 3, 2, 0], A, B, Pi))\n",
    "# Expected output: 1, 1, 1, 1"
   ]
  },
  {
   "cell_type": "markdown",
   "metadata": {
    "id": "-YZO0uGL-4S-"
   },
   "source": [
    "**Part 4**\n",
    "\n",
    "Compare the results obtained from both taggers and a MEMM tagger, implemented by NLTK (a known NLP library), over both, the dev and test datasets. To train the NLTK MEMM tagger you should execute the following lines (it may take some time to train...):"
   ]
  },
  {
   "cell_type": "code",
   "execution_count": null,
   "metadata": {
    "id": "KYhtboJm_Iyx"
   },
   "outputs": [],
   "source": [
    "from nltk.tag import tnt \n",
    "\n",
    "tnt_pos_tagger = tnt.TnT()\n",
    "tnt_pos_tagger.train(train_data)\n",
    "print(tnt_pos_tagger.evaluate(test_data))"
   ]
  },
  {
   "cell_type": "markdown",
   "metadata": {
    "id": "5DIvvzsq_U-o"
   },
   "source": [
    "Print both, word level and sentence level accuracy for all the three taggers in a table."
   ]
  },
  {
   "cell_type": "code",
   "execution_count": null,
   "metadata": {
    "id": "V32202cikh7u"
   },
   "outputs": [],
   "source": [
    "# Your code goes here"
   ]
  }
 ],
 "metadata": {
  "colab": {
   "name": "Assignment 2",
   "provenance": []
  },
  "kernelspec": {
   "display_name": "Python 3 (ipykernel)",
   "language": "python",
   "name": "python3"
  },
  "language_info": {
   "codemirror_mode": {
    "name": "ipython",
    "version": 3
   },
   "file_extension": ".py",
   "mimetype": "text/x-python",
   "name": "python",
   "nbconvert_exporter": "python",
   "pygments_lexer": "ipython3",
   "version": "3.9.7"
  }
 },
 "nbformat": 4,
 "nbformat_minor": 4
}
