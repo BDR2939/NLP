{
  "cells": [
    {
      "cell_type": "markdown",
      "metadata": {
        "id": "n0zB2BpE6DhW"
      },
      "source": [
        "# Assignment 2\n",
        "\n",
        "This assignment is about training and evaluating a POS tagger with some real data. The dataset is available through the Universal Dependencies (https://universaldependencies.org/) (UD) project. To get to know the project, please visit https://universaldependencies.org/introduction.html)"
      ]
    },
    {
      "cell_type": "code",
      "execution_count": 1,
      "metadata": {
        "colab": {
          "base_uri": "https://localhost:8080/"
        },
        "id": "tA7ZRDZj3V0_",
        "outputId": "1c5f7c01-314d-4f96-8e22-923ef8403c97"
      },
      "outputs": [
        {
          "name": "stdout",
          "output_type": "stream",
          "text": [
            "Collecting conllutils\n",
            "  Downloading conllutils-1.1.4.tar.gz (18 kB)\n",
            "Requirement already satisfied: numpy in /usr/local/lib/python3.7/dist-packages (from conllutils) (1.21.6)\n",
            "Building wheels for collected packages: conllutils\n",
            "  Building wheel for conllutils (setup.py) ... \u001b[?25l\u001b[?25hdone\n",
            "  Created wheel for conllutils: filename=conllutils-1.1.4-py3-none-any.whl size=17697 sha256=15e49b94130707a99ee738b6cf2d8f5c8fa0e57db16e396c92ddd04914286ad6\n",
            "  Stored in directory: /root/.cache/pip/wheels/70/9c/af/495f50326290abb66f82ac92273619cdad168cc1b79af379db\n",
            "Successfully built conllutils\n",
            "Installing collected packages: conllutils\n",
            "Successfully installed conllutils-1.1.4\n",
            "Collecting conllu\n",
            "  Downloading conllu-4.4.1-py2.py3-none-any.whl (15 kB)\n",
            "Installing collected packages: conllu\n",
            "Successfully installed conllu-4.4.1\n",
            "Collecting conll-df\n",
            "  Downloading conll_df-0.0.4.tar.gz (3.5 kB)\n",
            "Requirement already satisfied: pandas>=0.19.2 in /usr/local/lib/python3.7/dist-packages (from conll-df) (1.3.5)\n",
            "Requirement already satisfied: python-dateutil>=2.7.3 in /usr/local/lib/python3.7/dist-packages (from pandas>=0.19.2->conll-df) (2.8.2)\n",
            "Requirement already satisfied: numpy>=1.17.3 in /usr/local/lib/python3.7/dist-packages (from pandas>=0.19.2->conll-df) (1.21.6)\n",
            "Requirement already satisfied: pytz>=2017.3 in /usr/local/lib/python3.7/dist-packages (from pandas>=0.19.2->conll-df) (2022.1)\n",
            "Requirement already satisfied: six>=1.5 in /usr/local/lib/python3.7/dist-packages (from python-dateutil>=2.7.3->pandas>=0.19.2->conll-df) (1.15.0)\n",
            "Building wheels for collected packages: conll-df\n",
            "  Building wheel for conll-df (setup.py) ... \u001b[?25lerror\n",
            "\u001b[31m  ERROR: Failed building wheel for conll-df\u001b[0m\n",
            "\u001b[?25h  Running setup.py clean for conll-df\n",
            "Failed to build conll-df\n",
            "Installing collected packages: conll-df\n",
            "    Running setup.py install for conll-df ... \u001b[?25l\u001b[?25hdone\n",
            "\u001b[33m  DEPRECATION: conll-df was installed using the legacy 'setup.py install' method, because a wheel could not be built for it. A possible replacement is to fix the wheel build issue reported above. You can find discussion regarding this at https://github.com/pypa/pip/issues/8368.\u001b[0m\n",
            "Successfully installed conll-df-0.0.4\n"
          ]
        }
      ],
      "source": [
        "! pip install conllutils\n",
        "! pip install conllu\n",
        "! pip install conll-df\n"
      ]
    },
    {
      "cell_type": "code",
      "execution_count": 2,
      "metadata": {
        "id": "iRm7zcfq56HF"
      },
      "outputs": [],
      "source": [
        "import numpy as np\n",
        "import pandas as pd\n",
        "import operator\n",
        "import nltk\n",
        "\n",
        "import conllutils\n",
        "from io import open\n",
        "from conllu import parse_incr\n",
        "\n",
        "from collections import defaultdict\n",
        "from conllutils import pipe\n",
        "from conll_df import conll_df\n",
        "\n"
      ]
    },
    {
      "cell_type": "markdown",
      "metadata": {
        "id": "UH-Xvqip6Teu"
      },
      "source": [
        "**Part 1** (getting the data)\n",
        "\n",
        "You can download the dataset files directly from the UD website, but it will let you only download all the languages in one compressed file. In this assignment you will be working with th GUM dataset, which you can download directly from:\n",
        "https://github.com/UniversalDependencies/UD_English-GUM.\n",
        "Please download it to your colab machine.\n",
        "\n"
      ]
    },
    {
      "cell_type": "code",
      "execution_count": 3,
      "metadata": {
        "colab": {
          "base_uri": "https://localhost:8080/"
        },
        "id": "nsZsyTVC6Sw0",
        "outputId": "615658e7-1c09-4a5f-b263-fe9fc8cf0b71"
      },
      "outputs": [
        {
          "name": "stdout",
          "output_type": "stream",
          "text": [
            "Cloning into 'UD_English-GUM'...\n",
            "remote: Enumerating objects: 3888, done.\u001b[K\n",
            "remote: Counting objects: 100% (190/190), done.\u001b[K\n",
            "remote: Compressing objects: 100% (184/184), done.\u001b[K\n",
            "remote: Total 3888 (delta 149), reused 11 (delta 6), pack-reused 3698\u001b[K\n",
            "Receiving objects: 100% (3888/3888), 36.19 MiB | 15.15 MiB/s, done.\n",
            "Resolving deltas: 100% (3499/3499), done.\n"
          ]
        }
      ],
      "source": [
        "!git clone https://github.com/UniversalDependencies/UD_English-GUM"
      ]
    },
    {
      "cell_type": "markdown",
      "metadata": {
        "id": "CZZGOtoteWHz"
      },
      "source": [
        "We will use the (train/dev/test) files:\n",
        "\n",
        "UD_English-GUM/en_gum-ud-train.conllu\n",
        "\n",
        "UD_English-GUM/en_gum-ud-dev.conllu\n",
        "\n",
        "UD_English-GUM/en_gum-ud-test.conllu\n",
        "\n",
        "They are all formatted in the conllu format. You may read about it [here](https://universaldependencies.org/format.html). There is a utility library **conllutils**, which can help you read the data into the memory. It has already been installed and imported above.\n",
        "\n",
        "You should write a code that reads the three datasets into memory. \n",
        "You may choose the data structure by yourself. \n",
        "As you can see\n",
        "1. every word is represented by a line\n",
        "2. columns representing specific features. \n",
        "   * We are only interested in the first and fourth columns \n",
        "   * corresponding to the word and its POS tag."
      ]
    },
    {
      "cell_type": "markdown",
      "metadata": {
        "id": "6Gh4qtav3V1E"
      },
      "source": [
        "### Set Path's"
      ]
    },
    {
      "cell_type": "code",
      "execution_count": 29,
      "metadata": {
        "id": "v7A0-DjWg2JW"
      },
      "outputs": [],
      "source": [
        "# Your code goes here\n",
        "FOLDER = 'UD_English-GUM'\n",
        "\n",
        "\n",
        "\n",
        "user = 'va'\n",
        "if user == 'Or':\n",
        "    ud_dev =   r\"C:\\MSC\\NLP2\\HW2\\UD_English-GUM\\en_gum-ud-dev.conllu\"\n",
        "    ud_train = r\"C:\\MSC\\NLP2\\HW2\\UD_English-GUM\\en_gum-ud-train.conllu\"\n",
        "    ud_test =  r\"C:\\MSC\\NLP2\\HW2\\UD_English-GUM\\en_gum-ud-test.conllu\"\n",
        "elif user == 'Roni':\n",
        "    ud_dev =   '/Users/ronibendom/Master/NLP/HW2/UD_English-GUM/en_gum-ud-dev.conllu'\n",
        "    ud_train = '/Users/ronibendom/Master/NLP/HW2/UD_English-GUM/en_gum-ud-train.conllu'\n",
        "    ud_test =  '/Users/ronibendom/Master/NLP/HW2/UD_English-GUM/en_gum-ud-test.conllu'\n",
        "else:\n",
        "    ud_dev =   f'{FOLDER}/en_gum-ud-dev.conllu'\n",
        "    ud_train = f'{FOLDER}/en_gum-ud-train.conllu'\n",
        "    ud_test =  f'{FOLDER}/en_gum-ud-test.conllu'\n",
        "\n",
        "train_csv = FOLDER + '/en_gum-ud-train.csv'\n",
        "test_csv = FOLDER + '/en_gum-ud-test.csv'\n",
        "dev_csv = FOLDER + '/en_gum-ud-dev.csv'\n"
      ]
    },
    {
      "cell_type": "markdown",
      "metadata": {
        "id": "6KyXIP4H3V1F"
      },
      "source": [
        "### Get Data"
      ]
    },
    {
      "cell_type": "code",
      "execution_count": 30,
      "metadata": {
        "id": "rF6GfFbV3V1G"
      },
      "outputs": [],
      "source": [
        "train_df = conll_df(ud_train, file_index=False)\n",
        "train_df = train_df.iloc[:, [0, 3]]\n",
        "\n",
        "dev_df = conll_df(ud_dev, file_index=False)\n",
        "dev_df = dev_df.iloc[:, [0, 3]]\n",
        "\n",
        "test_df = conll_df(ud_test, file_index=False)\n",
        "test_df = test_df.iloc[:, [0, 3]]\n",
        "\n",
        "# train_df.to_csv(train_csv)\n",
        "# test_df.to_csv(test_csv)\n",
        "# dev_df.to_csv(dev_csv)"
      ]
    },
    {
      "cell_type": "code",
      "execution_count": 31,
      "metadata": {
        "id": "K0wq55qc5jRv"
      },
      "outputs": [],
      "source": [
        "\n",
        "# train_df = pd.read_csv(train_csv)\n",
        "# dev_df = pd.read_csv(dev_csv)\n",
        "# test_df = pd.read_csv(test_csv)"
      ]
    },
    {
      "cell_type": "code",
      "execution_count": 32,
      "metadata": {
        "id": "Tfqqluah3V1H"
      },
      "outputs": [],
      "source": [
        "def extract_ommision_matrix_B(train_df, unique_pos, words_indexing_dict):\n",
        "\n",
        "    B = np.zeros([len(unique_pos), len(words_indexing_dict)])\n",
        "    B_row_index = 0\n",
        "    for i_pos in unique_pos:\n",
        "        i_pos_train_df = train_df.loc[train_df['p'] == i_pos]\n",
        "        i_pos_words, i_pos_word_count = np.unique(i_pos_train_df.loc[:, 'w'].values, return_counts=True)\n",
        "        i_pos_percent = i_pos_word_count / np.sum(i_pos_word_count)\n",
        "        for i_word in i_pos_words:\n",
        "            updated_percent_per_word_per_pos = i_pos_percent[np.where(i_pos_words == i_word)[0][0]]\n",
        "            B_column_word_index = words_indexing_dict[i_word]\n",
        "            B[B_row_index, B_column_word_index] = updated_percent_per_word_per_pos\n",
        "        B_row_index += 1\n",
        "\n",
        "    return B\n",
        "\n",
        "def generate_transition_matrix_A_and_pi(train_df, unique_pos, pos_indexing_dict):\n",
        "    A = np.zeros((len(unique_pos), len(unique_pos)))\n",
        "    pi = np.zeros(([len(unique_pos), 1]))\n",
        "\n",
        "    sentence_ind = 1\n",
        "    pi[pos_indexing_dict[train_df.iloc[0, :]['p']]] += 1\n",
        "\n",
        "    for i in range(1, train_df.shape[0]):\n",
        "        curr_sentence_ind = train_df.index[i][0]\n",
        "        if curr_sentence_ind != sentence_ind:\n",
        "            pi[pos_indexing_dict[train_df.iloc[i, :]['p']]] += 1\n",
        "            sentence_ind += 1\n",
        "        else:\n",
        "            A[pos_indexing_dict[train_df.iloc[i-1, :]['p']], pos_indexing_dict[train_df.iloc[i, :]['p']]] += 1\n",
        "    \n",
        "    A = A/A.sum(axis=1, keepdims=True)\n",
        "    pi = pi / sum(pi)\n",
        "\n",
        "    return A, pi"
      ]
    },
    {
      "cell_type": "markdown",
      "metadata": {
        "id": "zeK8JGmQ3V1J"
      },
      "source": [
        "### Create matrices"
      ]
    },
    {
      "cell_type": "code",
      "execution_count": 35,
      "metadata": {
        "id": "_rVOEoAu3V1K"
      },
      "outputs": [],
      "source": [
        "### Create matrices\n",
        "pos_values = list(np.unique(train_df.loc[:, 'p'].values, return_counts=True))\n",
        "unique_words = np.unique(train_df.loc[:, 'w'].values)\n",
        "unique_pos = pos_values[0]\n",
        "\n",
        "words_indexing_dict = {unique_words[i] : i for i in range(len(unique_words))}\n",
        "pos_indexing_dict = {unique_pos[i] : i for i in range(len(unique_pos))}\n",
        "\n",
        "# Generate omissiom matrix\n",
        "B = extract_ommision_matrix_B(train_df, unique_pos, words_indexing_dict)\n",
        "\n",
        "# Generate transition matrix and initial marix\n",
        "A, pi_initial_matrix = generate_transition_matrix_A_and_pi(train_df, unique_pos, pos_indexing_dict)"
      ]
    },
    {
      "cell_type": "markdown",
      "metadata": {
        "id": "DhAV0YAw3V1L"
      },
      "source": [
        "### Create sentences from df"
      ]
    },
    {
      "cell_type": "code",
      "execution_count": null,
      "metadata": {
        "id": "lw5H1AHI3V1L"
      },
      "outputs": [],
      "source": [
        "def sentences_from_df(df):\n",
        "    sentences = []\n",
        "    sentence_ind = 1\n",
        "    sentence = []\n",
        "\n",
        "    for i in range(df.shape[0]):\n",
        "        curr_sentence_ind = df.index[i][0]\n",
        "        if curr_sentence_ind != sentence_ind:\n",
        "            sentences.append(str.join(\" \", sentence))\n",
        "            sentence_ind += 1\n",
        "            sentence = []\n",
        "        sentence.append(df.iloc[i, :]['w'])\n",
        "\n",
        "    return sentences"
      ]
    },
    {
      "cell_type": "code",
      "execution_count": null,
      "metadata": {
        "id": "EVW-Dmp33V1M"
      },
      "outputs": [],
      "source": [
        "sentences = sentences_from_df(train_df)"
      ]
    },
    {
      "cell_type": "markdown",
      "metadata": {
        "id": "q0Z9BMNM7EP3"
      },
      "source": [
        "**Part 2**\n",
        "\n",
        "Write a class **simple_tagger**\n",
        "1. with methods *train* and *evaluate*. \n",
        "2. The method *train* receives the data as a list of sentences\n",
        "3. use it for training the tagger.\n",
        "4. In this case, it should learn a simple dictionary that maps words to tags\n",
        "    * defined as the most frequent tag for every word (in case there is more than one most frequent tag, you may select one of them randomly).\n",
        "    * The dictionary should be stored as a class member for evaluation.\n",
        "\n",
        "The method *evaluate* \n",
        "1. receives the data as a list of sentences\n",
        "2. use it to evaluate the tagger performance. \n",
        "3. Specifically, you should calculate the word and sentence level accuracy.\n",
        "4. The evaluation process is simply going word by word\n",
        "5. querying the dictionary (created by the train method) for each word’s tag and compare it to the true tag of that word. \n",
        "6. The word-level accuracy is the number of successes divided by the number of words.\n",
        "7. For OOV (out of vocabulary, or unknown) words\n",
        "8. the tagger should assign the most frequent tag in the entire training set (i.e., the mode).\n",
        "9. The function should return the two numbers:\n",
        "    * word level accuracy\n",
        "    * sentence level accuracy.\n",
        "\n",
        "\n",
        "Write a class simple_tagger, with methods train and evaluate. The method train receives the data as a list of sentences, and use it for training the tagger. In this case, it should learn a simple dictionary that maps words to tags, defined as the most frequent tag for every word (in case there is more than one most frequent tag, you may select one of them randomly). The dictionary should be stored as a class member for evaluation.\n",
        "\n",
        "The method evaluate receives the data as a list of sentences, and use it to evaluate the tagger performance. Specifically, you should calculate the word and sentence level accuracy. The evaluation process is simply going word by word, querying the dictionary (created by the train method) for each word’s tag and compare it to the true tag of that word. The word-level accuracy is the number of successes divided by the number of words. For OOV (out of vocabulary, or unknown) words, the tagger should assign the most frequent tag in the entire training set (i.e., the mode). The function should return the two numbers: word level accuracy and sentence level accuracy."
      ]
    },
    {
      "cell_type": "code",
      "execution_count": null,
      "metadata": {
        "id": "MtivZLBH7dXq"
      },
      "outputs": [],
      "source": [
        "class simple_tagger:\n",
        "  def __init__(self):\n",
        "    self.tagger = {}\n",
        "    self.most_frequent_pos = ''\n",
        "\n",
        "  def train(self, data):\n",
        "    unique_words = np.unique(data.loc[:, 'w'].values)\n",
        "    tagger = {}\n",
        "\n",
        "    for word in unique_words:\n",
        "        pos_of_word = np.unique(data.loc[data['w'] == word, 'p'], return_counts=True)\n",
        "        tagger[word] = pos_of_word[0][np.where(pos_of_word[1] == max(pos_of_word[1]))][0]\n",
        "\n",
        "    self.tagger = tagger\n",
        "\n",
        "    pos = np.unique(data['p'], return_counts=True)\n",
        "    self.most_frequent_pos = pos[0][np.where(pos[1] == max(pos[1]))][0]\n",
        "    \n",
        "  def evaluate(self, data):\n",
        "    # TODO\n",
        "    pass"
      ]
    },
    {
      "cell_type": "code",
      "execution_count": null,
      "metadata": {
        "id": "FxPfsMRW3V1N"
      },
      "outputs": [],
      "source": []
    },
    {
      "cell_type": "code",
      "execution_count": null,
      "metadata": {
        "id": "ArJn89Hi3V1N"
      },
      "outputs": [],
      "source": [
        "\n",
        "tagger = simple_tagger()\n",
        "tagger.train(train_df)"
      ]
    },
    {
      "cell_type": "code",
      "execution_count": null,
      "metadata": {
        "id": "Rg0O7iYU3V1N"
      },
      "outputs": [],
      "source": [
        "# https://piazza.com/class/klxc3m1tzqz2o8?cid=40 - \"You should evaluate on the test and dev datasets separately. The train file is for training only\"\n",
        "simple_tagger_word_level_accuracy_train, simple_tagger_sentence_level_accuracy_train = tagger.evaluate(train_df)\n",
        "simple_tagger_word_level_accuracy_test, simple_tagger_sentence_level_accuracy_test = tagger.evaluate(test_df)\n",
        "simple_tagger_word_level_accuracy_dev, simple_tagger_sentence_level_accuracy_dev = tagger.evaluate(dev_df)\n",
        "\n"
      ]
    },
    {
      "cell_type": "code",
      "execution_count": null,
      "metadata": {
        "id": "o8Va-Ujt3V1N"
      },
      "outputs": [],
      "source": []
    },
    {
      "cell_type": "code",
      "execution_count": null,
      "metadata": {
        "id": "STiEtEUK3V1N"
      },
      "outputs": [],
      "source": [
        "print(f'*train* data: word accuracy = {simple_tagger_word_level_accuracy_train} %, sentence accuracy = {simple_tagger_sentence_level_accuracy_train} %')\n",
        "print(f'*test* data: word accuracy = {simple_tagger_word_level_accuracy_test} %, sentence accuracy = {simple_tagger_sentence_level_accuracy_test} %')\n",
        "print(f'*dev* data: word accuracy = {simple_tagger_word_level_accuracy_dev} %, sentence accuracy = {simple_tagger_sentence_level_accuracy_dev} %')\n",
        "\n"
      ]
    },
    {
      "cell_type": "markdown",
      "metadata": {
        "id": "etK9iZIq8i0X"
      },
      "source": [
        "**Part 3**\n",
        "\n",
        "Similar to part 2, write the class hmm_tagger, which implements HMM tagging. The method *train* should build the matrices A, B and Pi, from the data as discussed in class. The method *evaluate* should find the best tag sequence for every input sentence using he Viterbi decoding algorithm, and then calculate the word and sentence level accuracy using the gold-standard tags. You should implement the Viterbi algorithm in the next block and call it from your class.\n",
        "\n",
        "Additional guidance:\n",
        "1. The matrix B represents the emissions probabilities. Since B is a matrix, you should build a dictionary that maps every unique word in the corpus to a serial numeric id (starting with 0). This way columns in B represents word ids.\n",
        "2. During the evaluation, you should first convert each word into it’s index and then create the observation array to be given to Viterbi, as a list of ids. OOV words should be assigned with a random tag. To make sure Viterbi works appropriately, you can simply break the sentence into multiple segments every time you see an OOV word, and decode every segment individually using Viterbi.\n"
      ]
    },
    {
      "cell_type": "code",
      "execution_count": null,
      "metadata": {
        "id": "TpH7GuiQ9L6W"
      },
      "outputs": [],
      "source": [
        "class hmm_tagger:\n",
        "    def train(self, data):\n",
        "        # TODO\n",
        "\n",
        "    def evaluate(self, data):\n",
        "        # TODO"
      ]
    },
    {
      "cell_type": "code",
      "execution_count": null,
      "metadata": {
        "id": "DR6KJW2F9yqt"
      },
      "outputs": [],
      "source": [
        "# Viterbi\n",
        "def viterbi (observations, A, B, Pi):\n",
        "  #...\n",
        "\n",
        "  return best_sequence\n",
        "\n",
        "# A simple example to run the Viterbi algorithm:\n",
        "#( Same as in presentation \"NLP 3 - Tagging\" on slide 35)\n",
        "\n",
        "# A = np.array([[0.3, 0.7], [0.2, 0.8]])\n",
        "# B = np.array([[0.1, 0.1, 0.3, 0.5], [0.3, 0.3, 0.2, 0.2]])\n",
        "# Pi = np.array([0.4, 0.6])\n",
        "# print(viterbi([0, 3, 2, 0], A, B, Pi))\n",
        "# Expected output: 1, 1, 1, 1"
      ]
    },
    {
      "cell_type": "markdown",
      "metadata": {
        "id": "-YZO0uGL-4S-"
      },
      "source": [
        "**Part 4**\n",
        "\n",
        "Compare the results obtained from both taggers and a MEMM tagger, implemented by NLTK (a known NLP library), over both, the dev and test datasets. To train the NLTK MEMM tagger you should execute the following lines (it may take some time to train...):"
      ]
    },
    {
      "cell_type": "code",
      "execution_count": null,
      "metadata": {
        "id": "KYhtboJm_Iyx"
      },
      "outputs": [],
      "source": [
        "from nltk.tag import tnt \n",
        "\n",
        "tnt_pos_tagger = tnt.TnT()\n",
        "tnt_pos_tagger.train(train_data)\n",
        "print(tnt_pos_tagger.evaluate(test_data))"
      ]
    },
    {
      "cell_type": "markdown",
      "metadata": {
        "id": "5DIvvzsq_U-o"
      },
      "source": [
        "Print both, word level and sentence level accuracy for all the three taggers in a table."
      ]
    },
    {
      "cell_type": "code",
      "execution_count": null,
      "metadata": {
        "id": "V32202cikh7u"
      },
      "outputs": [],
      "source": [
        "# Your code goes here"
      ]
    }
  ],
  "metadata": {
    "colab": {
      "collapsed_sections": [],
      "name": "Assignment_2.ipynb",
      "provenance": []
    },
    "kernelspec": {
      "display_name": "Python 3 (ipykernel)",
      "language": "python",
      "name": "python3"
    },
    "language_info": {
      "codemirror_mode": {
        "name": "ipython",
        "version": 3
      },
      "file_extension": ".py",
      "mimetype": "text/x-python",
      "name": "python",
      "nbconvert_exporter": "python",
      "pygments_lexer": "ipython3",
      "version": "3.9.7"
    }
  },
  "nbformat": 4,
  "nbformat_minor": 0
}
