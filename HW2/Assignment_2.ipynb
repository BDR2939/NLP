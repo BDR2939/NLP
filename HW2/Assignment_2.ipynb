{
 "cells": [
  {
   "cell_type": "markdown",
   "metadata": {
    "id": "n0zB2BpE6DhW"
   },
   "source": [
    "# Assignment 2\n",
    "\n",
    "This assignment is about training and evaluating a POS tagger with some real data. The dataset is available through the Universal Dependencies (https://universaldependencies.org/) (UD) project. To get to know the project, please visit https://universaldependencies.org/introduction.html)"
   ]
  },
  {
   "cell_type": "code",
   "execution_count": 1,
   "metadata": {
    "colab": {
     "base_uri": "https://localhost:8080/"
    },
    "id": "tA7ZRDZj3V0_",
    "outputId": "1c5f7c01-314d-4f96-8e22-923ef8403c97"
   },
   "outputs": [
    {
     "name": "stdout",
     "output_type": "stream",
     "text": [
      "Requirement already satisfied: conllutils in /opt/homebrew/Caskroom/miniforge/base/envs/envTest/lib/python3.8/site-packages (1.1.4)\n",
      "Requirement already satisfied: numpy in /opt/homebrew/Caskroom/miniforge/base/envs/envTest/lib/python3.8/site-packages (from conllutils) (1.21.4)\n",
      "Requirement already satisfied: conllu in /opt/homebrew/Caskroom/miniforge/base/envs/envTest/lib/python3.8/site-packages (4.4.1)\n",
      "Requirement already satisfied: conll-df in /opt/homebrew/Caskroom/miniforge/base/envs/envTest/lib/python3.8/site-packages (0.0.4)\n",
      "Requirement already satisfied: pandas>=0.19.2 in /opt/homebrew/Caskroom/miniforge/base/envs/envTest/lib/python3.8/site-packages (from conll-df) (1.3.4)\n",
      "Requirement already satisfied: python-dateutil>=2.7.3 in /opt/homebrew/Caskroom/miniforge/base/envs/envTest/lib/python3.8/site-packages (from pandas>=0.19.2->conll-df) (2.8.2)\n",
      "Requirement already satisfied: numpy>=1.20.0 in /opt/homebrew/Caskroom/miniforge/base/envs/envTest/lib/python3.8/site-packages (from pandas>=0.19.2->conll-df) (1.21.4)\n",
      "Requirement already satisfied: pytz>=2017.3 in /opt/homebrew/Caskroom/miniforge/base/envs/envTest/lib/python3.8/site-packages (from pandas>=0.19.2->conll-df) (2021.3)\n",
      "Requirement already satisfied: six>=1.5 in /opt/homebrew/Caskroom/miniforge/base/envs/envTest/lib/python3.8/site-packages (from python-dateutil>=2.7.3->pandas>=0.19.2->conll-df) (1.15.0)\n"
     ]
    }
   ],
   "source": [
    "! pip install conllutils\n",
    "! pip install conllu\n",
    "! pip install conll-df\n"
   ]
  },
  {
   "cell_type": "code",
   "execution_count": 2,
   "metadata": {
    "id": "iRm7zcfq56HF"
   },
   "outputs": [],
   "source": [
    "import numpy as np\n",
    "import pandas as pd\n",
    "import operator\n",
    "import nltk\n",
    "\n",
    "import conllutils\n",
    "from io import open\n",
    "from conllu import parse_incr\n",
    "\n",
    "from collections import defaultdict\n",
    "from conllutils import pipe\n",
    "from conll_df import conll_df\n",
    "\n"
   ]
  },
  {
   "cell_type": "markdown",
   "metadata": {
    "id": "UH-Xvqip6Teu"
   },
   "source": [
    "**Part 1** (getting the data)\n",
    "\n",
    "You can download the dataset files directly from the UD website, but it will let you only download all the languages in one compressed file. In this assignment you will be working with th GUM dataset, which you can download directly from:\n",
    "https://github.com/UniversalDependencies/UD_English-GUM.\n",
    "Please download it to your colab machine.\n",
    "\n"
   ]
  },
  {
   "cell_type": "code",
   "execution_count": 3,
   "metadata": {
    "colab": {
     "base_uri": "https://localhost:8080/"
    },
    "id": "nsZsyTVC6Sw0",
    "outputId": "615658e7-1c09-4a5f-b263-fe9fc8cf0b71"
   },
   "outputs": [
    {
     "name": "stdout",
     "output_type": "stream",
     "text": [
      "fatal: destination path 'UD_English-GUM' already exists and is not an empty directory.\n"
     ]
    }
   ],
   "source": [
    "!git clone https://github.com/UniversalDependencies/UD_English-GUM"
   ]
  },
  {
   "cell_type": "markdown",
   "metadata": {
    "id": "CZZGOtoteWHz"
   },
   "source": [
    "We will use the (train/dev/test) files:\n",
    "\n",
    "UD_English-GUM/en_gum-ud-train.conllu\n",
    "\n",
    "UD_English-GUM/en_gum-ud-dev.conllu\n",
    "\n",
    "UD_English-GUM/en_gum-ud-test.conllu\n",
    "\n",
    "They are all formatted in the conllu format. You may read about it [here](https://universaldependencies.org/format.html). There is a utility library **conllutils**, which can help you read the data into the memory. It has already been installed and imported above.\n",
    "\n",
    "You should write a code that reads the three datasets into memory. \n",
    "You may choose the data structure by yourself. \n",
    "As you can see\n",
    "1. every word is represented by a line\n",
    "2. columns representing specific features. \n",
    "   * We are only interested in the first and fourth columns \n",
    "   * corresponding to the word and its POS tag."
   ]
  },
  {
   "cell_type": "markdown",
   "metadata": {
    "id": "6Gh4qtav3V1E"
   },
   "source": [
    "### Set Path's"
   ]
  },
  {
   "cell_type": "code",
   "execution_count": 4,
   "metadata": {
    "id": "v7A0-DjWg2JW"
   },
   "outputs": [],
   "source": [
    "# Your code goes here\n",
    "FOLDER = 'UD_English-GUM'\n",
    "\n",
    "\n",
    "\n",
    "user = 'va'\n",
    "if user == 'Or':\n",
    "    ud_dev =   r\"C:\\MSC\\NLP2\\HW2\\UD_English-GUM\\en_gum-ud-dev.conllu\"\n",
    "    ud_train = r\"C:\\MSC\\NLP2\\HW2\\UD_English-GUM\\en_gum-ud-train.conllu\"\n",
    "    ud_test =  r\"C:\\MSC\\NLP2\\HW2\\UD_English-GUM\\en_gum-ud-test.conllu\"\n",
    "elif user == 'Roni':\n",
    "    ud_dev =   '/Users/ronibendom/Master/NLP/HW2/UD_English-GUM/en_gum-ud-dev.conllu'\n",
    "    ud_train = '/Users/ronibendom/Master/NLP/HW2/UD_English-GUM/en_gum-ud-train.conllu'\n",
    "    ud_test =  '/Users/ronibendom/Master/NLP/HW2/UD_English-GUM/en_gum-ud-test.conllu'\n",
    "else:\n",
    "    ud_dev =   f'{FOLDER}/en_gum-ud-dev.conllu'\n",
    "    ud_train = f'{FOLDER}/en_gum-ud-train.conllu'\n",
    "    ud_test =  f'{FOLDER}/en_gum-ud-test.conllu'\n",
    "\n",
    "train_csv = FOLDER + '/en_gum-ud-train.csv'\n",
    "test_csv = FOLDER + '/en_gum-ud-test.csv'\n",
    "dev_csv = FOLDER + '/en_gum-ud-dev.csv'\n"
   ]
  },
  {
   "cell_type": "markdown",
   "metadata": {
    "id": "6KyXIP4H3V1F"
   },
   "source": [
    "### Get Data"
   ]
  },
  {
   "cell_type": "code",
   "execution_count": 5,
   "metadata": {
    "id": "rF6GfFbV3V1G"
   },
   "outputs": [],
   "source": [
    "train_df = conll_df(ud_train, file_index=False)\n",
    "train_df = train_df.iloc[:, [0, 3]]\n",
    "\n",
    "dev_df = conll_df(ud_dev, file_index=False)\n",
    "dev_df = dev_df.iloc[:, [0, 3]]\n",
    "\n",
    "test_df = conll_df(ud_test, file_index=False)\n",
    "test_df = test_df.iloc[:, [0, 3]]\n",
    "\n",
    "# train_df.to_csv(train_csv)\n",
    "# test_df.to_csv(test_csv)\n",
    "# dev_df.to_csv(dev_csv)"
   ]
  },
  {
   "cell_type": "code",
   "execution_count": 6,
   "metadata": {
    "id": "K0wq55qc5jRv"
   },
   "outputs": [],
   "source": [
    "\n",
    "# train_df = pd.read_csv(train_csv)\n",
    "# dev_df = pd.read_csv(dev_csv)\n",
    "# test_df = pd.read_csv(test_csv)"
   ]
  },
  {
   "cell_type": "code",
   "execution_count": 7,
   "metadata": {
    "id": "Tfqqluah3V1H"
   },
   "outputs": [],
   "source": [
    "def extract_ommision_matrix_B(train_df, unique_pos, words_indexing_dict):\n",
    "\n",
    "    B = np.zeros([len(unique_pos), len(words_indexing_dict)])\n",
    "    B_row_index = 0\n",
    "    for i_pos in unique_pos:\n",
    "        i_pos_train_df = train_df.loc[train_df['p'] == i_pos]\n",
    "        i_pos_words, i_pos_word_count = np.unique(i_pos_train_df.loc[:, 'w'].values, return_counts=True)\n",
    "        i_pos_percent = i_pos_word_count / np.sum(i_pos_word_count)\n",
    "        for i_word in i_pos_words:\n",
    "            updated_percent_per_word_per_pos = i_pos_percent[np.where(i_pos_words == i_word)[0][0]]\n",
    "            B_column_word_index = words_indexing_dict[i_word]\n",
    "            B[B_row_index, B_column_word_index] = updated_percent_per_word_per_pos\n",
    "        B_row_index += 1\n",
    "\n",
    "    return B\n",
    "\n",
    "def generate_transition_matrix_A_and_pi(train_df, unique_pos, pos_indexing_dict):\n",
    "    A = np.zeros((len(unique_pos), len(unique_pos)))\n",
    "    pi = np.zeros(([len(unique_pos), 1]))\n",
    "\n",
    "    sentence_ind = 1\n",
    "    pi[pos_indexing_dict[train_df.iloc[0, :]['p']]] += 1\n",
    "\n",
    "    for i in range(1, train_df.shape[0]):\n",
    "        curr_sentence_ind = train_df.index[i][0]\n",
    "        if curr_sentence_ind != sentence_ind:\n",
    "            pi[pos_indexing_dict[train_df.iloc[i, :]['p']]] += 1\n",
    "            sentence_ind += 1\n",
    "        else:\n",
    "            A[pos_indexing_dict[train_df.iloc[i-1, :]['p']], pos_indexing_dict[train_df.iloc[i, :]['p']]] += 1\n",
    "    \n",
    "    A = A/A.sum(axis=1, keepdims=True)\n",
    "    pi = pi / sum(pi)\n",
    "\n",
    "    return A, pi"
   ]
  },
  {
   "cell_type": "markdown",
   "metadata": {
    "id": "zeK8JGmQ3V1J"
   },
   "source": [
    "### Create matrices"
   ]
  },
  {
   "cell_type": "code",
   "execution_count": 8,
   "metadata": {
    "id": "_rVOEoAu3V1K"
   },
   "outputs": [],
   "source": [
    "### Create matrices\n",
    "pos_values = list(np.unique(train_df.loc[:, 'p'].values, return_counts=True))\n",
    "unique_words = np.unique(train_df.loc[:, 'w'].values)\n",
    "unique_pos = pos_values[0]\n",
    "\n",
    "words_indexing_dict = {unique_words[i] : i for i in range(len(unique_words))}\n",
    "pos_indexing_dict = {unique_pos[i] : i for i in range(len(unique_pos))}\n",
    "\n",
    "# Generate omissiom matrix\n",
    "B = extract_ommision_matrix_B(train_df, unique_pos, words_indexing_dict)\n",
    "\n",
    "# Generate transition matrix and initial marix\n",
    "A, pi_initial_matrix = generate_transition_matrix_A_and_pi(train_df, unique_pos, pos_indexing_dict)"
   ]
  },
  {
   "cell_type": "markdown",
   "metadata": {
    "id": "DhAV0YAw3V1L"
   },
   "source": [
    "### Create sentences from df"
   ]
  },
  {
   "cell_type": "code",
   "execution_count": 10,
   "metadata": {
    "id": "lw5H1AHI3V1L"
   },
   "outputs": [],
   "source": [
    "def sentences_from_df(df):\n",
    "    sentences = []\n",
    "    sentence_ind = 1\n",
    "    sentence = []\n",
    "\n",
    "    for i in range(df.shape[0]):\n",
    "        curr_sentence_ind = df.index[i][0]\n",
    "        if curr_sentence_ind != sentence_ind:\n",
    "            sentences.append(str.join(\" \", sentence))\n",
    "            sentence_ind += 1\n",
    "            sentence = []\n",
    "        sentence.append(df.iloc[i, :]['w'])\n",
    "\n",
    "    return sentences"
   ]
  },
  {
   "cell_type": "code",
   "execution_count": 11,
   "metadata": {
    "id": "EVW-Dmp33V1M"
   },
   "outputs": [],
   "source": [
    "sentences = sentences_from_df(train_df)"
   ]
  },
  {
   "cell_type": "markdown",
   "metadata": {
    "id": "q0Z9BMNM7EP3"
   },
   "source": [
    "**Part 2**\n",
    "\n",
    "Write a class **simple_tagger**\n",
    "1. with methods *train* and *evaluate*. \n",
    "2. The method *train* receives the data as a list of sentences\n",
    "3. use it for training the tagger.\n",
    "4. In this case, it should learn a simple dictionary that maps words to tags\n",
    "    * defined as the most frequent tag for every word (in case there is more than one most frequent tag, you may select one of them randomly).\n",
    "    * The dictionary should be stored as a class member for evaluation.\n",
    "\n",
    "The method *evaluate* \n",
    "1. receives the data as a list of sentences\n",
    "2. use it to evaluate the tagger performance. \n",
    "3. Specifically, you should calculate the word and sentence level accuracy.\n",
    "4. The evaluation process is simply going word by word\n",
    "5. querying the dictionary (created by the train method) for each word’s tag and compare it to the true tag of that word. \n",
    "6. The word-level accuracy is the number of successes divided by the number of words.\n",
    "7. For OOV (out of vocabulary, or unknown) words\n",
    "8. the tagger should assign the most frequent tag in the entire training set (i.e., the mode).\n",
    "9. The function should return the two numbers:\n",
    "    * word level accuracy\n",
    "    * sentence level accuracy.\n",
    "\n",
    "\n",
    "Write a class simple_tagger, with methods train and evaluate. The method train receives the data as a list of sentences, and use it for training the tagger. In this case, it should learn a simple dictionary that maps words to tags, defined as the most frequent tag for every word (in case there is more than one most frequent tag, you may select one of them randomly). The dictionary should be stored as a class member for evaluation.\n",
    "\n",
    "The method evaluate receives the data as a list of sentences, and use it to evaluate the tagger performance. Specifically, you should calculate the word and sentence level accuracy. The evaluation process is simply going word by word, querying the dictionary (created by the train method) for each word’s tag and compare it to the true tag of that word. The word-level accuracy is the number of successes divided by the number of words. For OOV (out of vocabulary, or unknown) words, the tagger should assign the most frequent tag in the entire training set (i.e., the mode). The function should return the two numbers: word level accuracy and sentence level accuracy."
   ]
  },
  {
   "cell_type": "code",
   "execution_count": null,
   "metadata": {},
   "outputs": [],
   "source": [
    "def get_list_of_sentences_tag_lists(df):\n",
    "    word_index_array = df['i'].to_numpy()\n",
    "    initial_sentence_idx = np.where(word_index_array == 1)[0]\n",
    "    words_list = df['w'].to_list()\n",
    "    tag_list = df['p'].to_list()\n",
    "\n",
    "    sentence_list  = (initial_sentence_idx.size)*['None']\n",
    "    sentence_tag_list  = (initial_sentence_idx.size)*['None']\n",
    "\n",
    "    for sentence_idx in range(initial_sentence_idx.size):\n",
    "        if not sentence_idx == initial_sentence_idx.size-1:\n",
    "            \n",
    "            curr_sentence =  words_list[initial_sentence_idx[sentence_idx]:initial_sentence_idx[sentence_idx+1]]\n",
    "            curr_tag =  tag_list[initial_sentence_idx[sentence_idx]:initial_sentence_idx[sentence_idx+1]]\n",
    "        else:\n",
    "            curr_sentence =  words_list[initial_sentence_idx[sentence_idx]::]\n",
    "            curr_tag =  tag_list[initial_sentence_idx[sentence_idx]::]\n",
    "        \n",
    "        sentence_list[sentence_idx] = curr_sentence\n",
    "        sentence_tag_list[sentence_idx] = curr_tag\n",
    "\n",
    "    return sentence_list, sentence_tag_list"
   ]
  },
  {
   "cell_type": "code",
   "execution_count": 20,
   "metadata": {
    "id": "MtivZLBH7dXq"
   },
   "outputs": [],
   "source": [
    "\n",
    "class simple_tagger:\n",
    "    def __init__(self):\n",
    "        self.tagger = {}\n",
    "    \n",
    "    def train(self, data):\n",
    "        pos = np.unique(data['p'], return_counts=True)\n",
    "        most_frequent_pos = pos[0][np.where(pos[1] == max(pos[1]))][0]\n",
    "\n",
    "        tagger = defaultdict(lambda: most_frequent_pos)\n",
    "\n",
    "        unique_words = np.unique(data.loc[:, 'w'].values)\n",
    "        for word in unique_words:\n",
    "            word_data = data.loc[data['w'] == word]\n",
    "            word_data_count = word_data['p'].value_counts()\n",
    "            predicted_tag = word_data_count.index[0]\n",
    "            # predicted_tag = pos_of_word = np.unique(data.loc[data['w'] == word, 'p'], return_counts=True)\n",
    "            tagger[word] = predicted_tag\n",
    "\n",
    "        self.tagger = tagger\n",
    "    def evaluate(self, data):\n",
    "        # sentences = sentences_from_df(data)\n",
    "        sentences_list, sentence_tag_list = get_list_of_sentences_tag_lists(data)\n",
    "\n",
    "        words_success = 0\n",
    "        sentences_success = 0\n",
    "        idx = pd.IndexSlice\n",
    "        for sentence_num, (sentence, sentence_tags) in enumerate(zip(sentences_list, sentence_tag_list)):\n",
    "        # for sentence_num, sentence in enumerate(sentences, 1):\n",
    "            count_successes = 0\n",
    "            # sentence_df = data.loc[idx[sentence_num], 'p'].values\n",
    "            for word_num, (word, actual_tag) in enumerate(zip(sentence, sentence_tags)):\n",
    "            # for word_num, word in enumerate(sentence.split(' ')):\n",
    "                predicted_tag = self.tagger[word]\n",
    "                # actual_tag = sentence_df[word_num]\n",
    "\n",
    "                if predicted_tag == actual_tag:\n",
    "                    words_success += 1\n",
    "                    count_successes += 1\n",
    "\n",
    "            if count_successes == len(sentence)-1:\n",
    "                sentences_success += 1\n",
    "\n",
    "        word_accuracy = round(words_success / data.shape[0] * 100, 4)\n",
    "        sentence_accuracy = round(sentences_success / len(sentences_list) * 100, 4)\n",
    "\n",
    "        return word_accuracy, sentence_accuracy\n",
    "    \n",
    "    "
   ]
  },
  {
   "cell_type": "code",
   "execution_count": 21,
   "metadata": {
    "id": "ArJn89Hi3V1N"
   },
   "outputs": [],
   "source": [
    "tagger = simple_tagger()\n",
    "tagger.train(train_df)"
   ]
  },
  {
   "cell_type": "code",
   "execution_count": 22,
   "metadata": {
    "id": "Rg0O7iYU3V1N"
   },
   "outputs": [],
   "source": [
    "simple_tagger_word_accuracy_train, simple_tagger_sentence_accuracy_train = tagger.evaluate(train_df)\n",
    "simple_tagger_word_accuracy_dev, simple_tagger_sentence_accuracy_dev = tagger.evaluate(dev_df)\n",
    "simple_tagger_word_accuracy_test, simple_tagger_sentence_accuracy_test = tagger.evaluate(test_df)\n"
   ]
  },
  {
   "cell_type": "code",
   "execution_count": 24,
   "metadata": {
    "id": "STiEtEUK3V1N"
   },
   "outputs": [
    {
     "name": "stdout",
     "output_type": "stream",
     "text": [
      "train data: word accuracy = 93.0855%, sentence accuracy = 36.9323%\n",
      "dev data: word accuracy = 84.8186%, sentence accuracy = 16.8646%\n",
      "test data: word accuracy = 82.4505%, sentence accuracy = 16.0134%\n"
     ]
    }
   ],
   "source": [
    "\n",
    "\n",
    "result_list = [['train' ,simple_tagger_word_accuracy_train, simple_tagger_sentence_accuracy_train],\n",
    "['dev', simple_tagger_word_accuracy_dev, simple_tagger_sentence_accuracy_dev],\n",
    "['test', simple_tagger_word_accuracy_test, simple_tagger_sentence_accuracy_test]]\n",
    "\n",
    "simple_tagger_results =  pd.DataFrame(result_list, columns = ['data-set', 'word-accuracy[%]', 'sentence-accuracy[%]'])\n",
    "simple_tagger_results.head()"
   ]
  },
  {
   "cell_type": "markdown",
   "metadata": {
    "id": "etK9iZIq8i0X"
   },
   "source": [
    "**Part 3**\n",
    "\n",
    "Similar to part 2, write the class hmm_tagger, which implements HMM tagging. The method *train* should build the matrices A, B and Pi, from the data as discussed in class. The method *evaluate* should find the best tag sequence for every input sentence using he Viterbi decoding algorithm, and then calculate the word and sentence level accuracy using the gold-standard tags. You should implement the Viterbi algorithm in the next block and call it from your class.\n",
    "\n",
    "Additional guidance:\n",
    "1. The matrix B represents the emissions probabilities. Since B is a matrix, you should build a dictionary that maps every unique word in the corpus to a serial numeric id (starting with 0). This way columns in B represents word ids.\n",
    "2. During the evaluation, you should first convert each word into it’s index and then create the observation array to be given to Viterbi, as a list of ids. OOV words should be assigned with a random tag. To make sure Viterbi works appropriately, you can simply break the sentence into multiple segments every time you see an OOV word, and decode every segment individually using Viterbi.\n"
   ]
  },
  {
   "cell_type": "code",
   "execution_count": null,
   "metadata": {},
   "outputs": [],
   "source": [
    "def dptable(V):\n",
    "    yield \" \".join((\"%12d\" % i) for i in range(len(V)))\n",
    "    for state in V[0]:\n",
    "        yield \"%.7s: \" % state + \" \".join(\"%.7s\" % (\"%f\" % v[state][\"prob\"]) for v in V)\n",
    "\n",
    "def viterbi_algorithm(observations, states, start_p, trans_p, emit_p):\n",
    "    V = [{}]\n",
    "    for st in states:\n",
    "         V[0][st] = {\"prob\": start_p[st] * emit_p[st][observations[0]], \"prev\": None}\n",
    "   \n",
    "    for t in range(1, len(observations)):\n",
    "        V.append({})\n",
    "        for st in states:\n",
    "            max_tr_prob = V[t - 1][states[0]][\"prob\"] * trans_p[states[0]][st]\n",
    "            prev_st_selected = states[0]\n",
    "            for prev_st in states[1:]:\n",
    "                tr_prob = V[t - 1][prev_st][\"prob\"] * trans_p[prev_st][st]\n",
    "                if tr_prob > max_tr_prob:\n",
    "                    max_tr_prob = tr_prob\n",
    "                    prev_st_selected = prev_st\n",
    " \n",
    "            max_prob = max_tr_prob * emit_p[st][observations[t]]\n",
    "            V[t][st] = {\"prob\": max_prob, \"prev\": prev_st_selected}\n",
    "     \n",
    "    # for line in dptable(V):\n",
    "    #    print(line)\n",
    "    opt = []\n",
    "    max_prob = 0.0\n",
    "    best_st = None\n",
    " \n",
    "    for st, data in V[-1].items():\n",
    "        if data[\"prob\"] > max_prob:\n",
    "            max_prob = data[\"prob\"]\n",
    "            best_st = st\n",
    "    opt.append(best_st)\n",
    "    previous = best_st\n",
    " \n",
    " \n",
    "    for t in range(len(V) - 2, -1, -1):\n",
    "        opt.insert(0, V[t + 1][previous][\"prev\"])\n",
    "        previous = V[t + 1][previous][\"prev\"]\n",
    "        \n",
    "    return opt"
   ]
  },
  {
   "cell_type": "code",
   "execution_count": null,
   "metadata": {
    "id": "TpH7GuiQ9L6W"
   },
   "outputs": [],
   "source": [
    "   \n",
    "class hmm_tagger:\n",
    "    data = pd.DataFrame()\n",
    "    A = []\n",
    "    B = []\n",
    "    Pi = []\n",
    "    uniqueWordsArr = []\n",
    "    \n",
    "    def __init__(self, data_df):\n",
    "        \n",
    "        unique_pos, pos_counts = list(np.unique(data_df.loc[:, 'p'].values, return_counts=True))\n",
    "        unique_words, word_counts = np.unique(data_df.loc[:, 'w'].values, return_counts=True)\n",
    "        unique_words_list  = unique_words.tolist()\n",
    "        unique_pos_list  = unique_pos.tolist()\n",
    "        \n",
    "        self.data_df = data_df\n",
    "        self.unique_pos = unique_pos\n",
    "        self.unique_words = unique_words\n",
    "        self.unique_words_list = unique_words_list\n",
    "        self.unique_pos_list = unique_pos_list\n",
    "\n",
    "\n",
    "    \n",
    "    def train(self):\n",
    "\n",
    "        data_df = self.data_df\n",
    "        unique_pos = self.unique_pos\n",
    "        unique_words = self.unique_words\n",
    "        \n",
    "        \n",
    "        B = extract_ommision_matrix_B(self.data_df, unique_pos, unique_words)\n",
    "        A = generate_transition_matrix_A(self.data_df, unique_pos, unique_words)\n",
    "        Pi = np.ones([unique_pos.size,1])*(1/unique_pos.size)\n",
    "\n",
    "        B = pd.DataFrame(B.T, index = unique_words, columns = unique_pos)\n",
    "        A = pd.DataFrame(A.T, index =unique_pos , columns = unique_pos)\n",
    "        Pi = pd.DataFrame(Pi.T, columns = unique_pos)\n",
    "   \n",
    "        self.states = tuple(unique_pos)\n",
    "        self.A = A.to_dict()\n",
    "        self.B = B.to_dict()\n",
    "        self.Pi = Pi.to_dict('records')[0]\n",
    "        \n",
    "        # self.A, self.B, self.Pi = calc_A_B_Pi(data_df)\n",
    "        self.uniqueWordsArr = unique_words.tolist()\n",
    "\n",
    "   \n",
    "    \n",
    "    def evaluate(self, data):\n",
    "        # sentences = sentences_from_df(data)\n",
    "        sentences_list, sentence_tag_list = get_list_of_sentences_tag_lists(data)\n",
    "        sentenceIdx = [] \n",
    "        words_success = 0\n",
    "        sentences_success = 0\n",
    "        idx = pd.IndexSlice\n",
    "        for sentence_num, (sentence, sentence_tags) in enumerate(zip(sentences_list, sentence_tag_list)):\n",
    "            # for sentence_num, sentence in enumerate(sentences, 1):\n",
    "            count_successes = 0\n",
    "            \n",
    "            \n",
    "            # validate all word in sentence is in train data set otherwise\n",
    "            # choose randomly word from bank of word\n",
    "            for i_word_idx, word in enumerate(sentence):\n",
    "                if not word in self.unique_words:\n",
    "                    sentence[i_word_idx] = random.choice(self.unique_words_list)\n",
    "                \n",
    "                \n",
    "            predicted_tag_list = viterbi_algorithm(tuple(sentence), self.states, self.Pi, self.A, self.B)  \n",
    "            \n",
    "            for word_num, (predicted_tag, actual_tag) in enumerate(zip(predicted_tag_list, sentence_tags)):\n",
    "                # print('word nun ' + str(word_num))\n",
    "\n",
    "                if predicted_tag == actual_tag:\n",
    "                    words_success += 1\n",
    "                    count_successes += 1\n",
    "\n",
    "            if count_successes == len(sentence)-1:\n",
    "                sentences_success += 1\n",
    "\n",
    "        word_accuracy = round(words_success / data.shape[0] * 100, 4)\n",
    "        sentence_accuracy = round(sentences_success / len(sentences_list) * 100, 4)\n",
    "\n",
    "        return word_accuracy, sentence_accuracy\n"
   ]
  },
  {
   "cell_type": "code",
   "execution_count": null,
   "metadata": {
    "id": "DR6KJW2F9yqt"
   },
   "outputs": [],
   "source": [
    "\n",
    "hmmTagger = hmm_tagger(train_df)\n",
    "hmmTagger.train()\n",
    "\n",
    "hmm_word_level_accuracy_train, hmm_sentence_level_accuracy_train = hmmTagger.evaluate(train_df)\n",
    "hmm_word_level_accuracy_test, hmm_sentence_level_accuracy_test = hmmTagger.evaluate(test_df)\n",
    "hmm_word_level_accuracy_dev, hmm_sentence_level_accuracy_dev = hmmTagger.evaluate(dev_df)\n"
   ]
  },
  {
   "cell_type": "code",
   "execution_count": null,
   "metadata": {},
   "outputs": [],
   "source": [
    "\n",
    "\n",
    "result_list = [['train' ,hmm_word_level_accuracy_train, hmm_sentence_level_accuracy_train],\n",
    "['dev', hmm_word_level_accuracy_dev, hmm_sentence_level_accuracy_dev],\n",
    "['test', hmm_word_level_accuracy_test, hmm_sentence_level_accuracy_test]]\n",
    "\n",
    "simple_tagger_results =  pd.DataFrame(result_list, columns = ['data-set', 'word-accuracy[%]', 'sentence-accuracy[%]'])\n",
    "simple_tagger_results.head()"
   ]
  },
  {
   "cell_type": "markdown",
   "metadata": {
    "id": "-YZO0uGL-4S-"
   },
   "source": [
    "**Part 4**\n",
    "\n",
    "Compare the results obtained from both taggers and a MEMM tagger, implemented by NLTK (a known NLP library), over both, the dev and test datasets. To train the NLTK MEMM tagger you should execute the following lines (it may take some time to train...):"
   ]
  },
  {
   "cell_type": "code",
   "execution_count": null,
   "metadata": {
    "id": "KYhtboJm_Iyx"
   },
   "outputs": [],
   "source": [
    "from nltk.tag import tnt \n",
    "\n",
    "tnt_pos_tagger = tnt.TnT()\n",
    "tnt_pos_tagger.train(train_data)\n",
    "print(tnt_pos_tagger.evaluate(test_data))"
   ]
  },
  {
   "cell_type": "markdown",
   "metadata": {
    "id": "5DIvvzsq_U-o"
   },
   "source": [
    "Print both, word level and sentence level accuracy for all the three taggers in a table."
   ]
  },
  {
   "cell_type": "code",
   "execution_count": null,
   "metadata": {
    "id": "V32202cikh7u"
   },
   "outputs": [],
   "source": [
    "# Your code goes here"
   ]
  }
 ],
 "metadata": {
  "colab": {
   "collapsed_sections": [],
   "name": "Assignment_2.ipynb",
   "provenance": []
  },
  "kernelspec": {
   "display_name": "Python 3 (ipykernel)",
   "language": "python",
   "name": "python3"
  },
  "language_info": {
   "codemirror_mode": {
    "name": "ipython",
    "version": 3
   },
   "file_extension": ".py",
   "mimetype": "text/x-python",
   "name": "python",
   "nbconvert_exporter": "python",
   "pygments_lexer": "ipython3",
   "version": "3.9.7"
  }
 },
 "nbformat": 4,
 "nbformat_minor": 4
}
