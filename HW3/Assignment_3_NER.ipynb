{
 "cells": [
  {
   "cell_type": "markdown",
   "metadata": {
    "id": "k-WJBimYDLJS"
   },
   "source": [
    "# Assignment 3\n",
    "Training a neural named entity recognition (NER) tagger "
   ]
  },
  {
   "cell_type": "code",
   "execution_count": 1,
   "metadata": {
    "id": "3enPCGBF8FlX"
   },
   "outputs": [],
   "source": [
    "import torch\n",
    "import torch.nn as nn\n",
    "import os \n",
    "import numpy as np\n",
    "from random import shuffle\n",
    "from sklearn.metrics import classification_report\n",
    "from tqdm import tqdm"
   ]
  },
  {
   "cell_type": "markdown",
   "metadata": {
    "id": "V5QSIEoyDdWh"
   },
   "source": [
    "In this assignment you are required to build a full training and testing pipeline for a neural sequentail tagger for named entities, using LSTM.\n",
    "\n",
    "The dataset that you will be working on is called ReCoNLL 2003, which is a corrected version of the CoNLL 2003 dataset: https://www.clips.uantwerpen.be/conll2003/ner/\n",
    "\n",
    "[Train data](https://drive.google.com/file/d/1hG66e_OoezzeVKho1w7ysyAx4yp0ShDz/view?usp=sharing)\n",
    "\n",
    "[Dev data](https://drive.google.com/file/d/1EAF-VygYowU1XknZhvzMi2CID65I127L/view?usp=sharing)\n",
    "\n",
    "[Test data](https://drive.google.com/file/d/16gug5wWnf06JdcBXQbcICOZGZypgr4Iu/view?usp=sharing)\n",
    "\n",
    "As you can see, the annotated texts are labeled according to the IOB annotation scheme, for 3 entity types: Person, Organization, Location."
   ]
  },
  {
   "cell_type": "markdown",
   "metadata": {
    "id": "5ul2Y3vuPoV8"
   },
   "source": [
    "**Task 1:** Write a funtion for reading the data from a single file (of the ones that are provided above). The function recieves a filepath and then it encodes every sentence individually using a pair of lists, one list contains the words and one list contains the tags. Each list pair will be added to a general list (data), which will be returned back from the function."
   ]
  },
  {
   "cell_type": "markdown",
   "metadata": {},
   "source": [
    "## set path's"
   ]
  },
  {
   "cell_type": "code",
   "execution_count": null,
   "metadata": {},
   "outputs": [],
   "source": [
    "main_folder = r'C:\\MSC\\NLP2\\HW3'\n",
    "train_path = os.path.join(main_folder, 'connl03_train.txt')\n",
    "test_path = os.path.join(main_folder, 'connl03_test.txt')\n",
    "dev_path = os.path.join(main_folder, 'connl03_dev.txt')"
   ]
  },
  {
   "cell_type": "code",
   "execution_count": 6,
   "metadata": {
    "id": "prgzgtt8Jw4Y"
   },
   "outputs": [
    {
     "ename": "SyntaxError",
     "evalue": "(unicode error) 'unicodeescape' codec can't decode bytes in position 6-7: malformed \\N character escape (2622154096.py, line 2)",
     "output_type": "error",
     "traceback": [
      "\u001b[1;36m  Input \u001b[1;32mIn [6]\u001b[1;36m\u001b[0m\n\u001b[1;33m    main_folder = 'C:\\MSC\\NLP2\\HW3'\u001b[0m\n\u001b[1;37m                                   ^\u001b[0m\n\u001b[1;31mSyntaxError\u001b[0m\u001b[1;31m:\u001b[0m (unicode error) 'unicodeescape' codec can't decode bytes in position 6-7: malformed \\N character escape\n"
     ]
    }
   ],
   "source": [
    "def read_data(filepath):\n",
    "    data = []\n",
    "    with open(filepath) as file:\n",
    "        words = []\n",
    "        labels = []\n",
    "\n",
    "        for index, line in enumerate(file, start=1):\n",
    "            if line != '\\n':\n",
    "                word, label = line.split()\n",
    "                words.append(word)\n",
    "                labels.append(label)\n",
    "            else:\n",
    "                data.append((words, labels))\n",
    "                words = []\n",
    "                labels = []\n",
    "    \n",
    "    return data\n",
    "\n",
    "train = read_data(train_path)\n",
    "dev = read_data(test_path)\n",
    "test = read_data(dev_path)"
   ]
  },
  {
   "cell_type": "markdown",
   "metadata": {
    "id": "IuGwk6OwRWGS"
   },
   "source": [
    "The following Vocab class can be served as a dictionary that maps words and tags into Ids. The UNK_TOKEN should be used for words that are not part of the training data."
   ]
  },
  {
   "cell_type": "code",
   "execution_count": null,
   "metadata": {},
   "outputs": [],
   "source": [
    "\n",
    "UNK_TOKEN = 0\n",
    "\n",
    "\n",
    "class Vocab:\n",
    "    def __init__(self):\n",
    "        \"\"\"\n",
    "        tag2id/id2tag  - tags to each other from label to integer number\n",
    "        n_words - count the # of word in sentence\n",
    "        \"\"\"\n",
    "        self.word2id = {\"__unk__\": UNK_TOKEN}\n",
    "        self.id2word = {UNK_TOKEN: \"__unk__\"}\n",
    "        self.n_words = 1\n",
    "        \n",
    "        self.tag2id = {\"O\":0, \"B-PER\":1, \"I-PER\": 2, \"B-LOC\": 3, \"I-LOC\": 4, \"B-ORG\": 5, \"I-ORG\": 6}\n",
    "        self.id2tag = {0:\"O\", 1:\"B-PER\", 2:\"I-PER\", 3:\"B-LOC\", 4:\"I-LOC\", 5:\"B-ORG\", 6:\"I-ORG\"}\n",
    "    \n",
    "    \n",
    "    def index_words(self, words):\n",
    "        \"\"\"\n",
    "        for given token list get token index in sentence\n",
    "        \"\"\"\n",
    "        word_indexes = [self.index_word(w) for w in words]\n",
    "        return word_indexes\n",
    "\n",
    "\n",
    "    def index_tags(self, tags):\n",
    "        \"\"\"\n",
    "        for given label list get label index\n",
    "        \"\"\"\n",
    "        tag_indexes = [self.tag2id[t] for t in tags]\n",
    "        return tag_indexes\n",
    "    \n",
    "\n",
    "    def index_word(self, w):\n",
    "        \"\"\"\n",
    "     \n",
    "        \"\"\"\n",
    "        if w not in self.word2id:\n",
    "            self.word2id[w] = self.n_words\n",
    "            self.id2word[self.n_words] = w\n",
    "            self.n_words += 1\n",
    "        \n",
    "        return self.word2id[w]\n",
    "    "
   ]
  },
  {
   "cell_type": "markdown",
   "metadata": {
    "id": "iDKYryfKfNdh"
   },
   "source": [
    "**Task 2:** Write a function prepare_data that takes one of the [train, dev, test] and the Vocab instance, for converting each pair of (words,tags) to a pair of indexes. Each pair should be added to data_sequences, which will be returned back from the function."
   ]
  },
  {
   "cell_type": "code",
   "execution_count": null,
   "metadata": {
    "id": "noIY3zWKvhBd"
   },
   "outputs": [],
   "source": [
    "vocab = Vocab()\n",
    "\n",
    "def prepare_data(data, vocab):\n",
    "    data_sequences = []\n",
    "    # TODO - your code...\n",
    "    \"\"\"\n",
    "    this loop run on the data, for each sequence we generating tesor to\n",
    "    contain the token of sequence\n",
    "    \"\"\"\n",
    "    for i_words, i_tags in data:\n",
    "        \n",
    "        words_indexes_tensor = torch.tensor(vocab.index_words(i_words), dtype=torch.long)\n",
    "        tags_indexes_tensor = torch.tensor(vocab.index_tags(i_tags), dtype=torch.long)\n",
    "        # append data and label tensors\n",
    "        data_sequences.append((words_indexes_tensor, tags_indexes_tensor))\n",
    "\n",
    "    return data_sequences, vocab\n",
    "\n",
    "train_sequences, vocab = prepare_data(train, vocab)\n",
    "dev_sequences, vocab = prepare_data(dev, vocab)\n",
    "test_sequences, vocab = prepare_data(test, vocab)"
   ]
  },
  {
   "cell_type": "markdown",
   "metadata": {
    "id": "UccfiRRtiEet"
   },
   "source": [
    "**Task 3:** Write NERNet, a PyTorch Module for labeling words with NER tags. \n",
    "\n",
    "*input_size:* the size of the vocabulary\n",
    "\n",
    "*embedding_size:* the size of the embeddings\n",
    "\n",
    "*hidden_size:* the LSTM hidden size\n",
    "\n",
    "*output_size:* the number tags we are predicting for\n",
    "\n",
    "*n_layers:* the number of layers we want to use in LSTM\n",
    "\n",
    "*directions:* could 1 or 2, indicating unidirectional or bidirectional LSTM, respectively\n",
    "\n",
    "The input for your forward function should be a single sentence tensor.\n",
    "\n",
    "*note:* the embeddings in this section are learned embedding. That means that you don't need to use pretrained embedding like the one used in class. You will use them in part 5"
   ]
  },
  {
   "cell_type": "code",
   "execution_count": null,
   "metadata": {
    "id": "Ke1LyUQNyQaM"
   },
   "outputs": [],
   "source": [
    "\n",
    "class NERNet(nn.Module):\n",
    "    \n",
    "    def __init__(self, input_size, embedding_size, hidden_size, output_size, n_layers, directions):\n",
    "        super(NERNet, self).__init__()\n",
    "        # TODO: your code...\n",
    "        self.embedding = nn.Embedding(input_size, embedding_size)\n",
    "        self.lstm = nn.LSTM(embedding_size, hidden_size, n_layers, bidirectional=(True if directions==2 else False))\n",
    "        self.out = nn.Linear(hidden_size*directions, output_size)\n",
    "\n",
    "        self.hidden_size = hidden_size\n",
    "        self.n_layers = n_layers\n",
    "        self.directions = directions\n",
    "\n",
    "\n",
    "    def forward(self, input_sentence):\n",
    "        # TODO: your code...\n",
    "        \n",
    "        # get sentence token numbers to understand output & input size\n",
    "        dimension = len(input_sentence)\n",
    "        \n",
    "        # initial the hidden to None because none sentence inter\n",
    "        hidden = None\n",
    "\n",
    "        # 1. foward input sentence into the embeding\n",
    "        embedded = self.embedding(input_sentence)\n",
    "\n",
    "        # 2. foward embedding to LSTM\n",
    "        lstm_output, _ = self.lstm(embedded.view(dimension, 1, -1), hidden) # The view function is meant to reshape the tensor https://stackoverflow.com/a/48650355/7786691\n",
    "\n",
    "        # 3. foward to get predictions  - linear transformation to the incoming data\n",
    "        output = self.out(lstm_output.view(dimension, -1)) \n",
    "\n",
    "        return output\n"
   ]
  },
  {
   "cell_type": "markdown",
   "metadata": {},
   "source": [
    "## help function to train % evaluate "
   ]
  },
  {
   "cell_type": "code",
   "execution_count": null,
   "metadata": {},
   "outputs": [],
   "source": [
    "def get_model_results(model, test_sequences):\n",
    "    \"\"\"\n",
    "    \n",
    "\n",
    "    Parameters\n",
    "    ----------\n",
    "    model : Torch model  - \n",
    "        DESCRIPTION: LSTM model.\n",
    "    test_sequences : list\n",
    "        DESCRIPTION: input list of coupels [[word_tensor, lebel_tensor] , ...]\n",
    "    \n",
    "    the function get model results\n",
    "    \n",
    "    Returns\n",
    "    -------\n",
    "    all_test_words_pred : list\n",
    "    all_test_words_true : list\n",
    "    binary_test_words_pred : list\n",
    "    binary_test_words_true : list\n",
    "    \"\"\"\n",
    "    # generate test tokens prediction\n",
    "    all_test_words_pred = []\n",
    "    all_test_words_true = []\n",
    "\n",
    "    # generate test binnary prediction\n",
    "    binary_test_words_pred = []\n",
    "    binary_test_words_true = []\n",
    "    for sentence, labels in test_sequences:\n",
    "        sentence_tensor = torch.LongTensor(sentence).cuda()\n",
    "        labels_tensor = torch.LongTensor(labels).cuda()\n",
    "\n",
    "        _, pred_labels = model(sentence_tensor).T.max(0)\n",
    "\n",
    "        all_test_words_pred += pred_labels.tolist()\n",
    "        all_test_words_true += labels.tolist()\n",
    "\n",
    "        binary_test_words_pred += [1 if i >= 1 else i for i in all_test_words_pred]\n",
    "        binary_test_words_true += [1 if i >= 1 else i for i in all_test_words_true]\n",
    "    return all_test_words_pred, all_test_words_true, binary_test_words_pred, binary_test_words_true"
   ]
  },
  {
   "cell_type": "markdown",
   "metadata": {
    "id": "dEGSQdeUkTP8"
   },
   "source": [
    "**Task 4:** write a training loop, which takes a model (instance of NERNet) and number of epochs to train on. The loss is always CrossEntropyLoss and the optimizer is always Adam."
   ]
  },
  {
   "cell_type": "code",
   "execution_count": null,
   "metadata": {
    "id": "avkHfjT3k0HM"
   },
   "outputs": [],
   "source": [
    "\n",
    "def train_loop(model, n_epochs, train_sequences):\n",
    "    #\n",
    "    all_target_names = [\"O\", \"B-PER\", \"I-PER\", \"B-LOC\", \"I-LOC\", \"B-ORG\", \"I-ORG\"]\n",
    "    binary_target_names = [\"O\", \"OTHERS\"]\n",
    "    \n",
    "    # Loss function\n",
    "    criterion = nn.CrossEntropyLoss()\n",
    "\n",
    "    # Optimizer (ADAM is a fancy version of SGD)\n",
    "    optimizer = torch.optim.Adam(model.parameters(), lr=0.0001)\n",
    "  \n",
    "    # shuffle data before training phase\n",
    "    shuffle(train_sequences)\n",
    "    STEP = 400 \n",
    "    \n",
    "    for e in range(1, n_epochs + 1):\n",
    "        print('start ephoc #' + str(e))\n",
    "        # TODO - your code goes here...\n",
    "        \"\"\"\n",
    "        tqdm - add progress bar\n",
    "        \"\"\"\n",
    "        for sequence_idx, sequence in tqdm(enumerate(train_sequences)):\n",
    "            # get sentence tokens, and labels \n",
    "            sentence, labels = sequence\n",
    "            \n",
    "            # check if there is empty sentence\n",
    "            if labels.__len__() == 0:\n",
    "                continue\n",
    "            \n",
    "            # insert sentence tokens into tensor\n",
    "            sentence_tensor = torch.LongTensor(sentence).cuda()\n",
    "            \n",
    "            # insert sentence labels into tensor\n",
    "            labels_tensor = torch.LongTensor(labels).cuda()\n",
    "            \n",
    "            # Sets the gradients of all optimized to zero.\n",
    "            model.zero_grad()\n",
    "            \n",
    "            # foward sentence to model\n",
    "            scores = model(sentence_tensor)\n",
    "            \n",
    "            # Computes the gradient of current tensor\n",
    "            criterion(scores, labels_tensor).backward()\n",
    "            \n",
    "            # once the gradients are computed use them to optimize model\n",
    "            optimizer.step()\n",
    "            print('start ephoc #' + str(e))\n",
    "        \n",
    "        print('finshed ephoc #' + str(e) + ', ephoch results:' )\n",
    "        all_train_words_pred, all_train_words_true, \\\n",
    "        binary_train_words_pred, binary_train_words_true = get_model_results(model, train_sequences)\n",
    "        train_Results_dict = pd.DataFrame(classification_report(all_train_words_true, all_train_words_pred, target_names=all_target_names))\n",
    "        print(train_Results_dict)\n"
   ]
  },
  {
   "cell_type": "markdown",
   "metadata": {
    "id": "baN1c_B7lTjb"
   },
   "source": [
    "**Task 5:** write an evaluation loop on a trained model, using the dev and test datasets. This function print the true positive rate (TPR), also known as Recall and the opposite to false positive rate (FPR), also known as precision, of each label seperately (7 labels in total), and for all the 6 labels (except O) together. The caption argument for the function should be served for printing, so that when you print include it as a prefix."
   ]
  },
  {
   "cell_type": "code",
   "execution_count": null,
   "metadata": {
    "id": "iyQAjGaqmd8U"
   },
   "outputs": [],
   "source": [
    "\n",
    "def evaluate(model, caption, test_sequences, dev_sequences):\n",
    "    # TODO - your code goes here\n",
    "    # from Piazza: https://piazza.com/class/klxc3m1tzqz2o8?cid=59\n",
    "\n",
    "    all_target_names = [\"O\", \"B-PER\", \"I-PER\", \"B-LOC\", \"I-LOC\", \"B-ORG\", \"I-ORG\"]\n",
    "    binary_target_names = [\"O\", \"OTHERS\"]\n",
    "    \n",
    "    # self.tag2id = {\"O\":0, \"B-PER\":1, \"I-PER\": 2, \"B-LOC\": 3, \"I-LOC\": 4, \"B-ORG\": 5, \"I-ORG\": 6}\n",
    "    # self.id2tag = {0:\"O\", 1:\"B-PER\", 2:\"I-PER\", 3:\"B-LOC\", 4:\"I-LOC\", 5:\"B-ORG\", 6:\"I-ORG\"}\n",
    "    \n",
    "    print(f\"****************    Results for {caption}    ****************\")\n",
    "\n",
    "\n",
    "\n",
    "    # generate dev tokens prediction \n",
    "    all_dev_words_pred = []\n",
    "    all_dev_words_true = []\n",
    "    \n",
    "    # generate dev binnary prediction \n",
    "    binary_dev_words_pred = []\n",
    "    binary_dev_words_true = []\n",
    "\n",
    "    # get test results\n",
    "    all_test_words_pred, all_test_words_true, \\\n",
    "        binary_test_words_pred, binary_test_words_true = get_model_results(model, test_sequences)\n",
    "\n",
    "    # get dev results\n",
    "    all_dev_words_pred, all_dev_words_true, \\\n",
    "        binary_dev_words_pred, binary_dev_words_true = get_model_results(model, dev_sequences)\n",
    "\n",
    "    print(\"Test Results:\")\n",
    "    Test_Results_dict = pd.DataFrame(classification_report(all_test_words_true, all_test_words_pred, target_names=all_target_names))\n",
    "    print(Test_Results_dict)\n",
    "    print(\"Dev Results:\")\n",
    "    Dev_Results_dict = pd.DataFrame(classification_report(all_dev_words_true, all_dev_words_pred, target_names=all_target_names))\n",
    "    print(Dev_Results_dict)\n",
    "\n",
    "    print(\"Binary Test Results:\")\n",
    "    Binary_Test_Results = pd.DataFrame(classification_report(binary_test_words_true, binary_test_words_pred, target_names=binary_target_names))\n",
    "    print(Binary_Test_Results)\n",
    "\n",
    "    print(\"Binary Dev Results:\")\n",
    "    Binary_Dev_Results  = pd.DataFrame(classification_report(binary_dev_words_true, binary_dev_words_pred, target_names=binary_target_names))\n",
    "    print(Binary_Dev_Results)\n",
    "\n",
    "    return "
   ]
  },
  {
   "cell_type": "markdown",
   "metadata": {
    "id": "LQSXqWNOmqG4"
   },
   "source": [
    "**Task 6:** Train and evaluate a few models, all with embedding_size=300, and with the following hyper parameters (you may use that as captions for the models as well):\n",
    "\n",
    "Model 1: (hidden_size: 500, n_layers: 1, directions: 1)\n",
    "\n",
    "Model 2: (hidden_size: 500, n_layers: 2, directions: 1)\n",
    "\n",
    "Model 3: (hidden_size: 500, n_layers: 3, directions: 1)\n",
    "\n",
    "Model 4: (hidden_size: 500, n_layers: 1, directions: 2)\n",
    "\n",
    "Model 5: (hidden_size: 500, n_layers: 2, directions: 2)\n",
    "\n",
    "Model 6: (hidden_size: 500, n_layers: 3, directions: 2)\n",
    "\n",
    "Model 4: (hidden_size: 800, n_layers: 1, directions: 2)\n",
    "\n",
    "Model 5: (hidden_size: 800, n_layers: 2, directions: 2)\n",
    "\n",
    "Model 6: (hidden_size: 800, n_layers: 3, directions: 2)"
   ]
  },
  {
   "cell_type": "code",
   "execution_count": null,
   "metadata": {
    "id": "gTNmBU6hycZl"
   },
   "outputs": [],
   "source": [
    "\n",
    "\n",
    "# TODO - your code goes here...\n",
    "EMBEDDING_SIZE = 300\n",
    "EPOCHS = 10\n",
    "HIDDEN_SIZE  = 500 \n",
    "INPUT_SIZE = len(vocab.word2id) # 8955\n",
    "OUTPUT_SIZE = len(vocab.tag2id) # 7\n",
    "\n",
    "\n",
    "n_layers_array = np.arange(1,4)\n",
    "directions_array = np.arange(1,3)\n",
    "model_list  = []\n",
    "for i_n_layers in n_layers_array:\n",
    "    for i_directions in directions_array:\n",
    "        print('Train model using:\\n'+ \\\n",
    "              '1)hidden_size = ' + str(HIDDEN_SIZE)+'\\n'+ \\\n",
    "              '2)n_layers = ' + str(i_n_layers) + '\\n'+ \\\n",
    "              '3)directions = ' + str(i_directions))\n",
    "        model = NERNet(INPUT_SIZE, EMBEDDING_SIZE, HIDDEN_SIZE, OUTPUT_SIZE, i_n_layers, i_directions).cuda()\n",
    "        train_loop(model, EPOCHS)\n",
    "        model_list.append(model)\n",
    "\n",
    "DIRECTION = 2\n",
    "HIDDEN_SIZE = 800\n",
    "for i_n_layers in n_layers_array:\n",
    "        print('Train model using:\\n'+ \\\n",
    "              '1)hidden_size = ' + str(HIDDEN_SIZE)+'\\n'+ \\\n",
    "              '2)n_layers = ' + str(i_n_layers) + '\\n'+ \\\n",
    "              '3)directions = ' + str(i_directions))\n",
    "        model = NERNet(INPUT_SIZE, EMBEDDING_SIZE, HIDDEN_SIZE, OUTPUT_SIZE, i_n_layers, DIRECTION).cuda()\n",
    "        train_loop(model, EPOCHS)\n",
    "        model_list.append(model)\n",
    "        \n",
    "  \n",
    "    \n",
    "for i, model in enumerate(model_list):\n",
    "    model_name = \"model_\"+str(i)\n",
    "    evaluate(model, model_name, test_sequences, dev_sequences)"
   ]
  },
  {
   "cell_type": "markdown",
   "metadata": {
    "id": "UM74r0_8nk5s"
   },
   "source": [
    "**Task 6:** Download the GloVe embeddings from https://nlp.stanford.edu/projects/glove/ (use the 300-dim vectors from glove.6B.zip). Then intialize the nn.Embedding module in your NERNet with these embeddings, so that you can start your training with pre-trained vectors. Repeat Task 6 and print the results for each model.\n",
    "\n",
    "Note: make sure that vectors are aligned with the IDs in your Vocab, in other words, make sure that for example the word with ID 0 is the first vector in the GloVe matrix of vectors that you initialize nn.Embedding with. For a dicussion on how to do that, check it this link:\n",
    "https://discuss.pytorch.org/t/can-we-use-pre-trained-word-embeddings-for-weight-initialization-in-nn-embedding/1222"
   ]
  },
  {
   "cell_type": "code",
   "execution_count": null,
   "metadata": {
    "id": "JRiMbvx9o5Rh"
   },
   "outputs": [],
   "source": [
    "# TODO - your code goes here..."
   ]
  },
  {
   "cell_type": "markdown",
   "metadata": {
    "id": "jxaESRoco6bV"
   },
   "source": [
    "**Good luck!**"
   ]
  }
 ],
 "metadata": {
  "accelerator": "GPU",
  "colab": {
   "collapsed_sections": [],
   "name": "Assignment 3 - NER",
   "provenance": []
  },
  "kernelspec": {
   "display_name": "Python 3 (ipykernel)",
   "language": "python",
   "name": "python3"
  },
  "language_info": {
   "codemirror_mode": {
    "name": "ipython",
    "version": 3
   },
   "file_extension": ".py",
   "mimetype": "text/x-python",
   "name": "python",
   "nbconvert_exporter": "python",
   "pygments_lexer": "ipython3",
   "version": "3.9.7"
  }
 },
 "nbformat": 4,
 "nbformat_minor": 4
}
