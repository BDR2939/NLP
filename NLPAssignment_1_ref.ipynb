{
 "cells": [
  {
   "cell_type": "markdown",
   "metadata": {
    "id": "7ce5pQK3bFn_"
   },
   "source": [
    "# Assignment 1\n",
    "In this assignment you will be creating tools for learning and testing language models.\n",
    "The corpora that you will be working with are lists of tweets in 8 different languages that use the Latin script. The data is provided either formatted as CSV or as JSON, for your convenience. The end goal is to write a set of tools that can detect the language of a given tweet.\n"
   ]
  },
  {
   "cell_type": "code",
   "execution_count": 2,
   "metadata": {
    "id": "mPuno9W5d5y2"
   },
   "outputs": [],
   "source": [
    "import os\n",
    "import io\n",
    "import sys\n",
    "import pandas as pd\n",
    "import numpy as np\n",
    "import math\n",
    "from sklearn.metrics import f1_score\n",
    "\n",
    "start_token = '<start>'\n",
    "end_token = '<end>'\n",
    "languages = [\"en\",\"es\",\"in\",\"it\",\"pt\",\"fr\",\"nl\",\"tl\"]\n",
    "def updateTweet(tweet):\n",
    "  return \"בבב\" +tweet+\"בבב\""
   ]
  },
  {
   "cell_type": "markdown",
   "metadata": {
    "id": "vwG8v-Ll49KM"
   },
   "source": [
    "*As a preparation for this task, download the data files from the course git repository.\n",
    "\n",
    "The relevant files are under **lm-languages-data-new**:\n",
    "\n",
    "\n",
    "*   en.csv (or the equivalent JSON file)\n",
    "*   es.csv (or the equivalent JSON file)\n",
    "*   fr.csv (or the equivalent JSON file)\n",
    "*   in.csv (or the equivalent JSON file)\n",
    "*   it.csv (or the equivalent JSON file)\n",
    "*   nl.csv (or the equivalent JSON file)\n",
    "*   pt.csv (or the equivalent JSON file)\n",
    "*   tl.csv (or the equivalent JSON file)\n",
    "*   test.csv (or the equivalent JSON file)\n",
    "\n",
    "\n",
    "\n"
   ]
  },
  {
   "cell_type": "code",
   "execution_count": 3,
   "metadata": {
    "colab": {
     "base_uri": "https://localhost:8080/"
    },
    "id": "7xC-87z2GWMq",
    "outputId": "a3bfa449-b214-433c-df44-ef3db9ef6451"
   },
   "outputs": [
    {
     "name": "stderr",
     "output_type": "stream",
     "text": [
      "fatal: destination path 'nlp-course' already exists and is not an empty directory.\n"
     ]
    }
   ],
   "source": [
    "!git clone https://github.com/kfirbar/nlp-course.git"
   ]
  },
  {
   "cell_type": "markdown",
   "metadata": {
    "id": "DOVb4IhsqimJ",
    "jupyter": {
     "source_hidden": true
    },
    "tags": []
   },
   "source": [
    "\n",
    "\n",
    "---\n",
    "\n",
    "\n",
    "\n",
    "**Important note: please use only the files under lm-languages-data-new and NOT under lm-languages-data**\n",
    "\n",
    "\n",
    "---\n",
    "\n"
   ]
  },
  {
   "cell_type": "code",
   "execution_count": 4,
   "metadata": {
    "colab": {
     "base_uri": "https://localhost:8080/"
    },
    "id": "QYdhPfbAGkip",
    "outputId": "973a2b69-d08b-41eb-cffc-c776e4af242a"
   },
   "outputs": [
    {
     "name": "stderr",
     "output_type": "stream",
     "text": [
      "'ls' is not recognized as an internal or external command,\n",
      "operable program or batch file.\n"
     ]
    }
   ],
   "source": [
    "\n",
    "!ls nlp-course/lm-languages-data-new\n"
   ]
  },
  {
   "cell_type": "markdown",
   "metadata": {
    "id": "Ashyu_mT28o6"
   },
   "source": [
    "**Part 1**\n",
    "\n",
    "Write a function *preprocess* that iterates over all the data files and creates a single vocabulary, containing all the tokens in the data. **Our token definition is a single UTF-8 encoded character**. So, the vocabulary list is a simple Python list of all the characters that you see at least once in the data."
   ]
  },
  {
   "cell_type": "code",
   "execution_count": 14,
   "metadata": {},
   "outputs": [],
   "source": [
    "data_files = {'en_df': 'en.csv',\n",
    "              'es_df': 'es.csv',\n",
    "              'fr_df': 'fr.csv',\n",
    "              'in_df': 'in.csv',\n",
    "              'it_df': 'it.csv',\n",
    "              'nl_df': 'nl.csv',\n",
    "              'pt_df': 'pt.csv',\n",
    "              'tl_df': 'tl.csv'}\n",
    "data_files = {'en_df': r'C:\\MSC\\NLP2\\nlp-course\\lm-languages-data\\en.csv',\n",
    "              'es_df': r'C:\\MSC\\NLP2\\nlp-course\\lm-languages-data\\es.csv',\n",
    "              'fr_df': r'C:\\MSC\\NLP2\\nlp-course\\lm-languages-data\\fr.csv',\n",
    "              'in_df': r'C:\\MSC\\NLP2\\nlp-course\\lm-languages-data\\in.csv',\n",
    "              'it_df': r'C:\\MSC\\NLP2\\nlp-course\\lm-languages-data\\it.csv',\n",
    "              'nl_df': r'C:\\MSC\\NLP2\\nlp-course\\lm-languages-data\\nl.csv',\n",
    "              'pt_df': r'C:\\MSC\\NLP2\\nlp-course\\lm-languages-data\\pt.csv',\n",
    "              'tl_df': r'C:\\MSC\\NLP2\\nlp-course\\lm-languages-data\\tl.csv'}\n",
    "directory = 'nlp-course/lm-languages-data-new/'\n",
    "start_token = '↠'\n",
    "end_token = '↞'"
   ]
  },
  {
   "cell_type": "code",
   "execution_count": 15,
   "metadata": {
    "id": "xCfzsITW8Yaj"
   },
   "outputs": [],
   "source": [
    "import pandas as pd\n",
    "def preprocess():\n",
    "  tokens = {}\n",
    "  for language in languages:\n",
    "    tweets =  pd.read_csv(f'nlp-course/lm-languages-data-new/{language}.csv').get('tweet_text')\n",
    "    for tweet in tweets:\n",
    "      for char in tweet:\n",
    "        tokens[char]=0\n",
    "  return list(tokens.keys())\n",
    "\n",
    "\n"
   ]
  },
  {
   "cell_type": "markdown",
   "metadata": {
    "id": "Nb2PGj0Yc2TY"
   },
   "source": [
    "**Part 2**\n",
    "\n",
    "Write a function lm that generates a language model from a textual corpus. The function should return a dictionary (representing a model) where the keys are all the relevant n-1 sequences, and the values are dictionaries with the n_th tokens and their corresponding probabilities to occur. For example, for a trigram model (tokens are characters), it should look something like:\n",
    "\n",
    "{\n",
    "  \"ab\":{\"c\":0.5, \"b\":0.25, \"d\":0.25},\n",
    "  \"ca\":{\"a\":0.2, \"b\":0.7, \"d\":0.1}\n",
    "}\n",
    "\n",
    "which means for example that after the sequence \"ab\", there is a 0.5 chance that \"c\" will appear, 0.25 for \"b\" to appear and 0.25 for \"d\" to appear.\n",
    "\n",
    "Note - You should think how to add the add_one smoothing information to the dictionary and implement it."
   ]
  },
  {
   "cell_type": "code",
   "execution_count": 16,
   "metadata": {
    "id": "kMC_u8eQbVvZ"
   },
   "outputs": [],
   "source": [
    "def lm(n, vocabulary, data_file_path, add_one):\n",
    "  # n - the n-gram to use (e.g., 1 - unigram, 2 - bigram, etc.)\n",
    "  # vocabulary - the vocabulary list (which you should use for calculating add_one smoothing)\n",
    "  # data_file_path - the data_file from which we record probabilities for our model\n",
    "  # add_one - True/False (use add_one smoothing or not)\n",
    "  if add_one:\n",
    "      add_one = 1\n",
    "  else:\n",
    "      add_one = 0\n",
    "  tweets =  pd.read_csv(data_file_path).get('tweet_text')\n",
    "  model = {}\n",
    "  for tweet in tweets:\n",
    "    if n > 1:\n",
    "      tweet = updateTweet(tweet)\n",
    "    startIndexs =range(len(tweet) - n + 1)\n",
    "    endIndexs = range(n-1, len(tweet))\n",
    "    nGram = zip(startIndexs, endIndexs)\n",
    "  \n",
    "    for i,j in nGram:\n",
    "      wNMinusOne = tweet[i: i + n -1]\n",
    "      if i==j:\n",
    "          wNMinusOne = \"\"\n",
    "      wN = tweet[j]\n",
    "      new_count = model.setdefault(wNMinusOne, {}).setdefault(wN, 0) + 1\n",
    "      model[wNMinusOne][wN] = new_count\n",
    "\n",
    "  for prefix in model.values():\n",
    "      countPrefixW = float(sum(prefix.values()))\n",
    "      if add_one:\n",
    "        countPrefixW += len(vocabulary)\n",
    "      for key in prefix.keys():\n",
    "        prefix[key] = (prefix[key] + add_one) / countPrefixW  \n",
    "  return model"
   ]
  },
  {
   "cell_type": "code",
   "execution_count": null,
   "metadata": {},
   "outputs": [],
   "source": []
  },
  {
   "cell_type": "markdown",
   "metadata": {
    "id": "7M8TchtI22I3"
   },
   "source": [
    "**Part 3**\n",
    "\n",
    "Write a function *eval* that returns the perplexity of a model (dictionary) running over a given data file."
   ]
  },
  {
   "cell_type": "code",
   "execution_count": 17,
   "metadata": {
    "id": "F0kkMn328-lJ"
   },
   "outputs": [],
   "source": [
    "def eval(n, model, data_file):\n",
    "  # n - the n-gram that you used to build your model (must be the same number)\n",
    "  # model - the dictionary (model) to use for calculating perplexity\n",
    "  # data_file - the tweets file that you wish to claculate a perplexity score for\n",
    "  \n",
    "\n",
    "  tweets =  pd.read_csv(data_file).get('tweet_text')\n",
    "  entropyList=[]\n",
    "  for tweet in tweets:\n",
    "    entropyList.append(evalTweet(tweet,n,model))\n",
    "\n",
    "  return np.array(entropyList).mean()\n",
    "\n",
    "def evalTweet(tweet,n, model):\n",
    "    missing_value = 1e-8\n",
    "    tweet = updateTweet(tweet)\n",
    "    startIndexs =range(len(tweet) - n + 1)\n",
    "    endIndexs = range(n-1, len(tweet))\n",
    "    nGram = zip(startIndexs, endIndexs)\n",
    "    N=0\n",
    "    entropy =0\n",
    "    for i,j in nGram:\n",
    "      wNMinusOne = '' \n",
    "      N+=1\n",
    "      if i!=j:\n",
    "          wNMinusOne = tweet[i: i + n -1]\n",
    "      wN = tweet[j]\n",
    "      pwN = missing_value\n",
    "      if wNMinusOne in model.keys():\n",
    "             if wN in model[wNMinusOne].keys():\n",
    "               entropy+= -math.log2(model[wNMinusOne][wN])\n",
    "             else:\n",
    "              entropy+=-math.log2(missing_value)\n",
    "      else:\n",
    "          entropy+=-math.log2(missing_value)\n",
    "    entropy = entropy/N\n",
    "    return math.pow(2,entropy)"
   ]
  },
  {
   "cell_type": "code",
   "execution_count": 18,
   "metadata": {
    "id": "eZuvfwbI5aGj"
   },
   "outputs": [
    {
     "data": {
      "text/plain": [
       "16.996093661707146"
      ]
     },
     "execution_count": 18,
     "metadata": {},
     "output_type": "execute_result"
    }
   ],
   "source": [
    "vocabulary = preprocess()\n",
    "n = 2\n",
    "test_dict = lm(n, vocabulary, data_files['en_df'], False)\n",
    "eval(n,test_dict, data_files['en_df'])"
   ]
  },
  {
   "cell_type": "markdown",
   "metadata": {
    "id": "enGmtLE3921p"
   },
   "source": [
    "**Part 4**\n",
    "\n",
    "Write a function *match* that creates a model for every relevant language, using a specific value of *n* and *add_one*. Then, calculate the perplexity of all possible pairs (e.g., en model applied on the data files en ,es, fr, in, it, nl, pt, tl; es model applied on the data files en, es...). This function should return a pandas DataFrame with columns [en ,es, fr, in, it, nl, pt, tl] and every row should be labeled with one of the languages. Then, the values are the relevant perplexity values."
   ]
  },
  {
   "cell_type": "code",
   "execution_count": 147,
   "metadata": {
    "id": "caAxLE9s_fvn"
   },
   "outputs": [],
   "source": [
    "def match(n, add_one):\n",
    "  # n - the n-gram to use for creating n-gram models\n",
    "  # add_one - use add_one smoothing or not\n",
    "  model= {}\n",
    "  df = {}\n",
    "\n",
    "  for language_model in languages:\n",
    "    data_file_path = f'nlp-course/lm-languages-data-new/{language_model}.csv'\n",
    "    model[language_model] = lm(n, preprocess(),data_file_path,add_one)\n",
    "    df[language_model] = {}\n",
    "    for language in languages:\n",
    "       data_file_path = f'nlp-course/lm-languages-data-new/{language}.csv'\n",
    "       df[language_model][language]=eval(n,model[language_model],data_file_path)\n",
    "  \n",
    "  return pd.DataFrame(df)\n",
    "\n",
    "   \n",
    "\n",
    "  "
   ]
  },
  {
   "cell_type": "markdown",
   "metadata": {
    "id": "waGMwA8H_n17"
   },
   "source": [
    "**Part 5**\n",
    "\n",
    "Run match with *n* values 1-4, once with add_one and once without, and print the 8 tables to this notebook, one after another."
   ]
  },
  {
   "cell_type": "code",
   "execution_count": 142,
   "metadata": {
    "colab": {
     "base_uri": "https://localhost:8080/",
     "height": 363
    },
    "id": "nk32naXyAMdl",
    "outputId": "f6f64e25-34c5-4eff-ccf6-0a01f01a3bc7"
   },
   "outputs": [
    {
     "name": "stdout",
     "output_type": "stream",
     "text": [
      "add_one = True and n = 1\n"
     ]
    },
    {
     "ename": "NameError",
     "evalue": "ignored",
     "output_type": "error",
     "traceback": [
      "\u001b[0;31m---------------------------------------------------------------------------\u001b[0m",
      "\u001b[0;31mNameError\u001b[0m                                 Traceback (most recent call last)",
      "\u001b[0;32m<ipython-input-142-ee8b5726cc79>\u001b[0m in \u001b[0;36m<module>\u001b[0;34m()\u001b[0m\n\u001b[1;32m      7\u001b[0m \u001b[0;34m\u001b[0m\u001b[0m\n\u001b[1;32m      8\u001b[0m \u001b[0;34m\u001b[0m\u001b[0m\n\u001b[0;32m----> 9\u001b[0;31m \u001b[0mrun_match\u001b[0m\u001b[0;34m(\u001b[0m\u001b[0;34m)\u001b[0m\u001b[0;34m\u001b[0m\u001b[0;34m\u001b[0m\u001b[0m\n\u001b[0m",
      "\u001b[0;32m<ipython-input-142-ee8b5726cc79>\u001b[0m in \u001b[0;36mrun_match\u001b[0;34m()\u001b[0m\n\u001b[1;32m      2\u001b[0m   \u001b[0;32mfor\u001b[0m \u001b[0mi\u001b[0m \u001b[0;32min\u001b[0m \u001b[0mrange\u001b[0m\u001b[0;34m(\u001b[0m\u001b[0;36m1\u001b[0m\u001b[0;34m,\u001b[0m\u001b[0;36m5\u001b[0m\u001b[0;34m)\u001b[0m\u001b[0;34m:\u001b[0m\u001b[0;34m\u001b[0m\u001b[0;34m\u001b[0m\u001b[0m\n\u001b[1;32m      3\u001b[0m     \u001b[0mprint\u001b[0m\u001b[0;34m(\u001b[0m\u001b[0;34mf\"add_one = True and n = {i}\"\u001b[0m\u001b[0;34m)\u001b[0m\u001b[0;34m\u001b[0m\u001b[0;34m\u001b[0m\u001b[0m\n\u001b[0;32m----> 4\u001b[0;31m     \u001b[0mprint\u001b[0m\u001b[0;34m(\u001b[0m\u001b[0mmatch\u001b[0m\u001b[0;34m(\u001b[0m\u001b[0mi\u001b[0m\u001b[0;34m,\u001b[0m\u001b[0;32mTrue\u001b[0m\u001b[0;34m)\u001b[0m\u001b[0;34m)\u001b[0m\u001b[0;34m\u001b[0m\u001b[0;34m\u001b[0m\u001b[0m\n\u001b[0m\u001b[1;32m      5\u001b[0m     \u001b[0mprint\u001b[0m\u001b[0;34m(\u001b[0m\u001b[0;34mf\"add_one = False and n = {i}\"\u001b[0m\u001b[0;34m)\u001b[0m\u001b[0;34m\u001b[0m\u001b[0;34m\u001b[0m\u001b[0m\n\u001b[1;32m      6\u001b[0m     \u001b[0mprint\u001b[0m\u001b[0;34m(\u001b[0m\u001b[0mmatch\u001b[0m\u001b[0;34m(\u001b[0m\u001b[0mi\u001b[0m\u001b[0;34m,\u001b[0m\u001b[0;32mFalse\u001b[0m\u001b[0;34m)\u001b[0m\u001b[0;34m)\u001b[0m\u001b[0;34m\u001b[0m\u001b[0;34m\u001b[0m\u001b[0m\n",
      "\u001b[0;32m<ipython-input-141-713a5f7acee9>\u001b[0m in \u001b[0;36mmatch\u001b[0;34m(n, add_one)\u001b[0m\n\u001b[1;32m      7\u001b[0m   \u001b[0;32mfor\u001b[0m \u001b[0mlanguage_model\u001b[0m \u001b[0;32min\u001b[0m \u001b[0mlanguages\u001b[0m\u001b[0;34m:\u001b[0m\u001b[0;34m\u001b[0m\u001b[0;34m\u001b[0m\u001b[0m\n\u001b[1;32m      8\u001b[0m     \u001b[0mdata_file_path\u001b[0m \u001b[0;34m=\u001b[0m \u001b[0;34mf'nlp-course/lm-languages-data-new/{language_model}.csv'\u001b[0m\u001b[0;34m\u001b[0m\u001b[0;34m\u001b[0m\u001b[0m\n\u001b[0;32m----> 9\u001b[0;31m     \u001b[0mmodel\u001b[0m\u001b[0;34m[\u001b[0m\u001b[0mlanguage_model\u001b[0m\u001b[0;34m]\u001b[0m \u001b[0;34m=\u001b[0m \u001b[0mlm\u001b[0m\u001b[0;34m(\u001b[0m\u001b[0mn\u001b[0m\u001b[0;34m,\u001b[0m \u001b[0mpreprocess\u001b[0m\u001b[0;34m(\u001b[0m\u001b[0;34m)\u001b[0m\u001b[0;34m,\u001b[0m\u001b[0mdata_file_path\u001b[0m\u001b[0;34m,\u001b[0m\u001b[0madd_one\u001b[0m\u001b[0;34m)\u001b[0m\u001b[0;34m\u001b[0m\u001b[0;34m\u001b[0m\u001b[0m\n\u001b[0m\u001b[1;32m     10\u001b[0m     \u001b[0mdf\u001b[0m\u001b[0;34m[\u001b[0m\u001b[0mlanguage_model\u001b[0m\u001b[0;34m]\u001b[0m \u001b[0;34m=\u001b[0m \u001b[0;34m{\u001b[0m\u001b[0;34m}\u001b[0m\u001b[0;34m\u001b[0m\u001b[0;34m\u001b[0m\u001b[0m\n\u001b[1;32m     11\u001b[0m     \u001b[0;32mfor\u001b[0m \u001b[0mlanguage\u001b[0m \u001b[0;32min\u001b[0m \u001b[0mlanguages\u001b[0m\u001b[0;34m:\u001b[0m\u001b[0;34m\u001b[0m\u001b[0;34m\u001b[0m\u001b[0m\n",
      "\u001b[0;32m<ipython-input-139-7c1cfd1438ce>\u001b[0m in \u001b[0;36mlm\u001b[0;34m(n, vocabulary, data_file_path, add_one)\u001b[0m\n\u001b[1;32m     30\u001b[0m         \u001b[0mcountPrefixW\u001b[0m \u001b[0;34m+=\u001b[0m \u001b[0mlen\u001b[0m\u001b[0;34m(\u001b[0m\u001b[0mvocabulary\u001b[0m\u001b[0;34m)\u001b[0m\u001b[0;34m\u001b[0m\u001b[0;34m\u001b[0m\u001b[0m\n\u001b[1;32m     31\u001b[0m       \u001b[0;32mfor\u001b[0m \u001b[0mkey\u001b[0m \u001b[0;32min\u001b[0m \u001b[0mprefix\u001b[0m\u001b[0;34m.\u001b[0m\u001b[0mkeys\u001b[0m\u001b[0;34m(\u001b[0m\u001b[0;34m)\u001b[0m\u001b[0;34m:\u001b[0m\u001b[0;34m\u001b[0m\u001b[0;34m\u001b[0m\u001b[0m\n\u001b[0;32m---> 32\u001b[0;31m         \u001b[0mprefix\u001b[0m\u001b[0;34m[\u001b[0m\u001b[0mkey\u001b[0m\u001b[0;34m]\u001b[0m \u001b[0;34m=\u001b[0m \u001b[0;34m(\u001b[0m\u001b[0mprefix\u001b[0m\u001b[0;34m[\u001b[0m\u001b[0mkey\u001b[0m\u001b[0;34m]\u001b[0m \u001b[0;34m+\u001b[0m \u001b[0madd_one_int\u001b[0m\u001b[0;34m)\u001b[0m \u001b[0;34m/\u001b[0m \u001b[0mcountPrefixW\u001b[0m\u001b[0;34m\u001b[0m\u001b[0;34m\u001b[0m\u001b[0m\n\u001b[0m\u001b[1;32m     33\u001b[0m   \u001b[0;32mreturn\u001b[0m \u001b[0mmodel\u001b[0m\u001b[0;34m\u001b[0m\u001b[0;34m\u001b[0m\u001b[0m\n\u001b[1;32m     34\u001b[0m \u001b[0;34m\u001b[0m\u001b[0m\n",
      "\u001b[0;31mNameError\u001b[0m: name 'add_one_int' is not defined"
     ]
    }
   ],
   "source": [
    "def run_match():\n",
    "  for i in range(1,5):\n",
    "    print(f\"add_one = True and n = {i}\")\n",
    "    print(match(i,True))\n",
    "    print(f\"add_one = False and n = {i}\")\n",
    "    print(match(i,False))\n",
    "    \n",
    "\n",
    "run_match()"
   ]
  },
  {
   "cell_type": "markdown",
   "metadata": {
    "id": "cg4h5Cl0q2nR"
   },
   "source": [
    "**Part 6**\n",
    "\n",
    "Each line in the file test.csv contains a sentence and the language it belongs to. Write a function that uses your language models to classify the correct language of each sentence.\n",
    "\n",
    "Important note regarding the grading of this section: this is an open question, where a different solution will yield different accuracy scores. any solution that is not trivial (e.g. returning 'en' in all cases) will be excepted. We do reserve the right to give bonus points to exceptionally good/creative solutions."
   ]
  },
  {
   "cell_type": "code",
   "execution_count": 151,
   "metadata": {
    "colab": {
     "base_uri": "https://localhost:8080/"
    },
    "id": "qD6IRIQLrlZF",
    "outputId": "343bf2ba-2783-4a2c-f82d-c6c384aa71df"
   },
   "outputs": [
    {
     "name": "stdout",
     "output_type": "stream",
     "text": [
      "['en', 'it', 'tl', 'nl', 'tl', 'in', 'pt', 'nl', 'fr', 'pt', 'en', 'nl', 'pt', 'en', 'es', 'fr', 'en', 'tl', 'fr', 'en', 'it', 'fr', 'en', 'pt', 'tl', 'pt', 'en', 'fr', 'fr', 'in', 'nl', 'tl', 'nl', 'tl', 'it', 'nl', 'in', 'es', 'es', 'nl', 'fr', 'en', 'es', 'fr', 'it', 'es', 'nl', 'es', 'tl', 'tl', 'en', 'nl', 'pt', 'tl', 'nl', 'en', 'pt', 'tl', 'pt', 'en', 'pt', 'pt', 'tl', 'en', 'en', 'tl', 'tl', 'nl', 'it', 'tl', 'fr', 'pt', 'in', 'pt', 'in', 'fr', 'pt', 'tl', 'es', 'tl', 'en', 'tl', 'en', 'in', 'nl', 'fr', 'nl', 'in', 'fr', 'tl', 'en', 'pt', 'es', 'nl', 'tl', 'nl', 'tl', 'tl', 'it', 'pt', 'in', 'pt', 'in', 'en', 'es', 'nl', 'pt', 'en', 'pt', 'it', 'es', 'fr', 'pt', 'nl', 'en', 'fr', 'tl', 'it', 'es', 'fr', 'nl', 'en', 'en', 'pt', 'it', 'es', 'nl', 'nl', 'pt', 'es', 'pt', 'it', 'tl', 'pt', 'en', 'es', 'fr', 'es', 'it', 'en', 'fr', 'fr', 'in', 'it', 'es', 'es', 'in', 'tl', 'pt', 'pt', 'pt', 'in', 'in', 'en', 'fr', 'fr', 'it', 'tl', 'nl', 'it', 'es', 'fr', 'fr', 'nl', 'it', 'es', 'nl', 'pt', 'es', 'en', 'nl', 'in', 'it', 'pt', 'es', 'tl', 'pt', 'in', 'pt', 'en', 'tl', 'nl', 'fr', 'fr', 'fr', 'it', 'fr', 'in', 'in', 'es', 'pt', 'it', 'in', 'tl', 'es', 'en', 'it', 'in', 'tl', 'en', 'tl', 'fr', 'tl', 'nl', 'es', 'nl', 'nl', 'pt', 'it', 'es', 'it', 'es', 'pt', 'nl', 'fr', 'it', 'es', 'es', 'tl', 'nl', 'pt', 'nl', 'en', 'en', 'pt', 'fr', 'nl', 'fr', 'pt', 'it', 'en', 'fr', 'fr', 'pt', 'nl', 'nl', 'it', 'en', 'fr', 'en', 'es', 'es', 'it', 'en', 'in', 'it', 'in', 'it', 'pt', 'it', 'in', 'nl', 'nl', 'es', 'nl', 'fr', 'nl', 'pt', 'en', 'in', 'en', 'it', 'tl', 'in', 'en', 'in', 'tl', 'in', 'fr', 'in', 'en', 'en', 'es', 'it', 'tl', 'fr', 'en', 'pt', 'in', 'nl', 'nl', 'tl', 'es', 'es', 'fr', 'fr', 'en', 'pt', 'pt', 'es', 'in', 'es', 'it', 'pt', 'pt', 'tl', 'nl', 'es', 'fr', 'tl', 'es', 'en', 'it', 'en', 'en', 'tl', 'fr', 'it', 'pt', 'nl', 'pt', 'pt', 'in', 'in', 'it', 'in', 'it', 'tl', 'fr', 'en', 'nl', 'en', 'it', 'es', 'it', 'nl', 'tl', 'in', 'en', 'pt', 'tl', 'en', 'it', 'es', 'pt', 'es', 'fr', 'in', 'in', 'tl', 'fr', 'es', 'en', 'it', 'fr', 'pt', 'pt', 'it', 'fr', 'fr', 'nl', 'in', 'nl', 'in', 'nl', 'en', 'tl', 'nl', 'es', 'tl', 'nl', 'tl', 'it', 'fr', 'tl', 'it', 'fr', 'tl', 'in', 'tl', 'in', 'nl', 'nl', 'pt', 'es', 'it', 'nl', 'fr', 'nl', 'it', 'nl', 'en', 'en', 'fr', 'pt', 'nl', 'fr', 'it', 'fr', 'es', 'fr', 'in', 'en', 'fr', 'en', 'it', 'fr', 'nl', 'es', 'it', 'fr', 'tl', 'pt', 'en', 'in', 'es', 'in', 'fr', 'pt', 'pt', 'it', 'pt', 'nl', 'in', 'es', 'tl', 'fr', 'tl', 'en', 'es', 'in', 'en', 'es', 'tl', 'it', 'in', 'nl', 'tl', 'in', 'it', 'es', 'en', 'it', 'in', 'es', 'nl', 'pt', 'en', 'fr', 'in', 'pt', 'nl', 'en', 'nl', 'in', 'es', 'fr', 'in', 'in', 'tl', 'pt', 'in', 'it', 'pt', 'pt', 'en', 'es', 'pt', 'tl', 'pt', 'tl', 'nl', 'en', 'in', 'in', 'nl', 'it', 'nl', 'in', 'fr', 'en', 'pt', 'es', 'pt', 'es', 'es', 'nl', 'en', 'in', 'in', 'in', 'pt', 'es', 'in', 'fr', 'in', 'en', 'fr', 'fr', 'nl', 'tl', 'fr', 'tl', 'it', 'es', 'en', 'fr', 'in', 'tl', 'fr', 'en', 'tl', 'fr', 'es', 'fr', 'tl', 'nl', 'fr', 'fr', 'in', 'es', 'tl', 'pt', 'it', 'fr', 'tl', 'it', 'fr', 'pt', 'in', 'en', 'pt', 'in', 'tl', 'pt', 'tl', 'tl', 'nl', 'nl', 'pt', 'tl', 'fr', 'es', 'nl', 'en', 'es', 'fr', 'es', 'it', 'nl', 'fr', 'in', 'it', 'es', 'in', 'tl', 'en', 'pt', 'fr', 'en', 'fr', 'en', 'nl', 'tl', 'it', 'es', 'fr', 'pt', 'tl', 'pt', 'en', 'in', 'nl', 'en', 'en', 'pt', 'pt', 'fr', 'fr', 'en', 'pt', 'es', 'tl', 'in', 'nl', 'pt', 'pt', 'tl', 'en', 'en', 'nl', 'es', 'es', 'fr', 'tl', 'pt', 'in', 'es', 'tl', 'en', 'en', 'it', 'in', 'es', 'fr', 'in', 'tl', 'nl', 'fr', 'tl', 'es', 'fr', 'en', 'pt', 'nl', 'pt', 'en', 'nl', 'tl', 'in', 'nl', 'it', 'it', 'en', 'en', 'en', 'es', 'fr', 'en', 'nl', 'pt', 'pt', 'tl', 'en', 'in', 'en', 'pt', 'it', 'in', 'nl', 'tl', 'es', 'nl', 'en', 'es', 'it', 'in', 'es', 'en', 'nl', 'it', 'in', 'es', 'en', 'it', 'nl', 'nl', 'es', 'es', 'it', 'pt', 'pt', 'it', 'nl', 'en', 'fr', 'fr', 'nl', 'es', 'fr', 'en', 'it', 'pt', 'fr', 'pt', 'en', 'tl', 'fr', 'pt', 'it', 'en', 'tl', 'es', 'it', 'in', 'en', 'it', 'it', 'es', 'fr', 'in', 'fr', 'nl', 'in', 'tl', 'nl', 'es', 'nl', 'it', 'tl', 'tl', 'nl', 'en', 'en', 'it', 'it', 'nl', 'tl', 'in', 'nl', 'en', 'pt', 'pt', 'it', 'in', 'es', 'es', 'it', 'tl', 'nl', 'pt', 'tl', 'fr', 'en', 'it', 'pt', 'pt', 'tl', 'fr', 'pt', 'nl', 'tl', 'nl', 'in', 'en', 'nl', 'pt', 'tl', 'tl', 'tl', 'pt', 'es', 'pt', 'en', 'in', 'es', 'it', 'es', 'tl', 'fr', 'it', 'pt', 'pt', 'en', 'nl', 'nl', 'pt', 'es', 'pt', 'fr', 'tl', 'es', 'fr', 'en', 'in', 'fr', 'nl', 'tl', 'fr', 'fr', 'pt', 'it', 'en', 'in', 'nl', 'fr', 'tl', 'en', 'es', 'nl', 'en', 'nl', 'es', 'it', 'in', 'fr', 'en', 'nl', 'fr', 'es', 'nl', 'pt', 'fr', 'es', 'tl', 'in', 'pt', 'in', 'it', 'fr', 'in', 'it', 'nl', 'it', 'it', 'nl', 'en', 'es', 'nl', 'pt', 'it', 'en', 'fr', 'nl', 'nl', 'tl', 'nl', 'in', 'in', 'fr', 'fr', 'en', 'tl', 'fr', 'nl', 'en', 'es', 'tl', 'en', 'en', 'tl', 'tl', 'it', 'nl', 'fr', 'it', 'fr', 'it', 'nl', 'fr', 'nl', 'in', 'pt', 'fr', 'nl', 'pt', 'in', 'nl', 'tl', 'es', 'es', 'en', 'en', 'es', 'pt', 'tl', 'tl', 'nl', 'it', 'en', 'it', 'pt', 'in', 'it', 'tl', 'fr', 'in', 'it', 'pt', 'it', 'en', 'in', 'tl', 'in', 'nl', 'tl', 'en', 'pt', 'en', 'pt', 'pt', 'fr', 'nl', 'in', 'tl', 'fr', 'in', 'es', 'it', 'en', 'it', 'pt', 'tl', 'in', 'it', 'pt', 'in', 'es', 'in', 'in', 'en', 'en', 'tl', 'en', 'en', 'it', 'es', 'tl', 'es', 'in', 'tl', 'it', 'pt', 'tl', 'en', 'en', 'nl', 'tl', 'en', 'pt', 'in', 'tl', 'pt', 'en', 'in', 'en', 'it', 'tl', 'es', 'pt', 'it', 'pt', 'es', 'tl', 'in', 'tl', 'in', 'nl', 'it', 'fr', 'pt', 'en', 'es', 'in', 'it', 'pt', 'tl', 'pt', 'tl', 'pt', 'nl', 'tl', 'in', 'it', 'en', 'fr', 'en', 'in', 'in', 'it', 'in', 'in', 'in', 'en', 'in', 'en', 'nl', 'en', 'es', 'es', 'in', 'it', 'pt', 'pt', 'en', 'tl', 'it', 'pt', 'pt', 'fr', 'tl', 'fr', 'in', 'es', 'en', 'en', 'nl', 'nl', 'in', 'en', 'in', 'en', 'en', 'it', 'tl', 'fr', 'pt', 'pt', 'nl', 'fr', 'pt', 'es', 'es', 'it', 'in', 'es', 'in', 'en', 'in', 'fr', 'fr', 'in', 'fr', 'es', 'fr', 'in', 'in', 'it', 'tl', 'nl', 'pt', 'it', 'in', 'pt', 'tl', 'en', 'es', 'nl', 'pt', 'en', 'es', 'tl', 'es', 'it', 'tl', 'es', 'es', 'tl', 'nl', 'it', 'en', 'fr', 'nl', 'en', 'en', 'in', 'pt', 'tl', 'es', 'en', 'tl', 'in', 'nl', 'tl', 'fr', 'en', 'it', 'es', 'in', 'pt', 'fr', 'fr', 'it', 'tl', 'it', 'it', 'es', 'it', 'it', 'en', 'pt', 'en', 'es', 'nl', 'in', 'nl', 'nl', 'nl', 'tl', 'pt', 'fr', 'es', 'it', 'pt', 'nl', 'fr', 'pt', 'nl', 'tl', 'fr', 'pt', 'fr', 'it', 'nl', 'pt', 'nl', 'nl', 'en', 'in', 'es', 'nl', 'nl', 'tl', 'pt', 'es', 'es', 'en', 'it', 'fr', 'it', 'it', 'pt', 'en', 'nl', 'pt', 'fr', 'tl', 'fr', 'es', 'in', 'in', 'fr', 'in', 'pt', 'in', 'es', 'in', 'en', 'pt', 'fr', 'it', 'fr', 'es', 'fr', 'es', 'es', 'pt', 'in', 'it', 'tl', 'it', 'it', 'tl', 'it', 'pt', 'es', 'es', 'en', 'fr', 'tl', 'fr', 'tl', 'en', 'tl', 'es', 'nl', 'pt', 'fr', 'fr', 'tl', 'en', 'pt', 'fr', 'it', 'in', 'es', 'pt', 'nl', 'es', 'fr', 'fr', 'en', 'pt', 'fr', 'fr', 'fr', 'es', 'en', 'es', 'pt', 'tl', 'es', 'tl', 'es', 'tl', 'in', 'in', 'fr', 'es', 'nl', 'nl', 'en', 'it', 'nl', 'nl', 'pt', 'it', 'fr', 'it', 'es', 'in', 'pt', 'it', 'fr', 'en', 'es', 'nl', 'in', 'fr', 'es', 'pt', 'fr', 'in', 'fr', 'pt', 'it', 'tl', 'it', 'in', 'tl', 'nl', 'in', 'fr', 'fr', 'en', 'pt', 'nl', 'it', 'es', 'in', 'nl', 'pt', 'tl', 'it', 'it', 'pt', 'it', 'en', 'pt', 'pt', 'en', 'tl', 'es', 'nl', 'fr', 'es', 'in', 'tl', 'pt', 'nl', 'in', 'nl', 'it', 'nl', 'in', 'it', 'it', 'it', 'it', 'en', 'pt', 'en', 'in', 'nl', 'pt', 'it', 'tl', 'fr', 'tl', 'in', 'en', 'it', 'es', 'fr', 'fr', 'nl', 'fr', 'pt', 'pt', 'nl', 'nl', 'fr', 'es', 'pt', 'it', 'in', 'tl', 'es', 'fr', 'nl', 'fr', 'in', 'en', 'es', 'tl', 'nl', 'tl', 'pt', 'nl', 'tl', 'tl', 'it', 'tl', 'es', 'es', 'it', 'en', 'nl', 'it', 'in', 'tl', 'es', 'en', 'nl', 'fr', 'it', 'fr', 'es', 'en', 'pt', 'nl', 'nl', 'it', 'en', 'in', 'tl', 'en', 'in', 'tl', 'en', 'pt', 'en', 'es', 'es', 'fr', 'es', 'pt', 'nl', 'es', 'fr', 'es', 'en', 'en', 'fr', 'tl', 'it', 'fr', 'nl', 'es', 'nl', 'es', 'tl', 'fr', 'nl', 'in', 'es', 'pt', 'pt', 'pt', 'tl', 'en', 'nl', 'pt', 'fr', 'nl', 'fr', 'es', 'nl', 'en', 'it', 'pt', 'tl', 'fr', 'nl', 'tl', 'en', 'nl', 'it', 'tl', 'nl', 'it', 'in', 'it', 'en', 'pt', 'en', 'it', 'tl', 'fr', 'es', 'fr', 'es', 'pt', 'fr', 'pt', 'tl', 'it', 'tl', 'tl', 'it', 'fr', 'nl', 'fr', 'nl', 'it', 'nl', 'en', 'nl', 'es', 'fr', 'tl', 'pt', 'en', 'en', 'es', 'in', 'fr', 'pt', 'es', 'fr', 'nl', 'es', 'en', 'nl', 'in', 'tl', 'tl', 'in', 'it', 'pt', 'it', 'in', 'nl', 'pt', 'tl', 'it', 'it', 'it', 'nl', 'en', 'it', 'in', 'nl', 'in', 'fr', 'it', 'fr', 'in', 'fr', 'en', 'in', 'nl', 'tl', 'pt', 'it', 'it', 'pt', 'in', 'nl', 'fr', 'pt', 'in', 'nl', 'it', 'in', 'tl', 'tl', 'it', 'nl', 'fr', 'nl', 'en', 'es', 'es', 'tl', 'fr', 'es', 'pt', 'es', 'en', 'fr', 'en', 'nl', 'fr', 'fr', 'it', 'fr', 'in', 'tl', 'tl', 'pt', 'pt', 'pt', 'en', 'pt', 'in', 'tl', 'en', 'in', 'in', 'fr', 'tl', 'tl', 'es', 'es', 'pt', 'es', 'nl', 'es', 'tl', 'it', 'nl', 'pt', 'tl', 'es', 'nl', 'tl', 'in', 'in', 'tl', 'it', 'en', 'es', 'es', 'tl', 'it', 'it', 'nl', 'es', 'in', 'es', 'fr', 'it', 'es', 'nl', 'es', 'en', 'en', 'en', 'tl', 'it', 'pt', 'nl', 'pt', 'en', 'it', 'it', 'tl', 'nl', 'it', 'in', 'tl', 'pt', 'fr', 'pt', 'it', 'en', 'tl', 'fr', 'pt', 'nl', 'fr', 'pt', 'en', 'tl', 'fr', 'es', 'pt', 'es', 'tl', 'tl', 'in', 'it', 'pt', 'fr', 'en', 'nl', 'tl', 'nl', 'tl', 'it', 'pt', 'it', 'es', 'pt', 'en', 'tl', 'pt', 'fr', 'it', 'es', 'en', 'es', 'es', 'nl', 'es', 'it', 'nl', 'fr', 'pt', 'en', 'in', 'pt', 'in', 'it', 'pt', 'it', 'fr', 'en', 'nl', 'nl', 'tl', 'es', 'in', 'nl', 'in', 'in', 'tl', 'en', 'en', 'en', 'in', 'in', 'en', 'pt', 'es', 'en', 'fr', 'nl', 'nl', 'in', 'tl', 'fr', 'it', 'tl', 'in', 'en', 'tl', 'in', 'fr', 'nl', 'nl', 'in', 'pt', 'en', 'pt', 'en', 'en', 'it', 'nl', 'fr', 'en', 'tl', 'nl', 'it', 'fr', 'in', 'fr', 'tl', 'en', 'nl', 'fr', 'tl', 'it', 'es', 'pt', 'fr', 'fr', 'en', 'fr', 'fr', 'it', 'pt', 'es', 'pt', 'fr', 'pt', 'in', 'es', 'es', 'es', 'fr', 'it', 'it', 'nl', 'fr', 'in', 'fr', 'es', 'fr', 'nl', 'es', 'fr', 'tl', 'it', 'es', 'nl', 'nl', 'tl', 'es', 'nl', 'nl', 'pt', 'es', 'nl', 'pt', 'in', 'it', 'es', 'pt', 'es', 'tl', 'fr', 'in', 'en', 'nl', 'tl', 'it', 'tl', 'en', 'pt', 'in', 'tl', 'fr', 'pt', 'pt', 'it', 'it', 'fr', 'pt', 'tl', 'pt', 'en', 'tl', 'en', 'nl', 'nl', 'es', 'nl', 'nl', 'pt', 'pt', 'es', 'fr', 'in', 'in', 'in', 'tl', 'in', 'es', 'pt', 'pt', 'fr', 'pt', 'fr', 'tl', 'fr', 'tl', 'es', 'in', 'nl', 'nl', 'nl', 'en', 'nl', 'tl', 'nl', 'in', 'pt', 'it', 'en', 'fr', 'tl', 'tl', 'nl', 'it', 'in', 'fr', 'en', 'es', 'es', 'it', 'en', 'it', 'pt', 'en', 'in', 'in', 'es', 'fr', 'es', 'pt', 'es', 'it', 'it', 'es', 'pt', 'nl', 'pt', 'tl', 'en', 'fr', 'en', 'fr', 'in', 'nl', 'pt', 'fr', 'en', 'pt', 'in', 'it', 'tl', 'fr', 'it', 'it', 'es', 'in', 'fr', 'pt', 'in', 'it', 'nl', 'nl', 'tl', 'it', 'it', 'es', 'it', 'es', 'en', 'pt', 'pt', 'es', 'fr', 'en', 'es', 'in', 'es', 'fr', 'it', 'tl', 'es', 'in', 'fr', 'fr', 'fr', 'it', 'it', 'en', 'es', 'en', 'fr', 'pt', 'tl', 'pt', 'nl', 'tl', 'in', 'in', 'pt', 'in', 'nl', 'fr', 'nl', 'in', 'es', 'en', 'es', 'nl', 'in', 'pt', 'tl', 'tl', 'nl', 'it', 'es', 'nl', 'fr', 'in', 'es', 'nl', 'pt', 'pt', 'nl', 'pt', 'es', 'nl', 'nl', 'nl', 'nl', 'in', 'pt', 'it', 'tl', 'tl', 'in', 'tl', 'es', 'en', 'nl', 'en', 'pt', 'tl', 'in', 'es', 'nl', 'in', 'it', 'en', 'pt', 'es', 'es', 'in', 'nl', 'fr', 'fr', 'tl', 'pt', 'it', 'in', 'it', 'fr', 'en', 'in', 'en', 'pt', 'fr', 'fr', 'nl', 'nl', 'it', 'nl', 'pt', 'fr', 'nl', 'it', 'it', 'nl', 'tl', 'en', 'en', 'es', 'en', 'fr', 'nl', 'nl', 'tl', 'it', 'in', 'it', 'es', 'pt', 'en', 'in', 'fr', 'nl', 'es', 'in', 'pt', 'pt', 'it', 'nl', 'in', 'it', 'en', 'tl', 'in', 'fr', 'nl', 'en', 'tl', 'nl', 'tl', 'es', 'fr', 'nl', 'es', 'nl', 'nl', 'tl', 'nl', 'it', 'fr', 'nl', 'nl', 'fr', 'pt', 'nl', 'in', 'in', 'tl', 'pt', 'en', 'it', 'in', 'en', 'es', 'it', 'it', 'es', 'tl', 'es', 'pt', 'es', 'en', 'in', 'fr', 'nl', 'nl', 'tl', 'in', 'tl', 'en', 'it', 'fr', 'in', 'fr', 'fr', 'pt', 'es', 'nl', 'nl', 'nl', 'tl', 'tl', 'es', 'fr', 'fr', 'nl', 'in', 'in', 'tl', 'nl', 'it', 'in', 'fr', 'it', 'es', 'tl', 'it', 'it', 'it', 'it', 'es', 'en', 'fr', 'it', 'tl', 'en', 'in', 'tl', 'en', 'es', 'en', 'nl', 'en', 'en', 'tl', 'in', 'fr', 'nl', 'nl', 'fr', 'in', 'in', 'tl', 'fr', 'fr', 'en', 'en', 'it', 'pt', 'pt', 'pt', 'tl', 'nl', 'nl', 'es', 'it', 'in', 'es', 'nl', 'in', 'pt', 'en', 'pt', 'nl', 'pt', 'fr', 'nl', 'nl', 'en', 'en', 'tl', 'tl', 'es', 'in', 'es', 'fr', 'it', 'fr', 'tl', 'in', 'pt', 'en', 'nl', 'in', 'nl', 'en', 'nl', 'pt', 'nl', 'fr', 'pt', 'es', 'es', 'in', 'en', 'fr', 'it', 'fr', 'nl', 'it', 'tl', 'it', 'pt', 'in', 'tl', 'nl', 'in', 'tl', 'fr', 'fr', 'it', 'pt', 'nl', 'es', 'tl', 'pt', 'it', 'fr', 'it', 'fr', 'in', 'fr', 'es', 'pt', 'it', 'nl', 'en', 'it', 'fr', 'in', 'nl', 'it', 'es', 'pt', 'it', 'es', 'pt', 'pt', 'in', 'in', 'tl', 'en', 'tl', 'fr', 'en', 'es', 'en', 'fr', 'fr', 'en', 'es', 'tl', 'it', 'it', 'pt', 'in', 'pt', 'tl', 'es', 'nl', 'tl', 'en', 'en', 'en', 'tl', 'tl', 'pt', 'fr', 'tl', 'es', 'it', 'es', 'es', 'es', 'en', 'pt', 'tl', 'es', 'nl', 'in', 'in', 'es', 'nl', 'en', 'it', 'en', 'en', 'tl', 'nl', 'nl', 'it', 'in', 'es', 'pt', 'fr', 'nl', 'es', 'nl', 'it', 'in', 'in', 'nl', 'es', 'tl', 'es', 'tl', 'fr', 'nl', 'es', 'in', 'pt', 'es', 'fr', 'en', 'en', 'pt', 'en', 'en', 'tl', 'nl', 'in', 'fr', 'nl', 'in', 'fr', 'tl', 'nl', 'pt', 'fr', 'nl', 'es', 'nl', 'tl', 'es', 'pt', 'fr', 'es', 'nl', 'in', 'in', 'in', 'es', 'es', 'pt', 'in', 'nl', 'fr', 'en', 'nl', 'es', 'es', 'en', 'tl', 'tl', 'es', 'in', 'es', 'nl', 'nl', 'fr', 'pt', 'in', 'fr', 'en', 'pt', 'tl', 'nl', 'pt', 'it', 'it', 'in', 'en', 'in', 'es', 'en', 'nl', 'in', 'in', 'in', 'it', 'nl', 'es', 'en', 'in', 'it', 'it', 'en', 'pt', 'pt', 'it', 'en', 'tl', 'en', 'fr', 'pt', 'nl', 'en', 'pt', 'es', 'es', 'nl', 'tl', 'it', 'es', 'es', 'fr', 'fr', 'it', 'en', 'nl', 'tl', 'in', 'pt', 'tl', 'nl', 'pt', 'nl', 'es', 'es', 'nl', 'it', 'fr', 'en', 'tl', 'in', 'en', 'en', 'in', 'es', 'nl', 'it', 'fr', 'fr', 'nl', 'pt', 'tl', 'nl', 'fr', 'es', 'it', 'nl', 'in', 'tl', 'es', 'en', 'nl', 'fr', 'it', 'nl', 'pt', 'es', 'it', 'in', 'fr', 'fr', 'it', 'tl', 'es', 'nl', 'en', 'it', 'nl', 'it', 'nl', 'tl', 'es', 'it', 'es', 'nl', 'tl', 'in', 'tl', 'tl', 'nl', 'in', 'it', 'fr', 'it', 'tl', 'es', 'tl', 'es', 'fr', 'in', 'pt', 'fr', 'in', 'es', 'it', 'fr', 'tl', 'nl', 'tl', 'tl', 'in', 'in', 'fr', 'es', 'pt', 'nl', 'nl', 'es', 'tl', 'in', 'in', 'es', 'fr', 'es', 'fr', 'in', 'nl', 'nl', 'it', 'tl', 'tl', 'it', 'pt', 'tl', 'tl', 'in', 'in', 'in', 'it', 'es', 'es', 'it', 'es', 'it', 'es', 'es', 'pt', 'es', 'nl', 'nl', 'pt', 'fr', 'in', 'en', 'en', 'nl', 'pt', 'tl', 'es', 'es', 'in', 'nl', 'in', 'tl', 'en', 'es', 'en', 'in', 'fr', 'nl', 'nl', 'tl', 'it', 'pt', 'tl', 'en', 'es', 'en', 'nl', 'nl', 'in', 'pt', 'fr', 'fr', 'fr', 'fr', 'nl', 'in', 'it', 'in', 'in', 'nl', 'nl', 'pt', 'fr', 'nl', 'es', 'pt', 'en', 'tl', 'fr', 'fr', 'it', 'tl', 'in', 'fr', 'pt', 'it', 'nl', 'es', 'nl', 'fr', 'it', 'nl', 'fr', 'pt', 'tl', 'it', 'fr', 'es', 'fr', 'fr', 'it', 'in', 'fr', 'es', 'fr', 'in', 'fr', 'en', 'en', 'tl', 'in', 'pt', 'pt', 'tl', 'es', 'fr', 'nl', 'fr', 'pt', 'nl', 'it', 'en', 'tl', 'en', 'fr', 'it', 'it', 'pt', 'in', 'tl', 'tl', 'fr', 'nl', 'in', 'es', 'en', 'pt', 'en', 'en', 'es', 'pt', 'tl', 'nl', 'fr', 'pt', 'en', 'fr', 'tl', 'tl', 'nl', 'es', 'in', 'tl', 'in', 'in', 'es', 'en', 'in', 'pt', 'en', 'in', 'es', 'pt', 'fr', 'pt', 'tl', 'en', 'it', 'tl', 'nl', 'in', 'nl', 'fr', 'pt', 'tl', 'en', 'nl', 'it', 'fr', 'tl', 'fr', 'tl', 'in', 'es', 'fr', 'nl', 'tl', 'tl', 'fr', 'nl', 'nl', 'en', 'pt', 'it', 'es', 'in', 'in', 'fr', 'nl', 'pt', 'es', 'pt', 'tl', 'tl', 'en', 'pt', 'en', 'tl', 'it', 'nl', 'in', 'it', 'es', 'in', 'es', 'pt', 'in', 'nl', 'nl', 'nl', 'en', 'it', 'tl', 'in', 'nl', 'nl', 'fr', 'en', 'en', 'it', 'pt', 'es', 'fr', 'it', 'it', 'es', 'en', 'in', 'pt', 'es', 'nl', 'nl', 'en', 'es', 'es', 'fr', 'in', 'tl', 'fr', 'it', 'pt', 'tl', 'it', 'pt', 'en', 'fr', 'en', 'en', 'en', 'fr', 'in', 'nl', 'en', 'tl', 'en', 'en', 'nl', 'fr', 'en', 'nl', 'nl', 'nl', 'fr', 'pt', 'pt', 'in', 'in', 'it', 'tl', 'es', 'in', 'tl', 'in', 'nl', 'tl', 'en', 'pt', 'tl', 'tl', 'pt', 'it', 'pt', 'en', 'en', 'pt', 'fr', 'en', 'es', 'it', 'nl', 'fr', 'nl', 'nl', 'nl', 'nl', 'it', 'nl', 'tl', 'pt', 'in', 'en', 'es', 'fr', 'pt', 'tl', 'pt', 'fr', 'it', 'it', 'es', 'tl', 'nl', 'tl', 'pt', 'it', 'en', 'fr', 'fr', 'pt', 'tl', 'tl', 'it', 'en', 'in', 'nl', 'nl', 'nl', 'tl', 'nl', 'en', 'es', 'tl', 'tl', 'in', 'nl', 'tl', 'tl', 'tl', 'pt', 'nl', 'es', 'pt', 'en', 'pt', 'in', 'tl', 'fr', 'in', 'en', 'in', 'in', 'es', 'nl', 'it', 'es', 'nl', 'pt', 'fr', 'fr', 'fr', 'nl', 'tl', 'en', 'tl', 'es', 'fr', 'nl', 'it', 'it', 'nl', 'in', 'tl', 'fr', 'en', 'tl', 'es', 'tl', 'nl', 'in', 'tl', 'es', 'nl', 'es', 'pt', 'fr', 'tl', 'nl', 'tl', 'pt', 'fr', 'in', 'nl', 'fr', 'in', 'it', 'en', 'nl', 'it', 'en', 'in', 'tl', 'in', 'es', 'fr', 'en', 'nl', 'nl', 'pt', 'it', 'nl', 'tl', 'es', 'en', 'es', 'in', 'nl', 'nl', 'in', 'nl', 'nl', 'pt', 'in', 'nl', 'nl', 'in', 'nl', 'en', 'tl', 'es', 'nl', 'es', 'fr', 'nl', 'nl', 'in', 'pt', 'in', 'en', 'it', 'nl', 'pt', 'in', 'en', 'es', 'tl', 'tl', 'es', 'es', 'es', 'es', 'es', 'it', 'fr', 'pt', 'in', 'in', 'pt', 'it', 'en', 'es', 'in', 'fr', 'es', 'en', 'nl', 'tl', 'nl', 'es', 'fr', 'tl', 'nl', 'tl', 'tl', 'it', 'in', 'it', 'pt', 'in', 'pt', 'tl', 'es', 'nl', 'fr', 'fr', 'pt', 'fr', 'es', 'nl', 'nl', 'en', 'tl', 'in', 'in', 'in', 'it', 'es', 'es', 'pt', 'it', 'it', 'en', 'it', 'fr', 'pt', 'in', 'nl', 'nl', 'es', 'es', 'fr', 'es', 'tl', 'tl', 'it', 'it', 'fr', 'in', 'in', 'it', 'tl', 'in', 'fr', 'en', 'es', 'es', 'in', 'pt', 'it', 'pt', 'nl', 'fr', 'nl', 'fr', 'fr', 'es', 'nl', 'pt', 'in', 'en', 'it', 'nl', 'fr', 'fr', 'it', 'pt', 'es', 'in', 'fr', 'it', 'en', 'en', 'nl', 'it', 'it', 'es', 'en', 'in', 'en', 'es', 'in', 'nl', 'pt', 'it', 'en', 'fr', 'pt', 'tl', 'it', 'fr', 'pt', 'it', 'nl', 'nl', 'pt', 'es', 'tl', 'pt', 'nl', 'in', 'en', 'in', 'fr', 'nl', 'fr', 'en', 'it', 'es', 'en', 'tl', 'nl', 'tl', 'in', 'en', 'tl', 'en', 'it', 'pt', 'nl', 'tl', 'en', 'in', 'it', 'en', 'es', 'nl', 'nl', 'nl', 'pt', 'nl', 'in', 'fr', 'nl', 'nl', 'nl', 'in', 'tl', 'pt', 'en', 'nl', 'pt', 'es', 'pt', 'in', 'fr', 'it', 'pt', 'tl', 'it', 'pt', 'tl', 'fr', 'pt', 'tl', 'tl', 'nl', 'pt', 'nl', 'tl', 'nl', 'nl', 'it', 'in', 'pt', 'en', 'en', 'in', 'nl', 'in', 'es', 'nl', 'fr', 'in', 'en', 'fr', 'pt', 'in', 'it', 'nl', 'in', 'pt', 'nl', 'in', 'tl', 'it', 'in', 'nl', 'pt', 'es', 'en', 'en', 'nl', 'nl', 'nl', 'in', 'en', 'nl', 'in', 'fr', 'fr', 'in', 'it', 'es', 'in', 'it', 'in', 'nl', 'en', 'in', 'en', 'fr', 'it', 'it', 'en', 'fr', 'es', 'in', 'tl', 'fr', 'en', 'pt', 'tl', 'fr', 'in', 'it', 'nl', 'nl', 'es', 'in', 'tl', 'nl', 'es', 'tl', 'in', 'nl', 'fr', 'fr', 'in', 'in', 'fr', 'nl', 'nl', 'nl', 'it', 'fr', 'tl', 'nl', 'in', 'en', 'nl', 'es', 'in', 'tl', 'tl', 'it', 'it', 'es', 'nl', 'it', 'nl', 'fr', 'nl', 'pt', 'es', 'fr', 'en', 'es', 'pt', 'fr', 'in', 'pt', 'es', 'in', 'in', 'it', 'pt', 'in', 'fr', 'fr', 'it', 'it', 'fr', 'fr', 'es', 'en', 'nl', 'fr', 'es', 'en', 'en', 'nl', 'it', 'fr', 'it', 'pt', 'pt', 'it', 'in', 'en', 'es', 'tl', 'pt', 'en', 'es', 'en', 'in', 'tl', 'pt', 'it', 'tl', 'en', 'es', 'es', 'es', 'tl', 'es', 'pt', 'es', 'tl', 'es', 'it', 'fr', 'in', 'tl', 'en', 'nl', 'es', 'pt', 'nl', 'fr', 'es', 'tl', 'pt', 'it', 'tl', 'nl', 'tl', 'in', 'it', 'in', 'en', 'tl', 'in', 'in', 'es', 'pt', 'es', 'in', 'tl', 'tl', 'es', 'tl', 'fr', 'it', 'fr', 'pt', 'es', 'pt', 'pt', 'es', 'es', 'in', 'fr', 'pt', 'es', 'tl', 'en', 'in', 'in', 'tl', 'en', 'tl', 'en', 'pt', 'in', 'es', 'tl', 'pt', 'en', 'pt', 'in', 'es', 'fr', 'pt', 'it', 'es', 'en', 'nl', 'it', 'nl', 'nl', 'tl', 'fr', 'pt', 'nl', 'nl', 'fr', 'it', 'es', 'nl', 'it', 'tl', 'nl', 'pt', 'tl', 'fr', 'es', 'it', 'es', 'in', 'en', 'nl', 'en', 'tl', 'pt', 'nl', 'in', 'tl', 'es', 'nl', 'fr', 'pt', 'in', 'nl', 'tl', 'en', 'nl', 'it', 'en', 'it', 'en', 'in', 'en', 'tl', 'fr', 'en', 'fr', 'tl', 'it', 'tl', 'in', 'en', 'es', 'fr', 'en', 'in', 'it', 'pt', 'tl', 'nl', 'es', 'fr', 'en', 'pt', 'es', 'tl', 'fr', 'tl', 'es', 'pt', 'pt', 'fr', 'in', 'nl', 'pt', 'it', 'es', 'pt', 'in', 'es', 'en', 'tl', 'it', 'en', 'in', 'pt', 'en', 'en', 'nl', 'pt', 'tl', 'in', 'it', 'in', 'en', 'es', 'it', 'in', 'en', 'es', 'fr', 'es', 'en', 'es', 'it', 'pt', 'es', 'it', 'in', 'es', 'en', 'it', 'en', 'fr', 'it', 'it', 'in', 'es', 'nl', 'en', 'it', 'es', 'nl', 'in', 'en', 'en', 'fr', 'tl', 'tl', 'fr', 'es', 'fr', 'nl', 'it', 'fr', 'in', 'en', 'nl', 'fr', 'nl', 'it', 'it', 'pt', 'nl', 'es', 'in', 'pt', 'nl', 'nl', 'nl', 'pt', 'en', 'en', 'nl', 'es', 'en', 'fr', 'nl', 'it', 'in', 'fr', 'es', 'es', 'es', 'in', 'es', 'es', 'pt', 'en', 'pt', 'en', 'nl', 'nl', 'en', 'en', 'it', 'it', 'nl', 'fr', 'es', 'tl', 'es', 'in', 'nl', 'en', 'en', 'en', 'tl', 'nl', 'fr', 'tl', 'nl', 'pt', 'pt', 'en', 'es', 'pt', 'it', 'fr', 'fr', 'es', 'tl', 'it', 'in', 'es', 'in', 'fr', 'fr', 'en', 'in', 'en', 'it', 'fr', 'en', 'in', 'in', 'es', 'it', 'tl', 'fr', 'en', 'tl', 'fr', 'tl', 'in', 'en', 'in', 'in', 'en', 'es', 'nl', 'es', 'in', 'nl', 'nl', 'es', 'nl', 'it', 'en', 'en', 'nl', 'en', 'pt', 'nl', 'nl', 'en', 'nl', 'nl', 'en', 'es', 'it', 'pt', 'pt', 'it', 'in', 'fr', 'it', 'en', 'it', 'tl', 'nl', 'fr', 'tl', 'tl', 'fr', 'es', 'pt', 'nl', 'fr', 'es', 'en', 'pt', 'fr', 'fr', 'fr', 'en', 'pt', 'nl', 'es', 'pt', 'it', 'nl', 'fr', 'en', 'it', 'es', 'in', 'in', 'tl', 'tl', 'nl', 'es', 'en', 'nl', 'nl', 'nl', 'nl', 'in', 'fr', 'tl', 'en', 'in', 'nl', 'en', 'en', 'tl', 'tl', 'tl', 'fr', 'nl', 'fr', 'es', 'nl', 'es', 'in', 'tl', 'in', 'nl', 'es', 'nl', 'nl', 'in', 'en', 'es', 'en', 'fr', 'en', 'fr', 'pt', 'es', 'in', 'tl', 'pt', 'es', 'nl', 'es', 'en', 'fr', 'es', 'in', 'es', 'pt', 'pt', 'en', 'nl', 'pt', 'es', 'in', 'en', 'in', 'in', 'it', 'tl', 'in', 'en', 'it', 'in', 'nl', 'tl', 'nl', 'en', 'in', 'pt', 'fr', 'en', 'en', 'in', 'fr', 'nl', 'in', 'in', 'es', 'tl', 'nl', 'es', 'es', 'in', 'fr', 'en', 'es', 'es', 'fr', 'pt', 'fr', 'pt', 'es', 'pt', 'nl', 'tl', 'nl', 'fr', 'es', 'en', 'fr', 'en', 'in', 'pt', 'es', 'nl', 'en', 'pt', 'it', 'in', 'es', 'in', 'pt', 'nl', 'en', 'in', 'en', 'fr', 'fr', 'fr', 'fr', 'fr', 'en', 'in', 'in', 'es', 'nl', 'in', 'nl', 'it', 'fr', 'es', 'it', 'in', 'nl', 'fr', 'es', 'pt', 'en', 'tl', 'nl', 'it', 'fr', 'pt', 'es', 'pt', 'in', 'tl', 'pt', 'nl', 'in', 'en', 'nl', 'fr', 'pt', 'en', 'fr', 'nl', 'en', 'es', 'in', 'en', 'it', 'es', 'it', 'en', 'en', 'in', 'en', 'tl', 'fr', 'nl', 'es', 'es', 'nl', 'in', 'fr', 'pt', 'tl', 'in', 'in', 'es', 'nl', 'tl', 'in', 'en', 'nl', 'fr', 'en', 'en', 'en', 'fr', 'es', 'it', 'es', 'fr', 'tl', 'nl', 'in', 'pt', 'nl', 'en', 'nl', 'tl', 'en', 'in', 'en', 'tl', 'in', 'nl', 'pt', 'fr', 'it', 'nl', 'nl', 'fr', 'fr', 'tl', 'in', 'in', 'in', 'fr', 'nl', 'it', 'nl', 'en', 'nl', 'tl', 'in', 'tl', 'es', 'es', 'tl', 'tl', 'it', 'nl', 'tl', 'tl', 'nl', 'it', 'nl', 'nl', 'fr', 'fr', 'nl', 'pt', 'fr', 'es', 'in', 'in', 'fr', 'it', 'en', 'pt', 'in', 'in', 'in', 'en', 'pt', 'it', 'en', 'it', 'tl', 'en', 'es', 'in', 'es', 'es', 'it', 'it', 'fr', 'pt', 'es', 'in', 'pt', 'es', 'tl', 'fr', 'nl', 'in', 'pt', 'it', 'fr', 'pt', 'it', 'pt', 'pt', 'nl', 'es', 'nl', 'en', 'pt', 'nl', 'pt', 'en', 'fr', 'it', 'es', 'pt', 'es', 'pt', 'en', 'es', 'nl', 'es', 'tl', 'en', 'en', 'fr', 'fr', 'nl', 'tl', 'it', 'fr', 'en', 'nl', 'en', 'it', 'pt', 'nl', 'pt', 'tl', 'en', 'en', 'tl', 'fr', 'it', 'it', 'pt', 'in', 'in', 'en', 'es', 'es', 'en', 'es', 'it', 'en', 'es', 'pt', 'in', 'it', 'tl', 'tl', 'tl', 'en', 'it', 'es', 'it', 'tl', 'nl', 'fr', 'in', 'it', 'nl', 'it', 'in', 'tl', 'in', 'in', 'nl', 'fr', 'pt', 'pt', 'fr', 'it', 'es', 'tl', 'tl', 'in', 'in', 'fr', 'fr', 'en', 'tl', 'tl', 'fr', 'nl', 'it', 'in', 'nl', 'tl', 'it', 'pt', 'en', 'pt', 'it', 'tl', 'in', 'pt', 'it', 'nl', 'es', 'in', 'nl', 'en', 'it', 'in', 'tl', 'en', 'it', 'en', 'nl', 'tl', 'es', 'pt', 'fr', 'pt', 'tl', 'in', 'in', 'nl', 'fr', 'en', 'es', 'es', 'tl', 'tl', 'en', 'it', 'nl', 'it', 'nl', 'es', 'it', 'nl', 'nl', 'fr', 'it', 'fr', 'it', 'pt', 'in', 'pt', 'pt', 'in', 'en', 'nl', 'tl', 'in', 'fr', 'pt', 'pt', 'en', 'in', 'pt', 'it', 'fr', 'nl', 'nl', 'in', 'it', 'in', 'fr', 'it', 'en', 'in', 'tl', 'fr', 'it', 'en', 'in', 'it', 'it', 'en', 'fr', 'it', 'es', 'en', 'tl', 'it', 'nl', 'it', 'es', 'nl', 'tl', 'en', 'fr', 'fr', 'fr', 'en', 'nl', 'en', 'pt', 'nl', 'in', 'fr', 'en', 'in', 'in', 'pt', 'pt', 'pt', 'in', 'en', 'it', 'en', 'en', 'es', 'it', 'in', 'pt', 'it', 'fr', 'fr', 'nl', 'es', 'in', 'es', 'pt', 'en', 'nl', 'nl', 'tl', 'es', 'tl', 'nl', 'it', 'nl', 'fr', 'nl', 'it', 'in', 'pt', 'en', 'in', 'pt', 'en', 'nl', 'fr', 'en', 'nl', 'pt', 'es', 'pt', 'in', 'tl', 'en', 'en', 'tl', 'fr', 'in', 'nl', 'tl', 'pt', 'fr', 'in', 'in', 'nl', 'en', 'tl', 'in', 'it', 'tl', 'tl', 'en', 'fr', 'en', 'en', 'en', 'it', 'tl', 'nl', 'it', 'en', 'fr', 'it', 'fr', 'tl', 'pt', 'en', 'nl', 'nl', 'pt', 'it', 'es', 'in', 'en', 'nl', 'en', 'fr', 'fr', 'nl', 'es', 'pt', 'es', 'it', 'it', 'tl', 'it', 'es', 'in', 'in', 'tl', 'pt', 'fr', 'es', 'tl', 'tl', 'tl', 'fr', 'nl', 'pt', 'tl', 'tl', 'fr', 'es', 'tl', 'es', 'pt', 'pt', 'in', 'tl', 'fr', 'pt', 'en', 'es', 'nl', 'it', 'in', 'tl', 'fr', 'it', 'en', 'fr', 'in', 'es', 'nl', 'it', 'tl', 'en', 'en', 'en', 'es', 'es', 'fr', 'en', 'in', 'pt', 'in', 'pt', 'en', 'tl', 'en', 'fr', 'in', 'es', 'nl', 'it', 'fr', 'es', 'en', 'nl', 'en', 'fr', 'fr', 'nl', 'tl', 'es', 'nl', 'it', 'en', 'fr', 'it', 'nl', 'en', 'tl', 'it', 'it', 'in', 'tl', 'in', 'fr', 'pt', 'tl', 'fr', 'es', 'en', 'fr', 'en', 'fr', 'in', 'en', 'in', 'nl', 'pt', 'tl', 'fr', 'es', 'pt', 'nl', 'pt', 'fr', 'pt', 'in', 'es', 'fr', 'fr', 'en', 'nl', 'pt', 'in', 'in', 'pt', 'fr', 'fr', 'in', 'es', 'pt', 'es', 'tl', 'fr', 'fr', 'nl', 'fr', 'fr', 'in', 'in', 'fr', 'in', 'nl', 'it', 'nl', 'fr', 'es', 'pt', 'nl', 'fr', 'fr', 'tl', 'es', 'it', 'tl', 'es', 'it', 'tl', 'in', 'fr', 'fr', 'en', 'tl', 'it', 'it', 'pt', 'it', 'in', 'es', 'tl', 'pt', 'tl', 'it', 'it', 'fr', 'fr', 'it', 'es', 'in', 'fr', 'fr', 'es', 'fr', 'fr', 'en', 'es', 'tl', 'it', 'it', 'in', 'fr', 'en', 'nl', 'es', 'in', 'tl', 'fr', 'tl', 'in', 'en', 'es', 'fr', 'nl', 'in', 'in', 'es', 'tl', 'it', 'pt', 'fr', 'tl', 'pt', 'nl', 'tl', 'en', 'tl', 'es', 'it', 'nl', 'tl', 'es', 'es', 'es', 'nl', 'tl', 'fr', 'tl', 'fr', 'nl', 'in', 'nl', 'fr', 'en', 'en', 'es', 'in', 'in', 'fr', 'fr', 'tl', 'tl', 'nl', 'nl', 'pt', 'es', 'in', 'in', 'fr', 'nl', 'in', 'pt', 'es', 'fr', 'nl', 'tl', 'en', 'nl', 'tl', 'tl', 'in', 'nl', 'it', 'nl', 'en', 'fr', 'nl', 'nl', 'es', 'nl', 'fr', 'nl', 'pt', 'pt', 'fr', 'pt', 'es', 'nl', 'es', 'it', 'nl', 'es', 'es', 'in', 'it', 'in', 'fr', 'tl', 'es', 'nl', 'es', 'tl', 'fr', 'pt', 'pt', 'en', 'in', 'en', 'tl', 'es', 'en', 'it', 'en', 'fr', 'tl', 'nl', 'tl', 'tl', 'it', 'in', 'in', 'it', 'pt', 'in', 'it', 'es', 'en', 'in', 'in', 'in', 'es', 'in', 'tl', 'tl', 'it', 'fr', 'in', 'en', 'tl', 'it', 'en', 'nl', 'en', 'pt', 'tl', 'es', 'nl', 'pt', 'pt', 'pt', 'pt', 'in', 'fr', 'tl', 'es', 'es', 'it', 'pt', 'es', 'it', 'it', 'pt', 'tl', 'in', 'it', 'tl', 'es', 'en', 'es', 'nl', 'es', 'fr', 'fr', 'fr', 'in', 'it', 'in', 'nl', 'it', 'in', 'es', 'fr', 'fr', 'en', 'es', 'en', 'en', 'in', 'nl', 'pt', 'en', 'pt', 'nl', 'nl', 'it', 'pt', 'fr', 'nl', 'en', 'es', 'fr', 'in', 'tl', 'nl', 'nl', 'fr', 'tl', 'fr', 'fr', 'it', 'es', 'pt', 'fr', 'nl', 'pt', 'nl', 'in', 'fr', 'es', 'pt', 'it', 'tl', 'tl', 'pt', 'en', 'pt', 'nl', 'fr', 'in', 'it', 'in', 'nl', 'fr', 'pt', 'in', 'fr', 'en', 'it', 'en', 'en', 'fr', 'pt', 'es', 'en', 'tl', 'tl', 'in', 'en', 'nl', 'es', 'es', 'nl', 'fr', 'en', 'fr', 'nl', 'in', 'es', 'nl', 'pt', 'pt', 'es', 'in', 'tl', 'it', 'fr', 'es', 'nl', 'in', 'pt', 'nl', 'it', 'in', 'tl', 'pt', 'en', 'es', 'en', 'es', 'tl', 'pt', 'it', 'nl', 'pt', 'en', 'fr', 'pt', 'en', 'fr', 'it', 'tl', 'it', 'in', 'in', 'es', 'pt', 'es', 'nl', 'nl', 'it', 'nl', 'pt', 'fr', 'fr', 'nl', 'es', 'es', 'tl', 'pt', 'tl', 'tl', 'nl', 'it', 'nl', 'pt', 'nl', 'en', 'fr', 'pt', 'fr', 'nl', 'en', 'pt', 'in', 'tl', 'en', 'nl', 'it', 'it', 'en', 'in', 'es', 'in', 'in', 'en', 'in', 'fr', 'it', 'in', 'es', 'fr', 'in', 'in', 'nl', 'fr', 'fr', 'fr', 'fr', 'fr', 'nl', 'fr', 'in', 'fr', 'en', 'nl', 'es', 'tl', 'it', 'in', 'in', 'es', 'en', 'in', 'nl', 'it', 'fr', 'es', 'tl', 'it', 'en', 'es', 'it', 'es', 'pt', 'es', 'fr', 'it', 'pt', 'it', 'es', 'es', 'pt', 'en', 'fr', 'nl', 'pt', 'nl', 'fr', 'pt', 'en', 'in', 'nl', 'pt', 'fr', 'pt', 'fr', 'in', 'es', 'in', 'it', 'en', 'pt', 'pt', 'in', 'it', 'nl', 'fr', 'tl', 'nl', 'in', 'pt', 'fr', 'en', 'en', 'it', 'en', 'es', 'pt', 'fr', 'fr', 'in', 'nl', 'pt', 'en', 'it', 'pt', 'pt', 'tl', 'it', 'nl', 'it', 'es', 'in', 'es', 'en', 'tl', 'fr', 'fr', 'fr', 'es', 'es', 'in', 'nl', 'es', 'en', 'pt', 'es', 'fr', 'it', 'tl', 'nl', 'tl', 'pt', 'fr', 'en', 'pt', 'it', 'pt', 'es', 'it', 'it', 'nl', 'fr', 'es', 'es', 'fr', 'nl', 'es', 'en', 'en', 'es', 'in', 'tl', 'in', 'nl', 'nl', 'fr', 'nl', 'in', 'es', 'in', 'fr', 'it', 'tl', 'es', 'nl', 'nl', 'in', 'pt', 'en', 'tl', 'en', 'it', 'en', 'es', 'es', 'in', 'tl', 'it', 'nl', 'es', 'nl', 'tl', 'fr', 'in', 'es', 'nl', 'tl', 'tl', 'en', 'fr', 'nl', 'nl', 'in', 'es', 'en', 'tl', 'tl', 'es', 'nl', 'in', 'es', 'nl', 'fr', 'pt', 'tl', 'nl', 'it', 'es', 'nl', 'pt', 'it', 'tl', 'en', 'fr', 'tl', 'tl', 'pt', 'in', 'tl', 'nl', 'it', 'nl', 'tl', 'fr', 'in', 'nl', 'es', 'it', 'fr', 'it', 'tl', 'it', 'nl', 'en', 'pt', 'tl', 'it', 'in', 'en', 'in', 'es', 'it', 'it', 'in', 'in', 'fr', 'es', 'en', 'fr', 'in', 'fr', 'es', 'nl', 'pt', 'tl', 'es', 'es', 'en', 'it', 'pt', 'in', 'nl', 'it', 'it', 'tl', 'it', 'fr', 'it', 'pt', 'es', 'pt', 'es', 'tl', 'es', 'es', 'tl', 'en', 'en', 'es', 'en', 'in', 'it', 'it', 'nl', 'nl', 'es', 'it', 'in', 'nl', 'pt', 'nl', 'nl', 'fr', 'in', 'es', 'pt', 'en', 'fr', 'it', 'es', 'it', 'pt', 'nl', 'it', 'pt', 'fr', 'it', 'in', 'es', 'nl', 'tl', 'in', 'fr', 'en', 'es', 'es', 'en', 'pt', 'es', 'fr', 'tl', 'it', 'it', 'en', 'fr', 'pt', 'es', 'tl', 'in', 'en', 'fr', 'it', 'nl', 'fr', 'es', 'pt', 'tl', 'en', 'en', 'it', 'nl', 'en', 'in', 'it', 'es', 'in', 'it', 'tl', 'tl', 'nl', 'tl', 'tl', 'pt', 'tl', 'pt', 'nl', 'fr', 'pt', 'es', 'fr', 'en', 'nl', 'it', 'nl', 'it', 'fr', 'en', 'in', 'nl', 'it', 'tl', 'fr', 'en', 'tl', 'in', 'en', 'es', 'it', 'it', 'en', 'es', 'in', 'nl', 'fr', 'pt', 'en', 'fr', 'en', 'nl', 'fr', 'fr', 'en', 'in', 'tl', 'nl', 'tl', 'fr', 'en', 'it', 'tl', 'en', 'nl', 'fr', 'fr', 'it', 'it', 'pt', 'in', 'nl', 'pt', 'en', 'in', 'it', 'it', 'nl', 'fr', 'fr', 'it', 'en', 'en', 'en', 'in', 'in', 'it', 'pt', 'es', 'es', 'fr', 'in', 'it', 'it', 'en', 'en', 'it', 'pt', 'nl', 'es', 'nl', 'fr', 'nl', 'nl', 'fr', 'nl', 'es', 'tl', 'pt', 'en', 'tl', 'en', 'tl', 'en', 'es', 'tl', 'pt', 'en', 'fr', 'en', 'it', 'fr', 'in', 'fr', 'pt', 'es', 'in', 'it', 'fr', 'it', 'es', 'es', 'in', 'en', 'pt', 'nl', 'in', 'nl', 'fr', 'in', 'en', 'en', 'pt', 'it', 'fr', 'tl', 'tl', 'in', 'en', 'en', 'en', 'in', 'pt', 'nl', 'fr', 'es', 'nl', 'pt', 'tl', 'in', 'tl', 'it', 'in', 'in', 'nl', 'nl', 'pt', 'en', 'tl', 'it', 'en', 'en', 'it', 'en', 'fr', 'fr', 'in', 'pt', 'in', 'tl', 'pt', 'es', 'fr', 'fr', 'it', 'tl', 'fr', 'fr', 'it', 'en', 'it', 'es', 'tl', 'en', 'pt', 'es', 'in', 'nl', 'pt', 'nl', 'en', 'in', 'es', 'nl', 'pt', 'en', 'pt', 'nl', 'it', 'it', 'fr', 'es', 'it', 'it', 'nl', 'fr', 'en', 'es', 'in', 'fr', 'es', 'en', 'tl', 'it', 'fr', 'en', 'tl', 'tl', 'en', 'in', 'it', 'fr', 'es', 'es', 'es', 'en', 'nl', 'tl', 'es', 'es', 'fr', 'pt', 'it', 'tl', 'es', 'es', 'pt', 'nl', 'tl', 'tl', 'tl', 'pt', 'in', 'fr', 'tl', 'in', 'in', 'it', 'nl', 'it', 'nl', 'tl', 'es', 'pt', 'fr', 'nl', 'es', 'fr', 'en', 'in', 'nl', 'es', 'fr', 'in', 'tl', 'en', 'nl', 'pt', 'tl', 'tl', 'en', 'es', 'en', 'es', 'tl', 'pt', 'en', 'it', 'tl', 'pt', 'pt', 'es', 'in', 'tl', 'tl', 'en', 'fr', 'in', 'it', 'nl', 'nl', 'es', 'es', 'nl', 'pt', 'it', 'es', 'in', 'nl', 'it', 'fr', 'tl', 'in', 'in', 'nl', 'tl', 'fr', 'it', 'es', 'in', 'in', 'in', 'fr', 'fr', 'en', 'pt', 'fr', 'tl', 'in', 'es', 'en', 'fr', 'pt', 'fr', 'in', 'en', 'in', 'it', 'fr', 'nl', 'en', 'en', 'nl', 'en', 'in', 'pt', 'fr', 'tl', 'fr', 'fr', 'es', 'en', 'fr', 'en', 'es', 'it', 'es', 'it', 'in', 'in', 'fr', 'nl', 'in', 'fr', 'tl', 'in', 'en', 'it', 'nl', 'it', 'en', 'in', 'nl', 'pt', 'es', 'en', 'nl', 'fr', 'tl', 'nl', 'en', 'in', 'nl', 'in', 'nl', 'pt', 'tl', 'fr', 'in', 'tl', 'tl', 'pt', 'in', 'es', 'fr', 'it', 'in', 'in', 'es', 'it', 'es', 'it', 'in', 'es', 'es', 'nl', 'tl', 'nl', 'en', 'en', 'pt', 'tl', 'in', 'en', 'en', 'pt', 'it', 'fr', 'fr', 'fr', 'en', 'fr', 'tl', 'in', 'en', 'fr', 'es', 'en', 'fr', 'nl', 'tl', 'es', 'en', 'tl', 'in', 'nl', 'es', 'it', 'in', 'es', 'tl', 'it', 'pt', 'nl', 'pt', 'tl', 'en', 'es', 'en', 'en', 'in', 'fr', 'en', 'it', 'fr', 'in', 'nl', 'es', 'it', 'en', 'nl', 'in', 'tl', 'pt', 'in', 'in', 'fr', 'fr', 'it', 'in', 'pt', 'en', 'in', 'es', 'in', 'es', 'in', 'pt', 'en', 'fr', 'in', 'pt', 'fr', 'it', 'nl', 'nl', 'tl', 'fr', 'in', 'en', 'pt', 'nl', 'en', 'es', 'fr', 'pt', 'in', 'es', 'it', 'in', 'in', 'it', 'nl', 'tl', 'en', 'tl', 'nl', 'pt', 'es', 'nl', 'fr', 'pt', 'tl', 'es', 'fr', 'in', 'en', 'es', 'es', 'nl', 'tl', 'in', 'fr', 'it', 'fr', 'in', 'nl', 'pt', 'pt', 'pt', 'it', 'in', 'in', 'en', 'fr', 'nl', 'tl', 'pt', 'en', 'it', 'in', 'es', 'fr', 'nl', 'nl', 'in', 'nl', 'in', 'en', 'in', 'nl', 'pt', 'en', 'fr', 'es', 'es', 'en', 'tl', 'en', 'pt', 'fr', 'nl', 'it', 'en', 'pt', 'in', 'es', 'tl', 'es', 'tl', 'in', 'nl', 'en', 'en', 'en', 'tl', 'fr', 'nl', 'it', 'in', 'en', 'nl', 'fr', 'es', 'es', 'fr', 'in', 'it', 'en', 'es', 'in', 'en', 'nl', 'it', 'in', 'tl', 'es', 'it', 'nl', 'fr', 'pt', 'fr', 'it', 'es', 'in', 'nl', 'in', 'nl', 'es', 'en', 'pt', 'tl', 'tl', 'in', 'nl', 'en', 'it', 'pt', 'in', 'en', 'nl', 'nl', 'it', 'fr', 'nl', 'en', 'tl', 'en', 'it', 'es', 'it', 'es', 'in', 'in', 'fr', 'tl', 'fr', 'es', 'en', 'tl', 'en', 'en', 'en', 'tl', 'fr', 'pt', 'es', 'en', 'fr', 'tl', 'fr', 'in', 'pt', 'tl', 'tl', 'it', 'tl', 'pt', 'fr', 'in', 'pt', 'nl', 'en', 'tl', 'pt', 'tl', 'en', 'it', 'es', 'tl', 'fr', 'fr', 'nl', 'tl', 'nl', 'pt', 'en', 'nl', 'en', 'en', 'it', 'pt', 'es', 'nl', 'it', 'en', 'es', 'in', 'es', 'it', 'es', 'pt', 'tl', 'fr', 'it', 'es', 'en', 'tl', 'en', 'nl', 'es', 'es', 'in', 'nl', 'nl', 'pt', 'tl', 'en', 'tl', 'in', 'in', 'pt', 'tl', 'en', 'fr', 'nl', 'fr', 'in', 'in', 'in', 'it', 'tl', 'pt', 'it', 'nl', 'nl', 'en', 'en', 'pt', 'es', 'pt', 'it', 'tl', 'es', 'en', 'it', 'es', 'nl', 'fr', 'en', 'nl', 'in', 'fr', 'nl', 'es', 'fr', 'nl', 'en', 'tl', 'nl', 'nl', 'tl', 'it', 'en', 'en', 'nl', 'tl', 'pt', 'nl', 'it', 'it', 'en', 'fr', 'nl', 'en', 'en', 'en', 'es', 'in', 'en', 'fr', 'in', 'it', 'en', 'pt', 'en', 'fr', 'tl', 'it', 'in', 'es', 'en', 'pt', 'es', 'fr', 'it', 'in', 'it', 'en', 'es', 'tl', 'it', 'pt', 'es', 'fr', 'tl', 'it', 'fr', 'pt', 'it', 'tl', 'it', 'en', 'nl', 'in', 'tl', 'tl', 'en', 'tl', 'it', 'in', 'en', 'es', 'tl', 'fr', 'in', 'fr', 'tl', 'es', 'nl', 'in', 'en', 'es', 'pt', 'it', 'es', 'es', 'fr', 'tl', 'it', 'es', 'nl', 'es', 'nl', 'it', 'in', 'tl', 'en', 'pt', 'en', 'pt', 'nl', 'it', 'tl', 'tl', 'en', 'fr', 'en', 'en', 'in', 'nl', 'fr', 'tl', 'it', 'tl', 'es', 'pt', 'en', 'en', 'fr', 'pt', 'tl', 'fr', 'it', 'fr', 'it', 'en', 'pt', 'en', 'it', 'es', 'it', 'nl', 'it', 'tl', 'es', 'in', 'tl', 'fr', 'in', 'it', 'in', 'tl', 'es', 'pt', 'nl', 'tl', 'in', 'pt', 'es', 'it', 'tl', 'it', 'pt', 'in', 'in', 'it', 'it', 'in', 'nl', 'pt', 'in', 'fr', 'pt', 'fr', 'en', 'en', 'fr', 'in', 'it', 'nl', 'en', 'pt', 'in', 'tl', 'en', 'es', 'es', 'tl', 'es', 'in', 'en', 'es', 'en', 'en', 'pt', 'fr', 'fr', 'in', 'es', 'en', 'fr', 'tl', 'pt', 'es', 'es', 'in', 'in', 'es', 'en', 'es', 'es', 'it', 'fr', 'nl', 'in', 'en', 'in', 'nl', 'tl', 'pt', 'nl', 'fr', 'in', 'it', 'tl', 'nl', 'in', 'tl', 'tl', 'tl', 'in', 'en', 'es', 'in', 'pt', 'in', 'it', 'it', 'in', 'in', 'es', 'en', 'nl', 'fr', 'it', 'tl', 'fr', 'in', 'tl', 'en', 'pt', 'pt', 'en', 'in', 'nl', 'in', 'en', 'pt', 'it', 'fr', 'en', 'tl', 'tl', 'en', 'in', 'in', 'in', 'nl', 'en', 'pt', 'it', 'in', 'nl', 'pt', 'in', 'fr', 'fr', 'en', 'pt', 'en', 'it', 'nl', 'it', 'en', 'pt', 'in', 'tl', 'pt', 'en', 'tl', 'tl', 'pt', 'fr', 'tl', 'nl', 'fr', 'fr', 'es', 'fr', 'es', 'it', 'in', 'fr', 'tl', 'es', 'in', 'tl', 'tl', 'pt', 'pt', 'tl', 'es', 'es', 'en', 'it', 'es', 'nl', 'en', 'es', 'fr', 'en', 'tl', 'in', 'es', 'in', 'tl', 'es', 'tl', 'pt', 'fr', 'en', 'en', 'it', 'es', 'it', 'in', 'fr', 'es', 'pt', 'tl', 'nl', 'in', 'en', 'es', 'pt', 'pt', 'tl', 'tl', 'it', 'nl', 'fr', 'en', 'es', 'fr', 'es', 'en', 'tl', 'pt', 'it', 'it', 'it', 'tl', 'in', 'tl', 'en', 'fr', 'fr', 'tl', 'nl', 'it', 'pt', 'in', 'es', 'in', 'es', 'en', 'fr', 'en', 'en', 'en', 'nl', 'fr', 'it', 'in', 'it', 'es', 'in', 'en', 'es', 'es', 'tl', 'en', 'tl', 'nl', 'en', 'pt', 'pt', 'en', 'it', 'es', 'es', 'pt', 'pt', 'it', 'fr', 'fr', 'tl', 'in', 'pt', 'pt', 'fr', 'tl', 'pt', 'es', 'fr', 'pt', 'en', 'fr', 'es', 'es', 'es', 'fr', 'tl', 'es', 'es', 'es', 'it', 'tl', 'en', 'pt', 'nl', 'fr', 'fr', 'in', 'pt', 'es', 'in', 'en', 'it', 'in', 'in', 'tl', 'it', 'en', 'in', 'nl', 'en', 'es', 'it', 'nl', 'tl', 'pt', 'es', 'tl', 'nl', 'nl', 'tl', 'it', 'it', 'it', 'tl', 'pt', 'tl', 'in', 'in', 'es', 'pt', 'in', 'fr', 'es', 'in', 'in', 'nl', 'nl', 'es', 'fr', 'en', 'pt', 'tl', 'es', 'es', 'pt', 'nl', 'fr', 'tl', 'pt', 'tl', 'tl', 'en', 'pt', 'tl', 'nl', 'nl', 'pt', 'en', 'fr', 'in', 'en', 'it', 'fr', 'it', 'it', 'it', 'in', 'pt', 'in', 'en', 'nl', 'it', 'es', 'nl', 'en', 'in', 'en', 'it', 'in', 'tl', 'fr', 'es', 'en', 'in', 'it', 'pt', 'nl', 'it', 'en', 'es', 'tl', 'tl', 'it', 'pt', 'en', 'en', 'en', 'es', 'nl', 'pt', 'nl', 'tl', 'en', 'pt', 'it', 'tl', 'pt', 'tl', 'it', 'nl', 'en', 'in', 'fr', 'fr', 'fr', 'fr', 'es', 'nl', 'it', 'nl', 'tl', 'pt', 'en', 'in', 'fr', 'en', 'nl', 'nl', 'tl', 'in', 'nl', 'nl', 'es', 'pt', 'in', 'nl', 'pt', 'en', 'nl', 'en', 'it', 'es', 'en', 'es', 'tl', 'en', 'pt', 'nl', 'es', 'pt', 'nl', 'fr', 'pt', 'nl', 'pt', 'es', 'en', 'it', 'tl', 'en', 'en', 'in', 'in', 'pt', 'es', 'in', 'in', 'es', 'in', 'tl', 'en', 'it', 'tl', 'tl', 'nl', 'en', 'tl', 'en', 'nl', 'fr', 'es', 'it', 'pt', 'es', 'es', 'en', 'es', 'en', 'en', 'fr', 'tl', 'it', 'pt', 'es', 'en', 'en', 'it', 'nl', 'pt', 'it', 'in', 'es', 'tl', 'it', 'in', 'es', 'fr', 'fr', 'it', 'en', 'fr', 'nl', 'fr', 'fr', 'en', 'it', 'it', 'nl', 'tl', 'en', 'fr', 'es', 'it', 'es', 'en', 'pt', 'tl', 'fr', 'fr', 'in', 'es', 'in', 'tl', 'es', 'tl', 'nl', 'fr', 'it', 'pt', 'fr', 'tl', 'nl', 'fr', 'tl', 'nl', 'in', 'in', 'fr', 'fr', 'fr', 'it', 'in', 'tl', 'it', 'nl', 'es', 'es', 'it', 'it', 'in', 'fr', 'es', 'nl', 'in', 'it', 'en', 'nl', 'in', 'tl', 'in', 'nl', 'fr', 'es', 'nl', 'in', 'en', 'fr', 'en', 'nl', 'in', 'it', 'pt', 'nl', 'es', 'nl', 'in', 'pt', 'fr', 'fr', 'en', 'es', 'es', 'fr', 'es', 'en', 'fr', 'nl', 'in', 'fr', 'in', 'pt', 'es', 'pt', 'en', 'in', 'nl', 'fr', 'es', 'es', 'nl', 'it', 'pt', 'pt', 'fr', 'pt', 'nl', 'pt', 'tl', 'nl', 'fr', 'en', 'es', 'pt', 'pt', 'fr', 'it', 'it', 'it', 'nl', 'in', 'nl', 'en', 'in', 'tl', 'in', 'nl', 'es', 'nl', 'tl', 'nl', 'in', 'it', 'in', 'fr', 'es', 'es', 'en', 'en', 'in', 'pt', 'fr', 'fr', 'en', 'in', 'en', 'in', 'fr', 'es', 'fr', 'tl', 'en', 'fr', 'it', 'nl', 'en', 'it', 'en', 'nl', 'en', 'it', 'en', 'es', 'in', 'in', 'en', 'it', 'in', 'it', 'en', 'en', 'in', 'en', 'pt', 'pt', 'en', 'fr', 'en', 'fr', 'fr', 'es', 'it', 'en', 'pt', 'tl', 'fr', 'es', 'pt', 'it', 'in', 'en', 'tl', 'en', 'es', 'tl', 'fr', 'nl', 'pt', 'es', 'in', 'nl', 'pt', 'pt', 'it', 'nl', 'en', 'tl', 'es', 'en', 'nl', 'nl', 'it', 'tl', 'in', 'in', 'it', 'en', 'tl', 'es', 'it', 'tl', 'es', 'en', 'nl', 'es', 'pt', 'pt', 'nl', 'tl', 'nl', 'nl', 'nl', 'it', 'en', 'in', 'es', 'pt', 'tl', 'it', 'in', 'en', 'es', 'en', 'tl', 'es', 'fr', 'nl', 'en', 'in', 'nl', 'it', 'nl', 'es', 'in', 'en', 'pt', 'tl', 'tl', 'nl', 'nl', 'in', 'it', 'en', 'en', 'tl', 'pt', 'in', 'es', 'fr', 'nl', 'fr', 'es', 'tl', 'nl', 'en', 'pt', 'es', 'fr', 'es', 'in', 'en', 'in', 'fr', 'en', 'it', 'fr', 'fr', 'nl', 'tl', 'es', 'es', 'en', 'nl', 'nl', 'in', 'nl', 'in', 'pt', 'it', 'es', 'fr', 'en', 'tl', 'es', 'nl', 'it', 'it', 'en', 'tl', 'nl', 'es', 'nl', 'nl', 'in', 'in', 'fr', 'tl', 'tl', 'it', 'nl', 'nl', 'pt', 'fr', 'tl', 'pt', 'fr', 'pt', 'pt', 'pt', 'nl', 'pt', 'es', 'es', 'es', 'fr', 'nl', 'es', 'en', 'tl', 'pt', 'nl', 'it', 'pt', 'nl', 'in', 'tl', 'fr', 'tl', 'pt', 'in', 'it', 'in', 'it', 'nl', 'in', 'in', 'pt', 'fr', 'fr', 'nl', 'nl', 'it', 'pt', 'es', 'pt', 'fr', 'pt', 'tl', 'es', 'pt', 'tl', 'in', 'en', 'in', 'nl', 'es', 'es', 'in', 'nl', 'pt', 'pt', 'fr', 'tl', 'en', 'pt', 'nl', 'en', 'en', 'nl', 'tl', 'en', 'pt', 'nl', 'nl', 'in', 'tl', 'fr', 'en', 'en', 'fr', 'tl', 'en', 'pt', 'tl', 'es', 'en', 'es', 'es', 'en', 'en', 'fr', 'pt', 'fr', 'nl', 'es', 'en', 'fr', 'pt', 'fr', 'in', 'pt', 'fr', 'it', 'tl', 'nl', 'en', 'fr', 'tl', 'tl', 'nl', 'pt', 'fr', 'it', 'nl', 'en', 'es', 'tl', 'pt', 'in', 'in', 'es', 'en', 'en', 'pt', 'nl', 'en', 'fr', 'en', 'in', 'it', 'es', 'es', 'it', 'nl', 'tl', 'nl', 'it', 'in', 'fr', 'it', 'in', 'in', 'nl', 'fr', 'pt', 'nl', 'it', 'fr', 'tl', 'in', 'pt', 'nl', 'it', 'it', 'in', 'tl', 'es', 'es', 'fr', 'tl', 'pt', 'tl', 'it', 'it', 'fr', 'pt', 'it', 'fr', 'pt', 'it', 'tl', 'it', 'nl', 'pt', 'tl', 'in', 'en', 'en', 'in', 'tl', 'pt', 'fr', 'nl', 'fr', 'it', 'fr', 'en', 'en', 'pt', 'in', 'it', 'en', 'fr', 'it', 'in', 'fr', 'in', 'tl', 'es', 'tl', 'pt', 'pt', 'fr', 'it', 'nl', 'pt', 'en', 'es', 'fr', 'in', 'it', 'tl', 'it', 'fr', 'it', 'nl', 'nl', 'fr', 'pt', 'it', 'nl', 'it', 'es', 'in', 'tl', 'fr', 'in', 'in', 'en', 'nl', 'fr', 'pt', 'fr', 'it', 'es', 'tl', 'en', 'it', 'pt', 'nl', 'es', 'nl', 'tl', 'tl', 'pt', 'tl', 'en', 'in', 'en', 'pt', 'fr', 'fr', 'pt', 'fr', 'nl', 'pt', 'nl', 'es', 'in', 'en', 'in', 'en', 'pt', 'it', 'in', 'it', 'tl', 'pt', 'es', 'it', 'en', 'nl', 'pt', 'pt', 'en', 'fr', 'tl', 'en', 'fr', 'pt', 'en', 'es', 'it', 'en', 'tl', 'in', 'in', 'fr', 'fr', 'nl', 'es', 'en', 'nl', 'nl', 'it', 'it', 'nl', 'in', 'en', 'in', 'fr', 'fr', 'tl', 'es', 'tl', 'tl', 'tl', 'pt', 'en', 'it', 'en', 'in', 'es', 'en', 'fr', 'tl', 'nl', 'fr', 'it', 'es', 'fr', 'tl', 'nl', 'fr', 'in', 'fr', 'en', 'tl', 'in', 'pt', 'es', 'en', 'tl', 'in', 'nl', 'it', 'en', 'in', 'fr', 'en', 'en', 'tl', 'fr', 'it', 'fr', 'en', 'nl', 'pt', 'es', 'fr', 'pt', 'it', 'es', 'fr', 'nl', 'in', 'pt', 'es', 'en', 'tl', 'pt', 'it', 'fr', 'tl', 'es', 'tl', 'pt', 'nl', 'en', 'fr', 'tl', 'pt', 'pt', 'en', 'in', 'pt', 'pt', 'es', 'pt', 'nl', 'pt', 'nl', 'nl', 'pt', 'in', 'nl', 'es', 'pt', 'nl', 'fr', 'pt', 'tl', 'nl', 'fr', 'pt', 'tl', 'in', 'it', 'fr', 'pt', 'en', 'pt', 'nl', 'in', 'tl', 'in', 'en', 'it', 'pt', 'pt', 'fr', 'nl', 'it', 'it', 'in', 'in', 'in', 'en', 'es', 'es', 'es', 'it', 'en', 'en', 'tl', 'in', 'en', 'pt', 'nl', 'it', 'fr', 'es', 'es', 'es', 'pt', 'nl', 'tl', 'it', 'nl', 'fr', 'en', 'it', 'es', 'es', 'en', 'it', 'in', 'en', 'pt', 'fr', 'es', 'en', 'tl', 'in', 'in', 'es', 'es', 'in', 'nl', 'it', 'en', 'nl', 'in', 'es', 'it', 'en', 'in', 'nl', 'it', 'pt', 'en', 'nl', 'tl', 'it', 'es', 'es', 'fr', 'nl', 'en', 'in', 'in', 'in', 'it', 'pt', 'en', 'pt', 'nl', 'pt', 'nl', 'en', 'nl', 'nl', 'fr', 'in', 'it', 'es', 'nl', 'es', 'pt', 'pt', 'fr', 'fr', 'en', 'en', 'it', 'it', 'fr', 'fr', 'it', 'fr', 'nl', 'in', 'in', 'en', 'it', 'es', 'fr', 'in', 'es', 'nl', 'fr', 'tl', 'nl', 'pt', 'in', 'nl', 'it', 'es', 'fr', 'fr', 'en', 'en', 'es', 'en', 'en', 'it', 'nl', 'it', 'fr', 'es', 'nl', 'tl', 'in', 'it', 'fr', 'es', 'es', 'en', 'it', 'pt', 'in', 'es', 'in', 'tl', 'nl', 'fr', 'en', 'es', 'in', 'nl', 'nl', 'pt', 'tl', 'pt', 'pt', 'nl', 'en', 'en', 'es', 'tl', 'pt', 'nl', 'nl', 'fr', 'in', 'nl', 'es', 'fr', 'fr', 'in', 'en', 'fr', 'tl', 'in', 'pt', 'in', 'es', 'nl', 'es', 'tl', 'it', 'en', 'nl', 'fr', 'nl', 'pt', 'tl', 'in', 'es', 'pt', 'es', 'in', 'en', 'es', 'nl', 'pt', 'en', 'es', 'es', 'pt', 'es', 'nl', 'en', 'tl', 'fr', 'pt', 'it', 'es', 'nl', 'fr', 'en', 'en', 'en', 'it', 'it', 'nl', 'es', 'in', 'fr', 'it', 'it', 'fr', 'tl', 'nl', 'tl', 'pt', 'es', 'in', 'fr', 'en', 'pt', 'nl', 'tl', 'es', 'pt', 'en', 'it', 'pt', 'fr', 'pt', 'es', 'pt', 'tl', 'fr', 'en', 'en', 'pt', 'fr', 'en', 'fr', 'en', 'pt', 'nl', 'en', 'it', 'it', 'en', 'in', 'tl', 'es', 'en', 'en', 'fr', 'tl', 'tl', 'nl', 'pt', 'it', 'in', 'es', 'in', 'in', 'nl', 'tl', 'es', 'tl', 'fr', 'nl', 'in', 'nl', 'pt', 'nl', 'tl', 'tl', 'pt', 'in', 'fr', 'fr', 'fr', 'es', 'nl', 'en', 'tl', 'nl', 'it', 'fr', 'nl', 'nl', 'fr', 'it', 'en', 'es', 'fr', 'tl', 'fr', 'fr', 'in', 'in', 'en', 'tl', 'nl', 'it', 'es', 'it', 'tl', 'tl', 'en', 'en', 'nl', 'it', 'fr', 'nl', 'en', 'fr', 'it', 'fr', 'in', 'en', 'tl', 'tl', 'in', 'es', 'fr', 'it', 'tl', 'it', 'in', 'pt', 'es', 'in', 'fr', 'en', 'tl', 'nl', 'pt', 'in', 'nl', 'en', 'tl', 'pt', 'es', 'en', 'it', 'in', 'es', 'es', 'tl', 'pt', 'in', 'nl', 'in', 'it', 'it', 'es', 'in', 'it', 'fr', 'in', 'in', 'pt', 'fr', 'in', 'tl', 'fr', 'pt', 'tl', 'tl', 'in', 'nl', 'es', 'pt', 'en', 'es', 'in', 'nl', 'it', 'it', 'it', 'en', 'es', 'pt', 'en', 'tl', 'in', 'es', 'nl', 'es', 'tl', 'it', 'in', 'fr', 'tl', 'en', 'es', 'it', 'es', 'in', 'nl', 'nl', 'in', 'en', 'it', 'nl', 'pt', 'tl', 'fr', 'fr', 'nl', 'pt', 'tl', 'it', 'it', 'en', 'en', 'en', 'en', 'fr', 'fr', 'pt', 'it', 'nl', 'it', 'it', 'it', 'pt', 'nl', 'in', 'nl', 'fr', 'tl', 'es', 'pt', 'es', 'in', 'es', 'nl', 'it', 'es', 'it', 'en', 'in', 'tl', 'nl', 'it', 'nl', 'es', 'it', 'tl', 'tl', 'tl', 'nl', 'tl', 'pt', 'fr', 'en', 'tl', 'es', 'it', 'it', 'tl', 'pt', 'en', 'fr', 'en', 'es', 'tl', 'es', 'in', 'tl', 'in', 'fr', 'it', 'es', 'en', 'in', 'in', 'es', 'tl', 'en', 'pt', 'fr', 'in', 'in', 'tl', 'in', 'es', 'en', 'es', 'en', 'nl', 'en', 'it', 'pt', 'nl', 'it', 'nl', 'pt', 'nl', 'nl', 'en', 'fr', 'pt', 'en', 'pt', 'tl', 'fr', 'fr', 'nl', 'pt', 'tl', 'pt', 'en', 'nl', 'en', 'en', 'tl', 'it', 'pt', 'en', 'tl', 'en', 'pt', 'fr', 'nl', 'pt', 'tl', 'in', 'nl', 'en', 'in', 'es', 'nl', 'in', 'en', 'pt', 'pt', 'it', 'es', 'es', 'pt', 'it', 'pt', 'fr', 'fr', 'in', 'in', 'es', 'tl', 'tl', 'es', 'en', 'it', 'en', 'it', 'es', 'in', 'en', 'tl', 'it', 'tl', 'pt', 'nl', 'tl', 'nl', 'tl', 'tl', 'es', 'in', 'en', 'es', 'fr', 'fr', 'nl', 'it', 'in', 'it', 'in', 'tl', 'pt', 'pt', 'en', 'in', 'it', 'pt', 'fr', 'it', 'fr', 'fr', 'in', 'nl', 'fr', 'nl', 'es', 'in', 'nl', 'tl', 'nl', 'fr', 'tl', 'en', 'it', 'nl', 'tl', 'es', 'fr', 'in', 'pt', 'tl', 'nl', 'it', 'pt', 'en', 'nl', 'tl', 'nl', 'nl', 'nl', 'en', 'tl', 'pt', 'es', 'tl', 'it', 'in', 'in', 'it', 'it', 'pt', 'nl', 'nl', 'es', 'en', 'nl', 'es', 'en', 'it', 'in', 'pt', 'fr', 'pt', 'it', 'tl', 'fr', 'in', 'es', 'in', 'es', 'it', 'tl', 'tl', 'it', 'pt', 'it', 'en', 'en', 'it', 'pt', 'in', 'it', 'fr', 'in', 'tl', 'en', 'pt', 'tl', 'tl', 'fr', 'fr', 'fr', 'in', 'pt', 'pt', 'in', 'en', 'en', 'es', 'en', 'tl', 'it', 'in', 'es', 'tl', 'pt', 'it', 'en', 'es', 'fr', 'tl', 'in', 'nl', 'es', 'en', 'in', 'pt', 'es', 'it', 'it', 'tl', 'fr', 'nl', 'es', 'pt', 'it', 'pt', 'en', 'pt', 'es', 'pt', 'en', 'it', 'pt', 'nl', 'fr', 'es', 'en', 'it', 'tl', 'pt', 'pt', 'es', 'in', 'in', 'pt', 'in', 'in', 'it', 'en', 'fr', 'it', 'fr', 'pt', 'en', 'es', 'nl', 'fr', 'tl', 'fr', 'nl', 'in', 'es', 'en', 'nl', 'tl', 'en', 'fr', 'es', 'pt', 'nl', 'it', 'pt', 'en', 'nl', 'es', 'fr', 'fr', 'nl', 'pt', 'nl', 'pt', 'fr', 'nl', 'it', 'es', 'fr', 'pt', 'en', 'fr', 'tl', 'tl', 'nl', 'nl', 'tl', 'tl', 'en', 'fr', 'en', 'nl', 'nl', 'en', 'it', 'fr', 'pt', 'tl', 'en', 'nl', 'nl', 'tl', 'pt', 'in', 'pt', 'it', 'nl', 'nl', 'en', 'tl', 'fr', 'it', 'it', 'fr', 'nl', 'es', 'fr', 'es', 'tl', 'pt', 'in', 'fr', 'nl', 'nl', 'es', 'fr', 'en', 'en', 'en', 'en', 'in', 'fr', 'in', 'en', 'en', 'pt', 'in', 'in', 'it', 'fr', 'in', 'fr', 'in', 'tl', 'nl', 'fr', 'in', 'fr', 'fr', 'en', 'tl', 'nl', 'tl', 'it', 'fr', 'nl', 'fr', 'in', 'fr', 'es', 'it', 'en', 'es', 'pt', 'es', 'it', 'in', 'in', 'en', 'en', 'fr', 'it', 'nl', 'it', 'tl', 'es', 'in', 'it', 'pt', 'en']\n"
     ]
    }
   ],
   "source": [
    "def classify():\n",
    "   models = {}\n",
    "   res = []\n",
    "   n=3\n",
    "   add_one =True\n",
    "   data_file_path = f'nlp-course/lm-languages-data-new/test.csv'\n",
    "   for language_model in languages:\n",
    "        models[language_model] = lm(n, preprocess(),f'nlp-course/lm-languages-data-new/{language_model}.csv',add_one)\n",
    "   tweets =  pd.read_csv(data_file_path).get('tweet_text')\n",
    "   for tweet in tweets:\n",
    "     correctLang = languages[0]\n",
    "     minperplexity = float('inf')\n",
    "     for lang, model in models.items():\n",
    "        perplexity = evalTweet(tweet,n,model)\n",
    "        if perplexity< minperplexity:\n",
    "          correctLang = lang\n",
    "          minperplexity = perplexity\n",
    "     res.append(correctLang)\n",
    "   return res\n",
    "\n",
    "\n",
    "\n",
    "\n",
    "   \n",
    "\n",
    "  # TODO\n",
    "clasification_result = classify()\n",
    "print(clasification_result)"
   ]
  },
  {
   "cell_type": "markdown",
   "metadata": {
    "id": "q5ECmLd3rktZ"
   },
   "source": [
    "**Part 7**\n",
    "\n",
    "Calculate the F1 score of your output from part 6. (hint: you can use https://scikit-learn.org/stable/modules/generated/sklearn.metrics.f1_score.html). \n"
   ]
  },
  {
   "cell_type": "code",
   "execution_count": 153,
   "metadata": {
    "colab": {
     "base_uri": "https://localhost:8080/"
    },
    "id": "VOBO3YQls66r",
    "outputId": "1630d42e-d31f-4059-c605-982efa90e370"
   },
   "outputs": [
    {
     "name": "stdout",
     "output_type": "stream",
     "text": [
      "['en', 'it', 'tl', 'nl', 'tl', 'in', 'pt', 'nl', 'fr', 'pt', 'en', 'tl', 'pt', 'es', 'es', 'fr', 'en', 'nl', 'fr', 'nl', 'es', 'fr', 'en', 'pt', 'tl', 'pt', 'en', 'fr', 'fr', 'in', 'nl', 'tl', 'nl', 'tl', 'it', 'nl', 'in', 'es', 'es', 'nl', 'fr', 'en', 'es', 'fr', 'it', 'es', 'nl', 'es', 'tl', 'tl', 'en', 'nl', 'pt', 'tl', 'nl', 'en', 'pt', 'tl', 'it', 'en', 'pt', 'it', 'tl', 'fr', 'en', 'tl', 'tl', 'nl', 'it', 'tl', 'fr', 'pt', 'in', 'pt', 'in', 'nl', 'pt', 'tl', 'es', 'tl', 'en', 'tl', 'en', 'in', 'nl', 'fr', 'nl', 'in', 'fr', 'tl', 'en', 'pt', 'es', 'nl', 'tl', 'nl', 'tl', 'tl', 'it', 'es', 'in', 'pt', 'in', 'en', 'es', 'nl', 'pt', 'en', 'pt', 'it', 'es', 'in', 'pt', 'nl', 'tl', 'fr', 'tl', 'it', 'es', 'fr', 'nl', 'en', 'en', 'pt', 'pt', 'es', 'nl', 'en', 'pt', 'es', 'pt', 'it', 'tl', 'it', 'es', 'es', 'fr', 'pt', 'it', 'en', 'fr', 'fr', 'in', 'it', 'es', 'es', 'in', 'tl', 'pt', 'pt', 'pt', 'in', 'in', 'en', 'fr', 'fr', 'it', 'tl', 'nl', 'it', 'es', 'fr', 'fr', 'nl', 'it', 'es', 'nl', 'pt', 'es', 'en', 'nl', 'in', 'es', 'pt', 'es', 'tl', 'pt', 'in', 'pt', 'en', 'tl', 'nl', 'fr', 'fr', 'fr', 'it', 'fr', 'in', 'in', 'es', 'es', 'it', 'in', 'it', 'es', 'en', 'it', 'in', 'tl', 'en', 'tl', 'fr', 'tl', 'nl', 'tl', 'nl', 'nl', 'pt', 'it', 'in', 'es', 'es', 'pt', 'in', 'fr', 'it', 'es', 'es', 'tl', 'nl', 'pt', 'en', 'nl', 'en', 'pt', 'fr', 'nl', 'fr', 'fr', 'it', 'en', 'fr', 'fr', 'pt', 'nl', 'nl', 'it', 'en', 'fr', 'en', 'es', 'pt', 'it', 'en', 'in', 'it', 'in', 'it', 'pt', 'it', 'in', 'nl', 'nl', 'es', 'nl', 'fr', 'fr', 'pt', 'en', 'in', 'en', 'it', 'tl', 'in', 'en', 'in', 'tl', 'in', 'fr', 'in', 'en', 'en', 'es', 'it', 'tl', 'fr', 'en', 'pt', 'in', 'nl', 'nl', 'tl', 'es', 'es', 'fr', 'fr', 'en', 'pt', 'pt', 'es', 'in', 'es', 'it', 'pt', 'pt', 'tl', 'nl', 'es', 'fr', 'tl', 'es', 'en', 'es', 'en', 'en', 'in', 'fr', 'it', 'pt', 'nl', 'pt', 'pt', 'es', 'in', 'it', 'in', 'it', 'tl', 'fr', 'en', 'nl', 'en', 'tl', 'fr', 'it', 'nl', 'tl', 'tl', 'en', 'pt', 'tl', 'en', 'it', 'es', 'pt', 'es', 'fr', 'es', 'in', 'en', 'fr', 'es', 'fr', 'it', 'fr', 'pt', 'pt', 'it', 'fr', 'fr', 'nl', 'en', 'nl', 'in', 'nl', 'en', 'tl', 'nl', 'es', 'tl', 'nl', 'tl', 'pt', 'fr', 'tl', 'it', 'fr', 'tl', 'in', 'tl', 'in', 'nl', 'nl', 'pt', 'es', 'it', 'pt', 'fr', 'nl', 'pt', 'in', 'es', 'en', 'fr', 'pt', 'nl', 'fr', 'it', 'fr', 'es', 'fr', 'in', 'en', 'fr', 'tl', 'it', 'fr', 'nl', 'es', 'it', 'fr', 'tl', 'pt', 'en', 'in', 'es', 'in', 'fr', 'pt', 'in', 'it', 'pt', 'nl', 'in', 'pt', 'tl', 'fr', 'it', 'en', 'es', 'in', 'en', 'es', 'tl', 'it', 'it', 'nl', 'tl', 'in', 'es', 'es', 'en', 'it', 'in', 'es', 'nl', 'it', 'en', 'fr', 'in', 'pt', 'nl', 'en', 'fr', 'in', 'es', 'fr', 'in', 'in', 'tl', 'pt', 'in', 'it', 'pt', 'pt', 'en', 'es', 'pt', 'tl', 'pt', 'tl', 'nl', 'en', 'in', 'in', 'nl', 'it', 'nl', 'in', 'fr', 'nl', 'pt', 'es', 'pt', 'pt', 'es', 'nl', 'en', 'in', 'in', 'in', 'pt', 'es', 'in', 'fr', 'in', 'en', 'fr', 'fr', 'it', 'tl', 'tl', 'tl', 'it', 'es', 'en', 'fr', 'in', 'in', 'fr', 'tl', 'tl', 'fr', 'es', 'fr', 'tl', 'nl', 'fr', 'fr', 'in', 'es', 'tl', 'pt', 'it', 'fr', 'tl', 'it', 'fr', 'pt', 'in', 'en', 'pt', 'in', 'tl', 'pt', 'tl', 'tl', 'fr', 'nl', 'pt', 'tl', 'fr', 'es', 'nl', 'en', 'es', 'fr', 'es', 'it', 'nl', 'fr', 'tl', 'en', 'es', 'in', 'tl', 'nl', 'es', 'fr', 'en', 'fr', 'en', 'nl', 'tl', 'it', 'it', 'fr', 'pt', 'tl', 'pt', 'en', 'in', 'nl', 'tl', 'en', 'pt', 'pt', 'fr', 'fr', 'en', 'pt', 'es', 'tl', 'in', 'nl', 'pt', 'pt', 'tl', 'en', 'en', 'fr', 'es', 'es', 'fr', 'en', 'pt', 'in', 'es', 'tl', 'en', 'en', 'it', 'es', 'it', 'fr', 'in', 'tl', 'nl', 'fr', 'tl', 'es', 'fr', 'tl', 'pt', 'in', 'pt', 'en', 'nl', 'tl', 'in', 'fr', 'it', 'it', 'en', 'en', 'en', 'es', 'fr', 'en', 'nl', 'pt', 'fr', 'tl', 'en', 'in', 'en', 'pt', 'it', 'in', 'in', 'tl', 'es', 'nl', 'en', 'it', 'it', 'in', 'es', 'in', 'nl', 'it', 'tl', 'es', 'en', 'en', 'tl', 'nl', 'es', 'es', 'it', 'pt', 'pt', 'it', 'pt', 'en', 'fr', 'in', 'nl', 'es', 'fr', 'it', 'it', 'pt', 'fr', 'pt', 'in', 'tl', 'it', 'pt', 'it', 'en', 'tl', 'es', 'it', 'it', 'en', 'it', 'it', 'es', 'nl', 'in', 'fr', 'nl', 'in', 'tl', 'nl', 'es', 'nl', 'it', 'tl', 'tl', 'nl', 'en', 'tl', 'it', 'it', 'nl', 'tl', 'in', 'nl', 'it', 'pt', 'pt', 'tl', 'in', 'it', 'es', 'it', 'tl', 'tl', 'pt', 'tl', 'fr', 'fr', 'it', 'pt', 'pt', 'tl', 'fr', 'pt', 'nl', 'tl', 'nl', 'in', 'en', 'nl', 'pt', 'tl', 'tl', 'it', 'pt', 'es', 'pt', 'en', 'in', 'it', 'it', 'es', 'tl', 'fr', 'it', 'pt', 'pt', 'en', 'nl', 'nl', 'pt', 'es', 'pt', 'fr', 'tl', 'pt', 'fr', 'en', 'in', 'fr', 'nl', 'nl', 'fr', 'fr', 'pt', 'it', 'en', 'in', 'nl', 'fr', 'tl', 'en', 'tl', 'tl', 'en', 'nl', 'es', 'it', 'in', 'fr', 'en', 'nl', 'fr', 'es', 'nl', 'pt', 'fr', 'es', 'tl', 'in', 'pt', 'nl', 'it', 'fr', 'in', 'it', 'nl', 'it', 'it', 'en', 'en', 'es', 'nl', 'pt', 'it', 'en', 'fr', 'nl', 'nl', 'tl', 'it', 'in', 'en', 'fr', 'fr', 'en', 'tl', 'fr', 'nl', 'en', 'es', 'tl', 'en', 'en', 'tl', 'tl', 'it', 'nl', 'fr', 'it', 'fr', 'it', 'nl', 'fr', 'nl', 'in', 'pt', 'fr', 'nl', 'pt', 'in', 'nl', 'tl', 'pt', 'es', 'en', 'en', 'fr', 'pt', 'tl', 'tl', 'nl', 'it', 'en', 'it', 'pt', 'in', 'it', 'tl', 'fr', 'in', 'es', 'pt', 'it', 'en', 'in', 'tl', 'in', 'nl', 'tl', 'en', 'pt', 'en', 'pt', 'pt', 'fr', 'in', 'in', 'tl', 'fr', 'in', 'es', 'it', 'en', 'it', 'es', 'tl', 'in', 'it', 'pt', 'in', 'es', 'in', 'in', 'en', 'tl', 'tl', 'en', 'en', 'it', 'es', 'tl', 'es', 'in', 'in', 'it', 'pt', 'tl', 'en', 'fr', 'nl', 'tl', 'en', 'pt', 'in', 'tl', 'pt', 'en', 'in', 'en', 'it', 'tl', 'es', 'pt', 'it', 'pt', 'es', 'tl', 'in', 'tl', 'fr', 'nl', 'it', 'it', 'pt', 'en', 'es', 'nl', 'it', 'pt', 'tl', 'pt', 'tl', 'pt', 'nl', 'tl', 'in', 'es', 'en', 'en', 'en', 'in', 'fr', 'it', 'in', 'it', 'in', 'en', 'in', 'en', 'nl', 'en', 'es', 'es', 'in', 'it', 'pt', 'pt', 'en', 'tl', 'it', 'pt', 'pt', 'pt', 'tl', 'fr', 'in', 'es', 'en', 'en', 'fr', 'nl', 'in', 'en', 'tl', 'pt', 'en', 'it', 'tl', 'fr', 'pt', 'es', 'nl', 'fr', 'pt', 'es', 'es', 'nl', 'in', 'pt', 'nl', 'en', 'in', 'fr', 'fr', 'en', 'fr', 'es', 'fr', 'in', 'in', 'it', 'tl', 'en', 'pt', 'it', 'in', 'it', 'tl', 'en', 'es', 'en', 'pt', 'en', 'es', 'tl', 'es', 'en', 'tl', 'es', 'es', 'tl', 'nl', 'it', 'en', 'fr', 'nl', 'en', 'en', 'in', 'pt', 'es', 'es', 'en', 'tl', 'in', 'nl', 'tl', 'fr', 'en', 'es', 'es', 'es', 'pt', 'fr', 'fr', 'nl', 'tl', 'it', 'it', 'es', 'en', 'it', 'en', 'pt', 'en', 'it', 'nl', 'it', 'nl', 'pt', 'nl', 'tl', 'pt', 'fr', 'es', 'it', 'pt', 'nl', 'fr', 'pt', 'nl', 'tl', 'fr', 'pt', 'fr', 'it', 'nl', 'pt', 'nl', 'it', 'en', 'in', 'es', 'nl', 'es', 'tl', 'pt', 'es', 'es', 'en', 'it', 'fr', 'it', 'it', 'pt', 'en', 'nl', 'es', 'fr', 'tl', 'fr', 'es', 'in', 'in', 'fr', 'in', 'pt', 'in', 'es', 'in', 'en', 'pt', 'it', 'it', 'fr', 'es', 'fr', 'es', 'es', 'pt', 'in', 'it', 'tl', 'it', 'it', 'tl', 'it', 'pt', 'es', 'es', 'en', 'fr', 'tl', 'fr', 'tl', 'en', 'tl', 'es', 'nl', 'pt', 'fr', 'fr', 'tl', 'en', 'pt', 'pt', 'it', 'in', 'es', 'nl', 'nl', 'es', 'it', 'fr', 'tl', 'pt', 'en', 'fr', 'es', 'pt', 'en', 'es', 'pt', 'tl', 'es', 'tl', 'es', 'tl', 'in', 'in', 'fr', 'it', 'nl', 'nl', 'en', 'it', 'nl', 'tl', 'pt', 'it', 'nl', 'it', 'es', 'in', 'pt', 'it', 'fr', 'en', 'es', 'nl', 'in', 'fr', 'es', 'pt', 'fr', 'in', 'fr', 'pt', 'it', 'tl', 'it', 'it', 'tl', 'nl', 'in', 'fr', 'fr', 'en', 'pt', 'nl', 'it', 'es', 'in', 'nl', 'pt', 'tl', 'it', 'it', 'pt', 'it', 'en', 'pt', 'pt', 'nl', 'tl', 'es', 'nl', 'fr', 'es', 'in', 'in', 'pt', 'nl', 'in', 'nl', 'it', 'it', 'tl', 'it', 'it', 'it', 'it', 'it', 'pt', 'in', 'in', 'nl', 'pt', 'it', 'tl', 'fr', 'tl', 'tl', 'en', 'es', 'es', 'fr', 'fr', 'nl', 'fr', 'pt', 'pt', 'nl', 'nl', 'pt', 'es', 'pt', 'it', 'in', 'tl', 'es', 'fr', 'nl', 'fr', 'in', 'en', 'es', 'tl', 'nl', 'tl', 'pt', 'nl', 'tl', 'tl', 'it', 'tl', 'es', 'es', 'it', 'en', 'nl', 'it', 'in', 'tl', 'es', 'en', 'nl', 'fr', 'it', 'fr', 'es', 'en', 'pt', 'nl', 'nl', 'it', 'en', 'in', 'tl', 'en', 'in', 'tl', 'en', 'pt', 'tl', 'es', 'es', 'fr', 'it', 'pt', 'en', 'es', 'fr', 'es', 'en', 'in', 'fr', 'tl', 'it', 'fr', 'nl', 'es', 'nl', 'es', 'tl', 'fr', 'nl', 'in', 'es', 'pt', 'pt', 'pt', 'tl', 'en', 'nl', 'pt', 'fr', 'nl', 'fr', 'es', 'nl', 'en', 'it', 'pt', 'tl', 'fr', 'nl', 'tl', 'en', 'nl', 'tl', 'tl', 'fr', 'it', 'in', 'it', 'en', 'pt', 'en', 'it', 'tl', 'fr', 'es', 'fr', 'es', 'pt', 'fr', 'es', 'tl', 'it', 'in', 'tl', 'it', 'fr', 'nl', 'fr', 'nl', 'it', 'nl', 'en', 'nl', 'es', 'fr', 'tl', 'pt', 'it', 'fr', 'es', 'in', 'fr', 'pt', 'es', 'fr', 'fr', 'es', 'en', 'nl', 'in', 'tl', 'tl', 'in', 'it', 'pt', 'it', 'in', 'nl', 'pt', 'in', 'it', 'it', 'it', 'en', 'en', 'it', 'in', 'nl', 'in', 'fr', 'it', 'fr', 'in', 'fr', 'en', 'in', 'fr', 'tl', 'pt', 'it', 'it', 'pt', 'in', 'nl', 'fr', 'pt', 'in', 'nl', 'it', 'es', 'tl', 'tl', 'it', 'tl', 'fr', 'nl', 'in', 'es', 'es', 'tl', 'es', 'it', 'pt', 'es', 'en', 'fr', 'en', 'it', 'en', 'fr', 'it', 'fr', 'es', 'tl', 'tl', 'tl', 'pt', 'pt', 'en', 'pt', 'in', 'tl', 'en', 'in', 'in', 'fr', 'tl', 'tl', 'es', 'es', 'pt', 'es', 'tl', 'es', 'pt', 'it', 'nl', 'pt', 'in', 'es', 'nl', 'tl', 'in', 'tl', 'tl', 'it', 'in', 'es', 'es', 'tl', 'it', 'it', 'nl', 'es', 'in', 'en', 'fr', 'it', 'es', 'nl', 'es', 'pt', 'en', 'en', 'tl', 'it', 'pt', 'nl', 'pt', 'en', 'it', 'it', 'tl', 'en', 'it', 'in', 'tl', 'pt', 'in', 'it', 'it', 'en', 'tl', 'fr', 'pt', 'nl', 'fr', 'pt', 'en', 'tl', 'fr', 'es', 'pt', 'es', 'tl', 'tl', 'in', 'it', 'pt', 'fr', 'en', 'nl', 'tl', 'nl', 'tl', 'it', 'pt', 'it', 'pt', 'pt', 'en', 'tl', 'pt', 'fr', 'it', 'es', 'it', 'es', 'es', 'nl', 'es', 'it', 'nl', 'fr', 'pt', 'tl', 'in', 'pt', 'in', 'it', 'pt', 'it', 'tl', 'en', 'nl', 'en', 'nl', 'es', 'in', 'nl', 'in', 'in', 'tl', 'en', 'en', 'en', 'in', 'in', 'en', 'pt', 'es', 'en', 'fr', 'nl', 'nl', 'in', 'tl', 'pt', 'it', 'tl', 'in', 'en', 'tl', 'in', 'fr', 'nl', 'nl', 'in', 'pt', 'en', 'pt', 'nl', 'en', 'it', 'nl', 'pt', 'en', 'tl', 'nl', 'it', 'fr', 'in', 'fr', 'tl', 'tl', 'pt', 'fr', 'tl', 'it', 'es', 'pt', 'fr', 'fr', 'en', 'fr', 'fr', 'it', 'pt', 'es', 'es', 'fr', 'pt', 'in', 'es', 'es', 'es', 'fr', 'it', 'it', 'nl', 'fr', 'in', 'fr', 'es', 'fr', 'nl', 'es', 'fr', 'tl', 'it', 'es', 'in', 'nl', 'tl', 'es', 'nl', 'nl', 'pt', 'es', 'nl', 'pt', 'in', 'it', 'es', 'pt', 'es', 'tl', 'fr', 'in', 'en', 'nl', 'tl', 'it', 'tl', 'es', 'pt', 'es', 'tl', 'fr', 'pt', 'pt', 'it', 'it', 'fr', 'es', 'tl', 'pt', 'en', 'tl', 'en', 'fr', 'nl', 'es', 'nl', 'nl', 'pt', 'pt', 'es', 'fr', 'it', 'in', 'in', 'tl', 'en', 'es', 'pt', 'pt', 'fr', 'pt', 'fr', 'tl', 'en', 'pt', 'es', 'in', 'nl', 'nl', 'nl', 'en', 'en', 'tl', 'nl', 'in', 'pt', 'it', 'en', 'fr', 'tl', 'tl', 'nl', 'it', 'in', 'fr', 'en', 'pt', 'es', 'it', 'en', 'en', 'pt', 'en', 'pt', 'in', 'es', 'fr', 'es', 'pt', 'es', 'it', 'it', 'es', 'pt', 'nl', 'pt', 'tl', 'en', 'fr', 'en', 'fr', 'tl', 'tl', 'pt', 'fr', 'en', 'pt', 'in', 'nl', 'tl', 'it', 'it', 'it', 'es', 'it', 'fr', 'pt', 'in', 'it', 'nl', 'nl', 'tl', 'it', 'it', 'es', 'it', 'es', 'en', 'pt', 'pt', 'es', 'fr', 'en', 'es', 'in', 'es', 'fr', 'it', 'tl', 'es', 'it', 'fr', 'fr', 'fr', 'it', 'it', 'en', 'es', 'en', 'pt', 'pt', 'tl', 'pt', 'en', 'tl', 'tl', 'in', 'pt', 'en', 'tl', 'fr', 'nl', 'in', 'es', 'en', 'es', 'nl', 'in', 'pt', 'tl', 'tl', 'nl', 'it', 'es', 'en', 'fr', 'in', 'es', 'nl', 'pt', 'pt', 'nl', 'pt', 'es', 'nl', 'en', 'nl', 'es', 'tl', 'pt', 'it', 'tl', 'tl', 'in', 'it', 'es', 'en', 'nl', 'en', 'pt', 'tl', 'in', 'es', 'es', 'in', 'it', 'it', 'pt', 'es', 'es', 'tl', 'nl', 'fr', 'fr', 'tl', 'pt', 'it', 'in', 'it', 'fr', 'en', 'in', 'en', 'pt', 'fr', 'fr', 'nl', 'nl', 'it', 'nl', 'pt', 'fr', 'es', 'it', 'pt', 'nl', 'tl', 'es', 'en', 'in', 'en', 'fr', 'nl', 'nl', 'tl', 'it', 'in', 'it', 'es', 'pt', 'en', 'in', 'fr', 'nl', 'es', 'in', 'pt', 'pt', 'it', 'nl', 'tl', 'it', 'en', 'tl', 'in', 'fr', 'nl', 'en', 'tl', 'en', 'tl', 'es', 'fr', 'fr', 'es', 'nl', 'nl', 'tl', 'nl', 'it', 'fr', 'nl', 'fr', 'fr', 'pt', 'nl', 'in', 'in', 'tl', 'pt', 'en', 'it', 'in', 'en', 'es', 'es', 'it', 'es', 'tl', 'es', 'en', 'es', 'en', 'in', 'fr', 'nl', 'nl', 'tl', 'in', 'tl', 'en', 'it', 'fr', 'in', 'fr', 'fr', 'pt', 'es', 'tl', 'nl', 'tl', 'tl', 'tl', 'es', 'fr', 'fr', 'nl', 'in', 'in', 'in', 'en', 'it', 'in', 'fr', 'it', 'es', 'tl', 'it', 'it', 'it', 'it', 'es', 'en', 'fr', 'it', 'es', 'en', 'in', 'tl', 'en', 'es', 'en', 'in', 'en', 'en', 'tl', 'fr', 'fr', 'nl', 'nl', 'fr', 'in', 'in', 'tl', 'fr', 'fr', 'en', 'en', 'it', 'pt', 'pt', 'pt', 'tl', 'nl', 'nl', 'es', 'en', 'in', 'es', 'nl', 'in', 'pt', 'en', 'pt', 'nl', 'pt', 'fr', 'nl', 'nl', 'en', 'en', 'it', 'tl', 'it', 'in', 'es', 'en', 'it', 'fr', 'tl', 'in', 'pt', 'en', 'nl', 'in', 'nl', 'en', 'nl', 'pt', 'pt', 'fr', 'pt', 'es', 'es', 'in', 'it', 'fr', 'es', 'fr', 'nl', 'it', 'tl', 'it', 'pt', 'in', 'tl', 'nl', 'in', 'tl', 'fr', 'fr', 'it', 'pt', 'nl', 'es', 'es', 'pt', 'it', 'fr', 'it', 'fr', 'in', 'fr', 'es', 'pt', 'it', 'nl', 'en', 'es', 'fr', 'in', 'nl', 'it', 'es', 'pt', 'it', 'es', 'pt', 'pt', 'in', 'in', 'tl', 'en', 'tl', 'fr', 'en', 'es', 'en', 'fr', 'fr', 'es', 'es', 'tl', 'it', 'it', 'pt', 'in', 'fr', 'tl', 'es', 'nl', 'tl', 'fr', 'en', 'en', 'tl', 'tl', 'pt', 'fr', 'tl', 'es', 'it', 'es', 'es', 'es', 'en', 'pt', 'tl', 'es', 'nl', 'pt', 'in', 'es', 'nl', 'en', 'it', 'en', 'it', 'tl', 'nl', 'en', 'it', 'in', 'es', 'pt', 'fr', 'en', 'es', 'tl', 'it', 'in', 'in', 'nl', 'es', 'tl', 'es', 'tl', 'fr', 'nl', 'es', 'in', 'pt', 'es', 'fr', 'fr', 'tl', 'pt', 'en', 'en', 'it', 'it', 'in', 'nl', 'nl', 'in', 'it', 'tl', 'nl', 'pt', 'fr', 'nl', 'es', 'nl', 'tl', 'es', 'pt', 'fr', 'it', 'nl', 'in', 'in', 'in', 'es', 'es', 'pt', 'in', 'nl', 'fr', 'en', 'it', 'it', 'es', 'en', 'tl', 'tl', 'es', 'nl', 'pt', 'it', 'tl', 'fr', 'pt', 'in', 'fr', 'en', 'pt', 'nl', 'in', 'pt', 'it', 'it', 'in', 'en', 'in', 'tl', 'en', 'nl', 'in', 'in', 'in', 'it', 'nl', 'es', 'en', 'in', 'it', 'it', 'en', 'pt', 'pt', 'it', 'en', 'nl', 'fr', 'fr', 'pt', 'tl', 'en', 'pt', 'es', 'es', 'nl', 'tl', 'it', 'es', 'es', 'fr', 'fr', 'it', 'en', 'nl', 'tl', 'in', 'pt', 'tl', 'nl', 'pt', 'nl', 'es', 'es', 'en', 'it', 'fr', 'en', 'tl', 'in', 'it', 'en', 'in', 'es', 'nl', 'it', 'fr', 'fr', 'nl', 'pt', 'tl', 'nl', 'fr', 'es', 'it', 'nl', 'in', 'tl', 'es', 'nl', 'es', 'fr', 'it', 'nl', 'pt', 'es', 'pt', 'in', 'fr', 'fr', 'it', 'tl', 'es', 'nl', 'en', 'it', 'nl', 'it', 'nl', 'tl', 'es', 'it', 'es', 'nl', 'tl', 'in', 'tl', 'tl', 'nl', 'it', 'it', 'fr', 'it', 'nl', 'es', 'tl', 'es', 'fr', 'in', 'pt', 'fr', 'in', 'nl', 'it', 'fr', 'tl', 'nl', 'tl', 'tl', 'in', 'in', 'fr', 'es', 'pt', 'tl', 'nl', 'es', 'tl', 'in', 'in', 'es', 'fr', 'pt', 'fr', 'in', 'nl', 'nl', 'it', 'tl', 'nl', 'it', 'pt', 'tl', 'tl', 'in', 'in', 'in', 'it', 'es', 'es', 'nl', 'es', 'it', 'es', 'es', 'pt', 'es', 'nl', 'it', 'pt', 'fr', 'in', 'en', 'en', 'en', 'pt', 'in', 'es', 'es', 'in', 'pt', 'in', 'tl', 'en', 'es', 'nl', 'in', 'it', 'nl', 'nl', 'tl', 'it', 'pt', 'tl', 'it', 'es', 'en', 'en', 'nl', 'in', 'pt', 'fr', 'fr', 'pt', 'in', 'nl', 'in', 'it', 'in', 'in', 'nl', 'nl', 'pt', 'fr', 'nl', 'es', 'pt', 'nl', 'tl', 'fr', 'it', 'it', 'tl', 'in', 'fr', 'it', 'tl', 'nl', 'es', 'nl', 'fr', 'it', 'en', 'fr', 'pt', 'tl', 'it', 'fr', 'es', 'fr', 'nl', 'it', 'tl', 'fr', 'es', 'fr', 'in', 'fr', 'it', 'tl', 'tl', 'it', 'pt', 'pt', 'tl', 'es', 'fr', 'nl', 'fr', 'pt', 'nl', 'it', 'en', 'tl', 'en', 'fr', 'it', 'it', 'pt', 'in', 'tl', 'tl', 'fr', 'nl', 'tl', 'es', 'en', 'pt', 'en', 'en', 'es', 'pt', 'tl', 'nl', 'fr', 'pt', 'en', 'fr', 'tl', 'tl', 'nl', 'es', 'in', 'tl', 'in', 'in', 'pt', 'en', 'in', 'pt', 'en', 'in', 'es', 'pt', 'fr', 'pt', 'tl', 'en', 'it', 'tl', 'nl', 'in', 'nl', 'fr', 'pt', 'tl', 'en', 'nl', 'it', 'fr', 'tl', 'fr', 'tl', 'in', 'en', 'fr', 'nl', 'tl', 'tl', 'fr', 'nl', 'nl', 'fr', 'pt', 'it', 'es', 'in', 'pt', 'fr', 'nl', 'pt', 'es', 'pt', 'tl', 'tl', 'en', 'pt', 'es', 'tl', 'it', 'nl', 'in', 'it', 'pt', 'in', 'es', 'pt', 'it', 'nl', 'nl', 'it', 'en', 'it', 'tl', 'in', 'nl', 'nl', 'es', 'en', 'en', 'nl', 'pt', 'es', 'fr', 'it', 'it', 'pt', 'en', 'in', 'pt', 'es', 'nl', 'nl', 'en', 'es', 'es', 'fr', 'in', 'in', 'fr', 'it', 'pt', 'en', 'it', 'pt', 'en', 'pt', 'en', 'en', 'en', 'fr', 'en', 'nl', 'fr', 'en', 'en', 'en', 'nl', 'fr', 'en', 'nl', 'en', 'nl', 'nl', 'pt', 'pt', 'in', 'in', 'it', 'tl', 'es', 'in', 'tl', 'in', 'fr', 'tl', 'en', 'pt', 'tl', 'it', 'pt', 'it', 'es', 'en', 'es', 'pt', 'fr', 'en', 'in', 'it', 'nl', 'fr', 'nl', 'nl', 'nl', 'nl', 'it', 'nl', 'tl', 'pt', 'in', 'en', 'es', 'fr', 'pt', 'tl', 'pt', 'fr', 'it', 'it', 'es', 'in', 'nl', 'tl', 'pt', 'it', 'es', 'it', 'fr', 'pt', 'tl', 'tl', 'it', 'fr', 'in', 'nl', 'nl', 'nl', 'tl', 'nl', 'en', 'es', 'tl', 'tl', 'in', 'nl', 'tl', 'tl', 'tl', 'pt', 'en', 'es', 'pt', 'en', 'pt', 'in', 'tl', 'fr', 'in', 'nl', 'in', 'in', 'es', 'nl', 'it', 'es', 'nl', 'pt', 'fr', 'en', 'fr', 'nl', 'tl', 'en', 'en', 'es', 'fr', 'in', 'it', 'it', 'in', 'in', 'tl', 'tl', 'en', 'tl', 'es', 'tl', 'nl', 'in', 'it', 'es', 'nl', 'es', 'pt', 'fr', 'tl', 'nl', 'tl', 'pt', 'fr', 'in', 'tl', 'fr', 'in', 'it', 'en', 'nl', 'it', 'en', 'in', 'en', 'in', 'es', 'fr', 'en', 'nl', 'nl', 'pt', 'it', 'nl', 'tl', 'es', 'pt', 'es', 'in', 'nl', 'nl', 'in', 'nl', 'tl', 'pt', 'in', 'nl', 'nl', 'in', 'nl', 'en', 'tl', 'es', 'nl', 'es', 'fr', 'nl', 'nl', 'in', 'pt', 'in', 'en', 'pt', 'nl', 'pt', 'in', 'en', 'es', 'in', 'tl', 'es', 'es', 'es', 'pt', 'es', 'it', 'fr', 'pt', 'in', 'in', 'pt', 'it', 'en', 'es', 'in', 'fr', 'es', 'pt', 'nl', 'tl', 'nl', 'es', 'fr', 'tl', 'nl', 'tl', 'tl', 'it', 'in', 'it', 'pt', 'in', 'pt', 'tl', 'es', 'it', 'fr', 'fr', 'pt', 'fr', 'pt', 'nl', 'nl', 'en', 'tl', 'in', 'in', 'in', 'it', 'es', 'es', 'pt', 'it', 'it', 'en', 'it', 'fr', 'pt', 'in', 'nl', 'it', 'pt', 'es', 'fr', 'es', 'tl', 'tl', 'it', 'it', 'fr', 'nl', 'it', 'it', 'tl', 'in', 'fr', 'en', 'es', 'es', 'in', 'pt', 'it', 'pt', 'nl', 'fr', 'nl', 'fr', 'tl', 'es', 'nl', 'pt', 'in', 'en', 'it', 'nl', 'fr', 'fr', 'it', 'pt', 'es', 'in', 'fr', 'it', 'en', 'it', 'nl', 'it', 'it', 'es', 'en', 'in', 'en', 'es', 'en', 'nl', 'pt', 'it', 'en', 'tl', 'pt', 'tl', 'it', 'fr', 'pt', 'it', 'it', 'nl', 'pt', 'it', 'tl', 'pt', 'nl', 'in', 'en', 'in', 'fr', 'nl', 'it', 'en', 'it', 'es', 'en', 'tl', 'nl', 'tl', 'in', 'en', 'tl', 'nl', 'it', 'pt', 'nl', 'tl', 'en', 'in', 'it', 'en', 'es', 'nl', 'nl', 'nl', 'pt', 'tl', 'in', 'nl', 'nl', 'nl', 'nl', 'in', 'tl', 'pt', 'en', 'nl', 'pt', 'tl', 'pt', 'in', 'fr', 'it', 'pt', 'tl', 'it', 'pt', 'in', 'fr', 'pt', 'tl', 'tl', 'nl', 'pt', 'nl', 'tl', 'nl', 'nl', 'it', 'in', 'pt', 'en', 'en', 'in', 'nl', 'in', 'es', 'nl', 'fr', 'in', 'en', 'fr', 'pt', 'tl', 'it', 'nl', 'in', 'pt', 'nl', 'tl', 'tl', 'it', 'in', 'nl', 'pt', 'es', 'fr', 'en', 'nl', 'nl', 'nl', 'en', 'en', 'nl', 'in', 'fr', 'fr', 'fr', 'it', 'es', 'in', 'it', 'fr', 'nl', 'en', 'en', 'fr', 'fr', 'it', 'it', 'en', 'fr', 'es', 'in', 'in', 'fr', 'en', 'pt', 'tl', 'fr', 'in', 'es', 'tl', 'nl', 'es', 'in', 'tl', 'nl', 'es', 'tl', 'es', 'nl', 'fr', 'fr', 'in', 'in', 'it', 'in', 'nl', 'nl', 'it', 'fr', 'tl', 'nl', 'in', 'en', 'fr', 'it', 'in', 'tl', 'tl', 'it', 'it', 'es', 'nl', 'it', 'nl', 'es', 'it', 'pt', 'es', 'fr', 'en', 'pt', 'pt', 'fr', 'in', 'pt', 'es', 'nl', 'in', 'it', 'es', 'in', 'fr', 'fr', 'it', 'it', 'fr', 'fr', 'es', 'en', 'nl', 'fr', 'it', 'en', 'en', 'nl', 'es', 'fr', 'it', 'pt', 'pt', 'it', 'in', 'en', 'es', 'tl', 'pt', 'en', 'it', 'it', 'in', 'tl', 'pt', 'it', 'tl', 'en', 'es', 'es', 'es', 'tl', 'es', 'pt', 'es', 'tl', 'es', 'it', 'fr', 'in', 'tl', 'en', 'nl', 'es', 'pt', 'nl', 'fr', 'es', 'tl', 'pt', 'it', 'tl', 'en', 'tl', 'tl', 'it', 'in', 'en', 'es', 'in', 'tl', 'es', 'fr', 'es', 'in', 'tl', 'tl', 'es', 'tl', 'fr', 'it', 'fr', 'pt', 'es', 'pt', 'pt', 'es', 'fr', 'in', 'fr', 'pt', 'es', 'tl', 'en', 'in', 'in', 'tl', 'en', 'tl', 'en', 'pt', 'in', 'es', 'tl', 'pt', 'en', 'pt', 'in', 'es', 'fr', 'pt', 'it', 'tl', 'en', 'nl', 'it', 'nl', 'nl', 'tl', 'it', 'pt', 'nl', 'nl', 'fr', 'it', 'es', 'nl', 'it', 'tl', 'nl', 'pt', 'tl', 'fr', 'es', 'it', 'es', 'in', 'nl', 'nl', 'tl', 'fr', 'pt', 'nl', 'in', 'tl', 'es', 'nl', 'fr', 'pt', 'in', 'nl', 'tl', 'en', 'nl', 'it', 'en', 'it', 'en', 'tl', 'fr', 'tl', 'fr', 'en', 'fr', 'tl', 'it', 'tl', 'nl', 'en', 'es', 'pt', 'en', 'in', 'it', 'pt', 'tl', 'nl', 'es', 'fr', 'tl', 'pt', 'es', 'tl', 'es', 'tl', 'es', 'pt', 'pt', 'fr', 'tl', 'nl', 'pt', 'it', 'pt', 'pt', 'in', 'es', 'en', 'tl', 'it', 'en', 'in', 'pt', 'en', 'en', 'nl', 'pt', 'tl', 'in', 'it', 'tl', 'en', 'es', 'it', 'in', 'nl', 'es', 'in', 'es', 'tl', 'es', 'it', 'pt', 'es', 'it', 'in', 'es', 'nl', 'it', 'en', 'fr', 'it', 'it', 'in', 'es', 'in', 'en', 'it', 'es', 'nl', 'in', 'en', 'it', 'fr', 'tl', 'tl', 'fr', 'es', 'nl', 'nl', 'it', 'fr', 'in', 'en', 'nl', 'fr', 'nl', 'it', 'it', 'pt', 'nl', 'es', 'in', 'pt', 'nl', 'nl', 'nl', 'pt', 'en', 'en', 'nl', 'es', 'pt', 'fr', 'nl', 'it', 'in', 'fr', 'es', 'tl', 'es', 'in', 'es', 'es', 'pt', 'nl', 'pt', 'nl', 'nl', 'nl', 'en', 'en', 'in', 'it', 'nl', 'fr', 'it', 'nl', 'es', 'in', 'nl', 'en', 'en', 'en', 'tl', 'nl', 'fr', 'tl', 'nl', 'pt', 'pt', 'en', 'es', 'pt', 'it', 'fr', 'pt', 'es', 'tl', 'it', 'in', 'es', 'in', 'es', 'fr', 'en', 'tl', 'en', 'it', 'fr', 'en', 'in', 'nl', 'es', 'it', 'in', 'fr', 'en', 'tl', 'fr', 'tl', 'in', 'es', 'in', 'en', 'en', 'es', 'nl', 'es', 'tl', 'nl', 'nl', 'es', 'nl', 'it', 'en', 'en', 'nl', 'en', 'pt', 'nl', 'nl', 'en', 'nl', 'nl', 'nl', 'es', 'it', 'pt', 'pt', 'it', 'in', 'fr', 'it', 'en', 'it', 'in', 'nl', 'fr', 'tl', 'tl', 'fr', 'es', 'pt', 'nl', 'fr', 'es', 'en', 'pt', 'es', 'fr', 'fr', 'tl', 'pt', 'nl', 'es', 'pt', 'it', 'in', 'fr', 'en', 'it', 'es', 'in', 'in', 'tl', 'tl', 'nl', 'es', 'pt', 'nl', 'nl', 'nl', 'pt', 'in', 'fr', 'tl', 'en', 'in', 'nl', 'en', 'en', 'tl', 'tl', 'tl', 'fr', 'nl', 'fr', 'es', 'nl', 'es', 'in', 'tl', 'in', 'nl', 'es', 'nl', 'nl', 'in', 'nl', 'es', 'en', 'fr', 'en', 'fr', 'pt', 'es', 'nl', 'tl', 'pt', 'es', 'nl', 'es', 'en', 'fr', 'es', 'in', 'es', 'pt', 'es', 'en', 'nl', 'pt', 'pt', 'tl', 'en', 'in', 'in', 'it', 'tl', 'in', 'en', 'pt', 'tl', 'nl', 'tl', 'en', 'en', 'in', 'pt', 'fr', 'en', 'en', 'in', 'fr', 'nl', 'in', 'in', 'es', 'en', 'nl', 'es', 'pt', 'in', 'fr', 'it', 'es', 'es', 'fr', 'pt', 'fr', 'pt', 'es', 'pt', 'nl', 'tl', 'fr', 'fr', 'es', 'en', 'it', 'en', 'in', 'pt', 'es', 'nl', 'en', 'pt', 'it', 'in', 'es', 'in', 'es', 'nl', 'it', 'in', 'en', 'fr', 'it', 'fr', 'fr', 'fr', 'en', 'en', 'in', 'es', 'nl', 'in', 'en', 'en', 'fr', 'es', 'it', 'in', 'nl', 'fr', 'es', 'pt', 'en', 'tl', 'nl', 'it', 'fr', 'pt', 'es', 'pt', 'tl', 'tl', 'pt', 'fr', 'in', 'en', 'nl', 'fr', 'pt', 'en', 'fr', 'nl', 'en', 'es', 'in', 'en', 'es', 'es', 'it', 'en', 'en', 'in', 'en', 'tl', 'es', 'nl', 'es', 'pt', 'nl', 'in', 'fr', 'pt', 'tl', 'in', 'tl', 'es', 'en', 'tl', 'in', 'en', 'it', 'fr', 'en', 'en', 'en', 'es', 'es', 'it', 'es', 'fr', 'tl', 'nl', 'in', 'pt', 'in', 'en', 'nl', 'tl', 'en', 'in', 'en', 'tl', 'in', 'nl', 'pt', 'fr', 'it', 'nl', 'nl', 'fr', 'fr', 'tl', 'in', 'in', 'pt', 'fr', 'nl', 'tl', 'nl', 'en', 'es', 'tl', 'in', 'tl', 'es', 'es', 'tl', 'tl', 'it', 'nl', 'nl', 'in', 'nl', 'it', 'nl', 'nl', 'fr', 'fr', 'nl', 'pt', 'fr', 'pt', 'in', 'in', 'fr', 'it', 'nl', 'pt', 'in', 'in', 'in', 'en', 'pt', 'it', 'en', 'it', 'tl', 'en', 'es', 'in', 'es', 'es', 'it', 'it', 'fr', 'pt', 'it', 'in', 'pt', 'es', 'tl', 'fr', 'nl', 'pt', 'es', 'it', 'fr', 'pt', 'pt', 'pt', 'pt', 'nl', 'es', 'nl', 'en', 'pt', 'it', 'pt', 'en', 'fr', 'it', 'es', 'pt', 'es', 'pt', 'tl', 'es', 'nl', 'es', 'tl', 'in', 'en', 'fr', 'fr', 'nl', 'tl', 'it', 'fr', 'en', 'nl', 'en', 'it', 'pt', 'nl', 'pt', 'es', 'en', 'en', 'tl', 'fr', 'it', 'it', 'pt', 'in', 'in', 'in', 'es', 'pt', 'en', 'pt', 'it', 'en', 'es', 'pt', 'in', 'it', 'tl', 'in', 'tl', 'it', 'it', 'es', 'it', 'tl', 'nl', 'fr', 'in', 'it', 'nl', 'it', 'in', 'tl', 'in', 'in', 'nl', 'fr', 'es', 'pt', 'fr', 'it', 'es', 'tl', 'tl', 'in', 'in', 'it', 'fr', 'en', 'tl', 'tl', 'fr', 'fr', 'it', 'in', 'nl', 'tl', 'it', 'pt', 'en', 'pt', 'it', 'tl', 'in', 'pt', 'pt', 'nl', 'es', 'nl', 'nl', 'en', 'it', 'in', 'tl', 'en', 'it', 'en', 'nl', 'tl', 'es', 'pt', 'es', 'es', 'tl', 'tl', 'in', 'en', 'es', 'en', 'es', 'es', 'in', 'tl', 'en', 'es', 'nl', 'it', 'nl', 'it', 'it', 'es', 'nl', 'fr', 'it', 'fr', 'it', 'pt', 'in', 'pt', 'pt', 'in', 'es', 'nl', 'tl', 'in', 'fr', 'pt', 'pt', 'in', 'in', 'pt', 'it', 'fr', 'nl', 'nl', 'in', 'it', 'in', 'fr', 'it', 'en', 'nl', 'tl', 'fr', 'it', 'en', 'in', 'it', 'pt', 'en', 'fr', 'it', 'es', 'en', 'tl', 'it', 'nl', 'it', 'es', 'nl', 'tl', 'en', 'en', 'fr', 'fr', 'en', 'nl', 'en', 'pt', 'nl', 'in', 'fr', 'en', 'in', 'in', 'pt', 'pt', 'pt', 'in', 'en', 'fr', 'tl', 'en', 'es', 'it', 'in', 'it', 'it', 'fr', 'fr', 'nl', 'es', 'in', 'en', 'pt', 'en', 'nl', 'tl', 'tl', 'es', 'fr', 'nl', 'it', 'en', 'fr', 'nl', 'it', 'in', 'pt', 'nl', 'in', 'pt', 'en', 'nl', 'fr', 'it', 'nl', 'pt', 'es', 'es', 'in', 'tl', 'en', 'tl', 'tl', 'fr', 'in', 'nl', 'tl', 'pt', 'fr', 'in', 'in', 'nl', 'en', 'tl', 'in', 'it', 'tl', 'tl', 'en', 'fr', 'en', 'en', 'en', 'it', 'tl', 'nl', 'it', 'en', 'fr', 'it', 'fr', 'pt', 'pt', 'tl', 'nl', 'nl', 'pt', 'en', 'es', 'in', 'en', 'nl', 'it', 'fr', 'fr', 'nl', 'es', 'pt', 'tl', 'it', 'pt', 'tl', 'it', 'es', 'in', 'in', 'in', 'pt', 'fr', 'es', 'tl', 'tl', 'tl', 'fr', 'nl', 'pt', 'tl', 'tl', 'fr', 'es', 'tl', 'es', 'pt', 'pt', 'in', 'tl', 'fr', 'it', 'en', 'tl', 'tl', 'it', 'in', 'tl', 'fr', 'it', 'en', 'fr', 'tl', 'pt', 'nl', 'it', 'tl', 'en', 'en', 'en', 'es', 'es', 'fr', 'en', 'in', 'pt', 'in', 'pt', 'en', 'es', 'en', 'es', 'in', 'es', 'nl', 'it', 'fr', 'es', 'in', 'nl', 'en', 'fr', 'nl', 'nl', 'in', 'es', 'nl', 'it', 'en', 'fr', 'es', 'nl', 'en', 'tl', 'it', 'it', 'in', 'tl', 'in', 'fr', 'pt', 'tl', 'fr', 'es', 'en', 'es', 'tl', 'fr', 'in', 'en', 'in', 'nl', 'pt', 'en', 'fr', 'pt', 'pt', 'nl', 'pt', 'fr', 'pt', 'it', 'fr', 'fr', 'fr', 'en', 'tl', 'pt', 'es', 'in', 'pt', 'fr', 'fr', 'in', 'es', 'pt', 'es', 'tl', 'fr', 'fr', 'in', 'fr', 'fr', 'tl', 'in', 'fr', 'in', 'nl', 'it', 'nl', 'fr', 'es', 'pt', 'nl', 'nl', 'fr', 'es', 'pt', 'it', 'tl', 'es', 'it', 'tl', 'in', 'fr', 'fr', 'en', 'tl', 'in', 'it', 'pt', 'it', 'in', 'it', 'tl', 'pt', 'tl', 'it', 'it', 'fr', 'fr', 'it', 'es', 'in', 'fr', 'fr', 'es', 'fr', 'fr', 'en', 'es', 'tl', 'it', 'it', 'in', 'fr', 'in', 'nl', 'es', 'tl', 'es', 'fr', 'tl', 'in', 'en', 'es', 'fr', 'nl', 'in', 'in', 'es', 'tl', 'it', 'pt', 'fr', 'tl', 'pt', 'nl', 'tl', 'en', 'tl', 'it', 'it', 'nl', 'tl', 'in', 'es', 'es', 'nl', 'tl', 'fr', 'in', 'fr', 'nl', 'in', 'nl', 'fr', 'en', 'en', 'pt', 'in', 'in', 'fr', 'fr', 'tl', 'tl', 'nl', 'en', 'pt', 'es', 'in', 'in', 'fr', 'nl', 'in', 'pt', 'pt', 'fr', 'nl', 'in', 'en', 'nl', 'en', 'tl', 'in', 'nl', 'in', 'nl', 'en', 'fr', 'nl', 'nl', 'en', 'nl', 'fr', 'nl', 'pt', 'tl', 'fr', 'es', 'es', 'nl', 'es', 'it', 'nl', 'es', 'es', 'tl', 'it', 'in', 'fr', 'tl', 'es', 'nl', 'es', 'tl', 'fr', 'pt', 'pt', 'en', 'in', 'en', 'tl', 'es', 'en', 'it', 'en', 'fr', 'tl', 'nl', 'in', 'tl', 'it', 'in', 'in', 'it', 'pt', 'in', 'it', 'es', 'en', 'in', 'in', 'in', 'es', 'in', 'tl', 'tl', 'it', 'en', 'in', 'en', 'tl', 'it', 'en', 'nl', 'en', 'pt', 'tl', 'it', 'nl', 'pt', 'pt', 'pt', 'pt', 'in', 'fr', 'tl', 'es', 'es', 'it', 'pt', 'it', 'it', 'pt', 'pt', 'tl', 'in', 'it', 'in', 'es', 'en', 'es', 'it', 'es', 'fr', 'fr', 'fr', 'in', 'it', 'in', 'nl', 'it', 'in', 'es', 'fr', 'fr', 'en', 'es', 'en', 'en', 'in', 'nl', 'pt', 'en', 'pt', 'pt', 'in', 'it', 'pt', 'fr', 'nl', 'en', 'es', 'fr', 'in', 'tl', 'nl', 'it', 'it', 'nl', 'fr', 'fr', 'en', 'es', 'pt', 'fr', 'nl', 'pt', 'nl', 'in', 'fr', 'es', 'pt', 'it', 'it', 'tl', 'pt', 'en', 'pt', 'nl', 'fr', 'in', 'es', 'in', 'in', 'fr', 'pt', 'in', 'fr', 'en', 'it', 'en', 'in', 'fr', 'pt', 'es', 'en', 'tl', 'tl', 'in', 'en', 'nl', 'es', 'es', 'nl', 'fr', 'en', 'fr', 'nl', 'in', 'es', 'tl', 'pt', 'pt', 'es', 'in', 'tl', 'it', 'fr', 'es', 'fr', 'in', 'pt', 'nl', 'it', 'in', 'tl', 'pt', 'en', 'es', 'tl', 'es', 'tl', 'es', 'in', 'nl', 'pt', 'en', 'fr', 'pt', 'en', 'fr', 'it', 'tl', 'it', 'it', 'in', 'es', 'pt', 'es', 'en', 'nl', 'it', 'nl', 'pt', 'fr', 'fr', 'nl', 'es', 'es', 'tl', 'pt', 'tl', 'tl', 'nl', 'it', 'en', 'pt', 'nl', 'en', 'pt', 'pt', 'fr', 'nl', 'en', 'pt', 'in', 'in', 'en', 'nl', 'it', 'it', 'en', 'in', 'es', 'in', 'in', 'tl', 'in', 'fr', 'it', 'in', 'es', 'fr', 'tl', 'in', 'nl', 'fr', 'fr', 'fr', 'fr', 'fr', 'in', 'fr', 'in', 'in', 'en', 'nl', 'es', 'nl', 'it', 'in', 'in', 'es', 'en', 'in', 'nl', 'it', 'fr', 'es', 'nl', 'it', 'en', 'pt', 'fr', 'es', 'pt', 'es', 'fr', 'it', 'pt', 'it', 'es', 'es', 'pt', 'en', 'fr', 'en', 'pt', 'nl', 'fr', 'pt', 'en', 'in', 'nl', 'pt', 'fr', 'pt', 'fr', 'in', 'es', 'tl', 'it', 'en', 'pt', 'pt', 'in', 'it', 'nl', 'fr', 'tl', 'nl', 'tl', 'pt', 'fr', 'en', 'nl', 'it', 'en', 'es', 'pt', 'fr', 'fr', 'in', 'nl', 'pt', 'en', 'it', 'pt', 'pt', 'tl', 'it', 'nl', 'en', 'es', 'in', 'es', 'en', 'tl', 'fr', 'fr', 'fr', 'es', 'es', 'in', 'nl', 'es', 'en', 'pt', 'es', 'fr', 'it', 'tl', 'nl', 'tl', 'pt', 'fr', 'en', 'pt', 'it', 'pt', 'es', 'it', 'it', 'fr', 'fr', 'es', 'es', 'fr', 'nl', 'es', 'en', 'fr', 'es', 'in', 'tl', 'tl', 'en', 'nl', 'fr', 'nl', 'in', 'es', 'it', 'fr', 'it', 'tl', 'es', 'in', 'nl', 'in', 'pt', 'es', 'tl', 'en', 'it', 'en', 'it', 'es', 'en', 'tl', 'it', 'nl', 'en', 'nl', 'es', 'fr', 'in', 'es', 'nl', 'tl', 'tl', 'en', 'fr', 'nl', 'nl', 'in', 'es', 'en', 'tl', 'tl', 'es', 'nl', 'tl', 'pt', 'nl', 'fr', 'pt', 'tl', 'nl', 'it', 'es', 'nl', 'pt', 'it', 'tl', 'en', 'fr', 'tl', 'tl', 'pt', 'in', 'tl', 'nl', 'it', 'nl', 'tl', 'fr', 'in', 'nl', 'es', 'it', 'fr', 'it', 'tl', 'pt', 'nl', 'en', 'pt', 'tl', 'it', 'in', 'it', 'in', 'es', 'it', 'it', 'in', 'in', 'fr', 'es', 'nl', 'fr', 'in', 'fr', 'es', 'nl', 'es', 'in', 'es', 'es', 'en', 'it', 'pt', 'in', 'nl', 'it', 'it', 'tl', 'it', 'fr', 'it', 'pt', 'es', 'pt', 'es', 'tl', 'es', 'es', 'tl', 'en', 'en', 'es', 'en', 'in', 'it', 'it', 'en', 'nl', 'es', 'it', 'in', 'nl', 'pt', 'fr', 'en', 'fr', 'in', 'es', 'pt', 'en', 'fr', 'it', 'es', 'it', 'pt', 'nl', 'it', 'pt', 'fr', 'it', 'nl', 'es', 'nl', 'tl', 'in', 'fr', 'en', 'fr', 'es', 'en', 'pt', 'es', 'en', 'tl', 'it', 'es', 'en', 'fr', 'pt', 'es', 'tl', 'in', 'en', 'es', 'it', 'en', 'fr', 'es', 'pt', 'tl', 'en', 'pt', 'it', 'nl', 'en', 'in', 'it', 'es', 'nl', 'it', 'tl', 'tl', 'nl', 'tl', 'tl', 'pt', 'tl', 'pt', 'it', 'fr', 'pt', 'es', 'fr', 'en', 'nl', 'it', 'nl', 'it', 'in', 'en', 'in', 'nl', 'it', 'tl', 'fr', 'en', 'tl', 'in', 'en', 'es', 'it', 'it', 'en', 'es', 'in', 'nl', 'fr', 'es', 'en', 'fr', 'en', 'nl', 'fr', 'fr', 'en', 'in', 'es', 'nl', 'in', 'fr', 'en', 'it', 'tl', 'en', 'in', 'fr', 'fr', 'it', 'it', 'pt', 'in', 'nl', 'pt', 'en', 'in', 'it', 'it', 'nl', 'es', 'fr', 'it', 'en', 'en', 'en', 'in', 'in', 'it', 'pt', 'es', 'es', 'fr', 'in', 'it', 'it', 'fr', 'en', 'it', 'pt', 'nl', 'es', 'nl', 'fr', 'en', 'fr', 'fr', 'nl', 'es', 'tl', 'pt', 'en', 'tl', 'en', 'tl', 'en', 'es', 'tl', 'pt', 'en', 'fr', 'en', 'it', 'fr', 'in', 'fr', 'pt', 'es', 'in', 'it', 'fr', 'it', 'es', 'it', 'in', 'en', 'pt', 'nl', 'in', 'nl', 'fr', 'in', 'en', 'en', 'pt', 'it', 'fr', 'tl', 'tl', 'in', 'en', 'en', 'en', 'in', 'pt', 'nl', 'fr', 'es', 'tl', 'pt', 'tl', 'in', 'tl', 'it', 'in', 'in', 'nl', 'in', 'pt', 'en', 'tl', 'es', 'en', 'en', 'it', 'en', 'fr', 'fr', 'in', 'pt', 'in', 'tl', 'pt', 'es', 'fr', 'fr', 'pt', 'tl', 'fr', 'fr', 'it', 'en', 'it', 'es', 'tl', 'nl', 'pt', 'es', 'in', 'nl', 'pt', 'nl', 'en', 'in', 'es', 'nl', 'pt', 'en', 'pt', 'nl', 'it', 'it', 'fr', 'es', 'it', 'it', 'nl', 'pt', 'en', 'es', 'in', 'fr', 'pt', 'en', 'tl', 'it', 'fr', 'en', 'tl', 'tl', 'tl', 'in', 'it', 'fr', 'es', 'es', 'es', 'en', 'nl', 'tl', 'es', 'es', 'fr', 'pt', 'it', 'tl', 'es', 'es', 'pt', 'es', 'tl', 'tl', 'tl', 'pt', 'in', 'fr', 'tl', 'in', 'in', 'it', 'nl', 'es', 'nl', 'tl', 'es', 'pt', 'fr', 'nl', 'es', 'fr', 'fr', 'in', 'nl', 'en', 'fr', 'in', 'tl', 'en', 'en', 'pt', 'nl', 'tl', 'en', 'es', 'en', 'es', 'tl', 'it', 'en', 'it', 'tl', 'pt', 'pt', 'es', 'in', 'tl', 'tl', 'en', 'fr', 'in', 'it', 'nl', 'nl', 'es', 'it', 'nl', 'pt', 'it', 'es', 'in', 'nl', 'it', 'fr', 'tl', 'in', 'in', 'nl', 'tl', 'fr', 'es', 'pt', 'it', 'in', 'in', 'en', 'fr', 'in', 'pt', 'fr', 'tl', 'tl', 'es', 'en', 'fr', 'pt', 'fr', 'in', 'en', 'in', 'it', 'it', 'nl', 'en', 'nl', 'nl', 'en', 'in', 'pt', 'fr', 'tl', 'fr', 'fr', 'es', 'en', 'fr', 'en', 'es', 'it', 'es', 'it', 'in', 'in', 'fr', 'nl', 'in', 'fr', 'tl', 'in', 'en', 'it', 'nl', 'it', 'en', 'in', 'nl', 'pt', 'es', 'es', 'nl', 'fr', 'tl', 'nl', 'en', 'in', 'nl', 'in', 'tl', 'pt', 'it', 'fr', 'in', 'tl', 'tl', 'pt', 'in', 'es', 'fr', 'it', 'in', 'in', 'es', 'it', 'es', 'it', 'in', 'es', 'tl', 'nl', 'tl', 'nl', 'en', 'it', 'pt', 'tl', 'in', 'en', 'en', 'es', 'it', 'fr', 'fr', 'fr', 'en', 'fr', 'en', 'tl', 'it', 'fr', 'es', 'en', 'fr', 'nl', 'tl', 'es', 'en', 'tl', 'in', 'nl', 'es', 'it', 'in', 'es', 'tl', 'it', 'pt', 'nl', 'pt', 'tl', 'en', 'es', 'in', 'en', 'tl', 'fr', 'en', 'in', 'fr', 'in', 'nl', 'es', 'es', 'en', 'nl', 'in', 'tl', 'pt', 'tl', 'in', 'en', 'fr', 'it', 'in', 'es', 'it', 'in', 'es', 'in', 'es', 'in', 'pt', 'en', 'fr', 'in', 'pt', 'fr', 'it', 'nl', 'nl', 'tl', 'fr', 'in', 'en', 'pt', 'fr', 'en', 'es', 'fr', 'pt', 'nl', 'es', 'it', 'in', 'in', 'es', 'tl', 'tl', 'en', 'tl', 'nl', 'pt', 'en', 'nl', 'fr', 'pt', 'tl', 'es', 'fr', 'in', 'en', 'es', 'es', 'nl', 'tl', 'in', 'fr', 'it', 'fr', 'in', 'en', 'pt', 'fr', 'pt', 'it', 'in', 'in', 'en', 'it', 'nl', 'tl', 'pt', 'en', 'it', 'it', 'es', 'fr', 'nl', 'nl', 'in', 'nl', 'in', 'en', 'in', 'nl', 'pt', 'en', 'fr', 'es', 'es', 'en', 'tl', 'tl', 'pt', 'fr', 'nl', 'it', 'en', 'pt', 'in', 'es', 'tl', 'es', 'tl', 'nl', 'nl', 'en', 'tl', 'en', 'es', 'fr', 'nl', 'it', 'in', 'en', 'nl', 'fr', 'es', 'es', 'fr', 'in', 'it', 'nl', 'es', 'in', 'en', 'nl', 'it', 'in', 'tl', 'es', 'it', 'nl', 'fr', 'pt', 'fr', 'it', 'es', 'in', 'nl', 'in', 'nl', 'es', 'en', 'pt', 'tl', 'tl', 'in', 'nl', 'en', 'it', 'pt', 'in', 'nl', 'fr', 'nl', 'it', 'fr', 'it', 'en', 'tl', 'en', 'it', 'es', 'it', 'es', 'in', 'in', 'fr', 'tl', 'fr', 'es', 'en', 'tl', 'en', 'en', 'en', 'it', 'fr', 'pt', 'es', 'in', 'fr', 'tl', 'fr', 'in', 'pt', 'tl', 'tl', 'it', 'tl', 'pt', 'fr', 'in', 'pt', 'nl', 'en', 'es', 'pt', 'nl', 'nl', 'it', 'es', 'es', 'fr', 'fr', 'in', 'tl', 'nl', 'pt', 'fr', 'in', 'en', 'en', 'it', 'pt', 'es', 'nl', 'it', 'en', 'es', 'in', 'es', 'it', 'es', 'pt', 'tl', 'fr', 'it', 'es', 'en', 'tl', 'en', 'en', 'es', 'es', 'in', 'nl', 'nl', 'pt', 'tl', 'en', 'nl', 'in', 'in', 'pt', 'tl', 'en', 'it', 'nl', 'es', 'in', 'in', 'tl', 'it', 'tl', 'pt', 'it', 'nl', 'nl', 'en', 'es', 'pt', 'es', 'pt', 'it', 'tl', 'es', 'fr', 'it', 'es', 'nl', 'fr', 'en', 'nl', 'in', 'fr', 'nl', 'es', 'fr', 'nl', 'en', 'tl', 'nl', 'nl', 'tl', 'it', 'en', 'en', 'nl', 'tl', 'pt', 'nl', 'it', 'it', 'en', 'fr', 'nl', 'en', 'en', 'en', 'es', 'in', 'en', 'fr', 'in', 'it', 'it', 'pt', 'en', 'fr', 'tl', 'it', 'in', 'es', 'nl', 'pt', 'es', 'fr', 'it', 'nl', 'it', 'en', 'es', 'tl', 'it', 'pt', 'es', 'fr', 'tl', 'it', 'fr', 'pt', 'it', 'tl', 'it', 'en', 'nl', 'in', 'tl', 'tl', 'en', 'tl', 'it', 'in', 'en', 'es', 'tl', 'fr', 'in', 'fr', 'tl', 'es', 'en', 'in', 'en', 'it', 'pt', 'it', 'es', 'fr', 'fr', 'tl', 'it', 'es', 'nl', 'es', 'en', 'it', 'in', 'tl', 'en', 'pt', 'en', 'pt', 'nl', 'it', 'tl', 'tl', 'en', 'fr', 'nl', 'en', 'in', 'en', 'fr', 'tl', 'it', 'tl', 'es', 'pt', 'en', 'en', 'en', 'pt', 'tl', 'fr', 'it', 'fr', 'it', 'en', 'pt', 'en', 'it', 'es', 'it', 'en', 'it', 'tl', 'es', 'in', 'tl', 'fr', 'in', 'es', 'in', 'tl', 'pt', 'pt', 'nl', 'tl', 'in', 'pt', 'es', 'it', 'tl', 'it', 'pt', 'in', 'in', 'it', 'it', 'in', 'nl', 'pt', 'in', 'en', 'pt', 'fr', 'en', 'tl', 'fr', 'in', 'it', 'nl', 'en', 'pt', 'in', 'tl', 'en', 'es', 'es', 'tl', 'es', 'in', 'tl', 'es', 'en', 'en', 'pt', 'fr', 'fr', 'in', 'es', 'en', 'fr', 'tl', 'pt', 'es', 'es', 'in', 'in', 'es', 'en', 'es', 'pt', 'pt', 'it', 'nl', 'in', 'en', 'in', 'nl', 'tl', 'pt', 'nl', 'fr', 'tl', 'it', 'it', 'nl', 'in', 'tl', 'tl', 'tl', 'in', 'fr', 'it', 'in', 'pt', 'in', 'it', 'it', 'in', 'tl', 'es', 'en', 'it', 'fr', 'it', 'tl', 'fr', 'in', 'tl', 'en', 'pt', 'pt', 'en', 'in', 'nl', 'tl', 'es', 'pt', 'it', 'fr', 'en', 'tl', 'es', 'en', 'in', 'in', 'in', 'nl', 'en', 'pt', 'it', 'in', 'nl', 'pt', 'tl', 'es', 'fr', 'en', 'pt', 'en', 'it', 'nl', 'it', 'en', 'pt', 'in', 'tl', 'pt', 'tl', 'tl', 'tl', 'pt', 'fr', 'tl', 'nl', 'fr', 'fr', 'pt', 'fr', 'es', 'it', 'in', 'fr', 'fr', 'es', 'in', 'tl', 'tl', 'pt', 'pt', 'tl', 'es', 'es', 'tl', 'it', 'es', 'nl', 'en', 'es', 'fr', 'en', 'tl', 'in', 'fr', 'in', 'tl', 'es', 'tl', 'pt', 'fr', 'en', 'en', 'it', 'pt', 'it', 'in', 'en', 'es', 'pt', 'tl', 'nl', 'in', 'en', 'es', 'pt', 'pt', 'tl', 'in', 'it', 'nl', 'fr', 'en', 'es', 'fr', 'es', 'en', 'tl', 'in', 'it', 'it', 'it', 'tl', 'en', 'tl', 'en', 'fr', 'fr', 'tl', 'nl', 'it', 'pt', 'in', 'es', 'in', 'es', 'en', 'fr', 'en', 'en', 'it', 'nl', 'fr', 'it', 'in', 'it', 'es', 'in', 'nl', 'es', 'es', 'tl', 'en', 'tl', 'nl', 'en', 'pt', 'pt', 'en', 'it', 'es', 'es', 'pt', 'pt', 'it', 'fr', 'fr', 'tl', 'in', 'pt', 'pt', 'fr', 'pt', 'pt', 'es', 'fr', 'pt', 'en', 'fr', 'es', 'es', 'es', 'fr', 'tl', 'es', 'es', 'es', 'es', 'tl', 'en', 'pt', 'en', 'it', 'fr', 'tl', 'pt', 'es', 'en', 'it', 'it', 'in', 'in', 'tl', 'es', 'en', 'in', 'nl', 'en', 'es', 'it', 'nl', 'tl', 'pt', 'es', 'tl', 'nl', 'nl', 'nl', 'it', 'it', 'it', 'tl', 'pt', 'tl', 'in', 'in', 'es', 'pt', 'tl', 'fr', 'in', 'in', 'in', 'nl', 'nl', 'es', 'fr', 'en', 'pt', 'tl', 'es', 'es', 'pt', 'nl', 'fr', 'es', 'pt', 'en', 'in', 'en', 'pt', 'tl', 'nl', 'nl', 'pt', 'fr', 'fr', 'in', 'en', 'it', 'fr', 'pt', 'it', 'it', 'in', 'pt', 'in', 'en', 'tl', 'it', 'pt', 'en', 'in', 'nl', 'en', 'it', 'nl', 'tl', 'en', 'in', 'en', 'in', 'it', 'pt', 'nl', 'it', 'in', 'es', 'tl', 'tl', 'it', 'pt', 'it', 'en', 'en', 'es', 'nl', 'pt', 'nl', 'tl', 'fr', 'pt', 'it', 'tl', 'pt', 'tl', 'it', 'nl', 'en', 'in', 'fr', 'fr', 'it', 'fr', 'es', 'nl', 'it', 'nl', 'tl', 'pt', 'en', 'in', 'fr', 'tl', 'nl', 'nl', 'es', 'in', 'nl', 'nl', 'es', 'pt', 'in', 'nl', 'pt', 'fr', 'en', 'en', 'it', 'es', 'en', 'es', 'tl', 'en', 'pt', 'nl', 'es', 'pt', 'nl', 'fr', 'pt', 'nl', 'pt', 'pt', 'en', 'it', 'tl', 'en', 'en', 'in', 'in', 'pt', 'es', 'in', 'in', 'es', 'in', 'in', 'en', 'it', 'tl', 'tl', 'nl', 'en', 'tl', 'en', 'nl', 'it', 'es', 'it', 'pt', 'es', 'es', 'en', 'es', 'en', 'en', 'fr', 'tl', 'tl', 'pt', 'es', 'en', 'en', 'it', 'nl', 'pt', 'it', 'in', 'pt', 'tl', 'it', 'in', 'tl', 'fr', 'fr', 'it', 'pt', 'fr', 'nl', 'fr', 'fr', 'en', 'it', 'en', 'en', 'tl', 'en', 'fr', 'es', 'it', 'es', 'en', 'pt', 'tl', 'fr', 'fr', 'in', 'es', 'in', 'tl', 'es', 'tl', 'nl', 'fr', 'it', 'pt', 'fr', 'tl', 'nl', 'fr', 'tl', 'nl', 'in', 'in', 'fr', 'fr', 'fr', 'it', 'in', 'tl', 'it', 'nl', 'es', 'es', 'it', 'it', 'in', 'fr', 'es', 'nl', 'in', 'it', 'en', 'nl', 'in', 'tl', 'in', 'nl', 'fr', 'es', 'nl', 'in', 'tl', 'fr', 'en', 'nl', 'in', 'it', 'pt', 'nl', 'pt', 'nl', 'in', 'pt', 'pt', 'fr', 'en', 'es', 'es', 'fr', 'es', 'en', 'it', 'nl', 'es', 'fr', 'in', 'pt', 'es', 'fr', 'nl', 'in', 'nl', 'fr', 'fr', 'en', 'en', 'it', 'pt', 'pt', 'fr', 'pt', 'nl', 'pt', 'tl', 'nl', 'fr', 'en', 'es', 'pt', 'pt', 'fr', 'it', 'it', 'it', 'en', 'in', 'nl', 'en', 'in', 'tl', 'it', 'en', 'es', 'nl', 'tl', 'pt', 'in', 'it', 'in', 'fr', 'es', 'es', 'en', 'en', 'in', 'pt', 'fr', 'it', 'en', 'in', 'en', 'in', 'fr', 'es', 'fr', 'tl', 'en', 'fr', 'it', 'nl', 'en', 'it', 'en', 'nl', 'pt', 'it', 'en', 'pt', 'in', 'in', 'en', 'it', 'in', 'it', 'en', 'en', 'in', 'nl', 'pt', 'pt', 'tl', 'fr', 'en', 'fr', 'fr', 'es', 'it', 'en', 'pt', 'tl', 'fr', 'es', 'pt', 'it', 'in', 'nl', 'tl', 'tl', 'es', 'tl', 'fr', 'nl', 'pt', 'es', 'in', 'nl', 'pt', 'pt', 'it', 'nl', 'en', 'tl', 'es', 'en', 'in', 'nl', 'it', 'tl', 'in', 'it', 'it', 'en', 'in', 'es', 'it', 'tl', 'pt', 'en', 'nl', 'es', 'pt', 'pt', 'nl', 'tl', 'nl', 'tl', 'nl', 'it', 'en', 'in', 'es', 'pt', 'tl', 'it', 'in', 'en', 'es', 'es', 'tl', 'es', 'fr', 'nl', 'en', 'in', 'nl', 'it', 'nl', 'es', 'in', 'en', 'pt', 'tl', 'tl', 'nl', 'nl', 'in', 'it', 'en', 'nl', 'tl', 'pt', 'in', 'es', 'fr', 'nl', 'fr', 'es', 'tl', 'nl', 'en', 'pt', 'es', 'fr', 'es', 'in', 'en', 'in', 'fr', 'en', 'it', 'fr', 'fr', 'nl', 'tl', 'es', 'es', 'en', 'nl', 'nl', 'in', 'nl', 'in', 'pt', 'it', 'es', 'fr', 'en', 'tl', 'it', 'tl', 'it', 'it', 'en', 'tl', 'nl', 'es', 'es', 'nl', 'in', 'in', 'fr', 'it', 'tl', 'it', 'nl', 'nl', 'pt', 'fr', 'tl', 'fr', 'fr', 'pt', 'pt', 'pt', 'en', 'pt', 'es', 'es', 'es', 'fr', 'nl', 'nl', 'es', 'in', 'pt', 'nl', 'it', 'pt', 'nl', 'in', 'tl', 'fr', 'tl', 'pt', 'in', 'it', 'in', 'it', 'nl', 'in', 'in', 'pt', 'en', 'fr', 'nl', 'nl', 'it', 'pt', 'es', 'tl', 'fr', 'pt', 'tl', 'es', 'pt', 'tl', 'in', 'en', 'in', 'nl', 'es', 'es', 'in', 'nl', 'pt', 'pt', 'fr', 'tl', 'en', 'pt', 'nl', 'en', 'en', 'nl', 'tl', 'en', 'pt', 'nl', 'nl', 'tl', 'tl', 'fr', 'nl', 'en', 'fr', 'tl', 'en', 'pt', 'tl', 'es', 'tl', 'es', 'es', 'en', 'en', 'pt', 'pt', 'fr', 'nl', 'pt', 'en', 'fr', 'pt', 'it', 'in', 'pt', 'fr', 'it', 'tl', 'nl', 'en', 'fr', 'tl', 'tl', 'nl', 'pt', 'fr', 'it', 'nl', 'en', 'es', 'it', 'pt', 'in', 'in', 'es', 'en', 'en', 'pt', 'nl', 'en', 'fr', 'en', 'in', 'it', 'es', 'es', 'it', 'nl', 'nl', 'nl', 'es', 'in', 'fr', 'it', 'in', 'in', 'nl', 'fr', 'pt', 'nl', 'it', 'pt', 'tl', 'in', 'pt', 'nl', 'it', 'it', 'in', 'tl', 'es', 'it', 'fr', 'tl', 'pt', 'tl', 'it', 'it', 'fr', 'pt', 'it', 'fr', 'pt', 'it', 'tl', 'it', 'it', 'pt', 'tl', 'in', 'en', 'en', 'in', 'tl', 'pt', 'fr', 'nl', 'in', 'it', 'fr', 'en', 'it', 'pt', 'in', 'it', 'it', 'fr', 'it', 'in', 'fr', 'in', 'en', 'es', 'tl', 'pt', 'pt', 'fr', 'it', 'nl', 'pt', 'en', 'es', 'fr', 'in', 'it', 'nl', 'it', 'fr', 'it', 'nl', 'tl', 'fr', 'es', 'it', 'nl', 'it', 'es', 'in', 'en', 'fr', 'in', 'in', 'tl', 'in', 'fr', 'pt', 'fr', 'it', 'es', 'tl', 'en', 'it', 'pt', 'nl', 'es', 'nl', 'tl', 'in', 'pt', 'tl', 'en', 'in', 'en', 'pt', 'fr', 'pt', 'pt', 'fr', 'nl', 'pt', 'nl', 'es', 'in', 'en', 'in', 'en', 'pt', 'it', 'in', 'it', 'in', 'pt', 'es', 'it', 'en', 'nl', 'pt', 'pt', 'en', 'fr', 'tl', 'en', 'fr', 'pt', 'en', 'es', 'it', 'en', 'tl', 'in', 'in', 'fr', 'fr', 'nl', 'es', 'en', 'nl', 'nl', 'it', 'it', 'in', 'in', 'tl', 'in', 'fr', 'fr', 'tl', 'es', 'tl', 'tl', 'tl', 'pt', 'en', 'it', 'es', 'in', 'pt', 'en', 'fr', 'tl', 'it', 'fr', 'it', 'es', 'en', 'es', 'nl', 'it', 'in', 'fr', 'en', 'tl', 'in', 'pt', 'es', 'en', 'it', 'in', 'in', 'it', 'en', 'in', 'fr', 'en', 'en', 'tl', 'fr', 'it', 'fr', 'en', 'pt', 'pt', 'es', 'tl', 'pt', 'it', 'es', 'fr', 'it', 'in', 'pt', 'es', 'tl', 'tl', 'pt', 'it', 'fr', 'tl', 'es', 'tl', 'pt', 'nl', 'en', 'fr', 'tl', 'pt', 'pt', 'fr', 'in', 'pt', 'pt', 'es', 'pt', 'nl', 'pt', 'nl', 'in', 'pt', 'in', 'nl', 'es', 'pt', 'in', 'in', 'pt', 'tl', 'nl', 'fr', 'pt', 'tl', 'in', 'it', 'fr', 'pt', 'en', 'pt', 'nl', 'in', 'tl', 'nl', 'en', 'it', 'pt', 'pt', 'pt', 'nl', 'it', 'it', 'tl', 'in', 'in', 'nl', 'es', 'in', 'es', 'it', 'en', 'en', 'tl', 'in', 'en', 'pt', 'nl', 'it', 'fr', 'es', 'es', 'es', 'pt', 'nl', 'tl', 'pt', 'nl', 'fr', 'en', 'it', 'es', 'es', 'en', 'it', 'in', 'en', 'pt', 'fr', 'en', 'en', 'in', 'in', 'in', 'pt', 'es', 'in', 'nl', 'it', 'en', 'nl', 'tl', 'es', 'it', 'en', 'tl', 'in', 'it', 'pt', 'en', 'nl', 'tl', 'it', 'es', 'es', 'fr', 'nl', 'en', 'in', 'in', 'in', 'es', 'pt', 'en', 'pt', 'nl', 'pt', 'fr', 'en', 'nl', 'nl', 'fr', 'in', 'it', 'es', 'nl', 'es', 'pt', 'pt', 'fr', 'fr', 'en', 'in', 'it', 'tl', 'in', 'pt', 'it', 'fr', 'nl', 'in', 'in', 'it', 'it', 'es', 'fr', 'in', 'en', 'nl', 'fr', 'tl', 'nl', 'pt', 'in', 'nl', 'it', 'es', 'fr', 'fr', 'en', 'tl', 'en', 'en', 'en', 'it', 'nl', 'it', 'fr', 'es', 'nl', 'tl', 'in', 'it', 'fr', 'es', 'pt', 'tl', 'nl', 'pt', 'in', 'es', 'tl', 'tl', 'nl', 'fr', 'en', 'es', 'in', 'nl', 'nl', 'pt', 'tl', 'pt', 'es', 'nl', 'pt', 'en', 'es', 'tl', 'pt', 'nl', 'nl', 'fr', 'in', 'nl', 'es', 'fr', 'fr', 'in', 'en', 'fr', 'tl', 'tl', 'pt', 'in', 'es', 'nl', 'es', 'tl', 'it', 'in', 'nl', 'fr', 'it', 'en', 'tl', 'in', 'es', 'pt', 'es', 'in', 'en', 'es', 'tl', 'pt', 'en', 'es', 'es', 'pt', 'es', 'nl', 'fr', 'tl', 'fr', 'pt', 'it', 'es', 'nl', 'fr', 'en', 'en', 'en', 'it', 'it', 'en', 'es', 'in', 'fr', 'it', 'it', 'it', 'tl', 'nl', 'es', 'pt', 'es', 'in', 'fr', 'en', 'pt', 'nl', 'tl', 'es', 'pt', 'nl', 'es', 'pt', 'fr', 'pt', 'nl', 'pt', 'tl', 'fr', 'en', 'en', 'pt', 'fr', 'en', 'fr', 'en', 'pt', 'nl', 'en', 'it', 'it', 'en', 'in', 'tl', 'es', 'en', 'en', 'fr', 'tl', 'tl', 'nl', 'pt', 'it', 'in', 'pt', 'in', 'in', 'nl', 'tl', 'es', 'tl', 'fr', 'nl', 'in', 'nl', 'pt', 'nl', 'tl', 'tl', 'pt', 'in', 'fr', 'fr', 'fr', 'es', 'nl', 'en', 'tl', 'nl', 'it', 'fr', 'in', 'nl', 'fr', 'it', 'en', 'es', 'fr', 'tl', 'it', 'fr', 'in', 'pt', 'in', 'tl', 'nl', 'it', 'es', 'it', 'in', 'tl', 'en', 'en', 'nl', 'it', 'fr', 'nl', 'en', 'fr', 'it', 'fr', 'in', 'en', 'tl', 'tl', 'in', 'es', 'fr', 'pt', 'tl', 'it', 'in', 'pt', 'es', 'in', 'fr', 'en', 'tl', 'nl', 'pt', 'in', 'nl', 'en', 'tl', 'pt', 'es', 'en', 'it', 'in', 'es', 'es', 'tl', 'pt', 'in', 'nl', 'in', 'it', 'it', 'es', 'in', 'it', 'en', 'in', 'in', 'pt', 'fr', 'tl', 'tl', 'en', 'pt', 'tl', 'tl', 'in', 'nl', 'es', 'pt', 'en', 'es', 'in', 'nl', 'it', 'it', 'it', 'en', 'es', 'pt', 'en', 'tl', 'tl', 'es', 'pt', 'es', 'tl', 'it', 'in', 'en', 'in', 'in', 'pt', 'it', 'es', 'in', 'nl', 'nl', 'in', 'pt', 'it', 'it', 'pt', 'tl', 'fr', 'fr', 'en', 'pt', 'tl', 'it', 'it', 'es', 'en', 'fr', 'en', 'fr', 'fr', 'pt', 'it', 'fr', 'it', 'it', 'it', 'pt', 'nl', 'pt', 'nl', 'fr', 'tl', 'es', 'pt', 'es', 'in', 'es', 'nl', 'it', 'es', 'it', 'en', 'in', 'tl', 'nl', 'it', 'nl', 'es', 'it', 'tl', 'it', 'en', 'nl', 'tl', 'pt', 'fr', 'en', 'tl', 'es', 'it', 'it', 'tl', 'pt', 'tl', 'fr', 'en', 'es', 'tl', 'es', 'in', 'in', 'fr', 'tl', 'it', 'pt', 'en', 'in', 'in', 'es', 'tl', 'en', 'pt', 'fr', 'in', 'in', 'tl', 'in', 'es', 'en', 'es', 'en', 'nl', 'en', 'it', 'pt', 'nl', 'it', 'tl', 'pt', 'nl', 'nl', 'es', 'fr', 'pt', 'en', 'pt', 'tl', 'fr', 'fr', 'nl', 'pt', 'tl', 'pt', 'en', 'nl', 'en', 'en', 'nl', 'it', 'pt', 'nl', 'tl', 'en', 'pt', 'fr', 'nl', 'pt', 'tl', 'in', 'nl', 'en', 'pt', 'es', 'nl', 'in', 'en', 'pt', 'pt', 'it', 'it', 'es', 'pt', 'it', 'pt', 'fr', 'fr', 'in', 'in', 'es', 'tl', 'tl', 'es', 'en', 'it', 'en', 'it', 'es', 'in', 'en', 'tl', 'it', 'tl', 'pt', 'nl', 'tl', 'nl', 'tl', 'tl', 'es', 'in', 'en', 'es', 'fr', 'fr', 'nl', 'it', 'in', 'it', 'in', 'tl', 'pt', 'pt', 'en', 'in', 'it', 'pt', 'fr', 'it', 'fr', 'fr', 'in', 'nl', 'fr', 'in', 'pt', 'in', 'nl', 'nl', 'nl', 'it', 'tl', 'en', 'it', 'nl', 'tl', 'es', 'fr', 'in', 'pt', 'tl', 'in', 'it', 'pt', 'en', 'nl', 'tl', 'nl', 'nl', 'nl', 'en', 'tl', 'pt', 'es', 'tl', 'it', 'tl', 'in', 'it', 'it', 'pt', 'nl', 'en', 'en', 'en', 'nl', 'es', 'en', 'it', 'in', 'es', 'fr', 'it', 'it', 'tl', 'fr', 'in', 'es', 'in', 'es', 'it', 'tl', 'tl', 'it', 'es', 'it', 'en', 'en', 'it', 'pt', 'in', 'it', 'fr', 'in', 'tl', 'en', 'pt', 'tl', 'tl', 'fr', 'fr', 'fr', 'in', 'pt', 'pt', 'in', 'en', 'en', 'es', 'it', 'tl', 'it', 'in', 'es', 'tl', 'pt', 'it', 'en', 'es', 'fr', 'tl', 'in', 'nl', 'es', 'en', 'in', 'pt', 'pt', 'it', 'it', 'tl', 'es', 'nl', 'es', 'pt', 'it', 'pt', 'en', 'pt', 'es', 'pt', 'en', 'it', 'pt', 'nl', 'fr', 'es', 'en', 'it', 'tl', 'pt', 'pt', 'es', 'in', 'in', 'pt', 'in', 'in', 'it', 'en', 'fr', 'it', 'fr', 'pt', 'en', 'es', 'fr', 'fr', 'tl', 'fr', 'nl', 'in', 'es', 'tl', 'tl', 'tl', 'en', 'pt', 'en', 'pt', 'nl', 'in', 'pt', 'en', 'it', 'es', 'fr', 'fr', 'nl', 'pt', 'nl', 'pt', 'fr', 'nl', 'it', 'es', 'fr', 'pt', 'en', 'pt', 'tl', 'tl', 'nl', 'nl', 'tl', 'tl', 'it', 'fr', 'en', 'nl', 'nl', 'en', 'it', 'fr', 'pt', 'tl', 'en', 'en', 'nl', 'tl', 'pt', 'in', 'pt', 'it', 'nl', 'nl', 'in', 'tl', 'fr', 'it', 'es', 'fr', 'nl', 'es', 'fr', 'es', 'in', 'pt', 'in', 'fr', 'nl', 'nl', 'es', 'fr', 'en', 'en', 'en', 'en', 'tl', 'fr', 'en', 'en', 'en', 'pt', 'in', 'in', 'it', 'fr', 'in', 'fr', 'tl', 'tl', 'nl', 'fr', 'in', 'fr', 'fr', 'en', 'tl', 'nl', 'tl', 'fr', 'fr', 'es', 'fr', 'in', 'fr', 'pt', 'it', 'it', 'es', 'pt', 'es', 'it', 'in', 'in', 'en', 'nl', 'fr', 'it', 'it', 'es', 'tl', 'es', 'in', 'it', 'pt', 'en']\n"
     ]
    },
    {
     "data": {
      "text/plain": [
       "0.8723590448806101"
      ]
     },
     "execution_count": 153,
     "metadata": {},
     "output_type": "execute_result"
    }
   ],
   "source": [
    "def calc_f1(result):\n",
    "     data_file_path = f'nlp-course/lm-languages-data-new/test.csv'\n",
    "     labels = pd.read_csv(data_file_path).get('label')\n",
    "     print(list(labels))\n",
    "     return f1_score(list(labels), clasification_result,average=\"micro\")\n",
    "\n",
    "  # TODO\n",
    "\n",
    "calc_f1(clasification_result)"
   ]
  },
  {
   "cell_type": "markdown",
   "metadata": {
    "id": "iEtckSWNANqW"
   },
   "source": [
    "# **Good luck!**"
   ]
  }
 ],
 "metadata": {
  "colab": {
   "collapsed_sections": [],
   "name": "NLPAssignment_1.ipynb",
   "provenance": []
  },
  "kernelspec": {
   "display_name": "Python 3 (ipykernel)",
   "language": "python",
   "name": "python3"
  },
  "language_info": {
   "codemirror_mode": {
    "name": "ipython",
    "version": 3
   },
   "file_extension": ".py",
   "mimetype": "text/x-python",
   "name": "python",
   "nbconvert_exporter": "python",
   "pygments_lexer": "ipython3",
   "version": "3.9.7"
  }
 },
 "nbformat": 4,
 "nbformat_minor": 4
}
