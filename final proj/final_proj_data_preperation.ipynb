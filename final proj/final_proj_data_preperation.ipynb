{
 "cells": [
  {
   "cell_type": "code",
   "execution_count": 1,
   "metadata": {},
   "outputs": [],
   "source": [
    "import pandas as pd\n",
    "import numpy as np\n",
    "import sys\n",
    "sys.path.append('..')"
   ]
  },
  {
   "cell_type": "code",
   "execution_count": 2,
   "metadata": {},
   "outputs": [],
   "source": [
    "features = pd.read_csv('data/features.csv')"
   ]
  },
  {
   "cell_type": "code",
   "execution_count": 3,
   "metadata": {},
   "outputs": [
    {
     "data": {
      "text/plain": [
       "(131,)"
      ]
     },
     "execution_count": 3,
     "metadata": {},
     "output_type": "execute_result"
    }
   ],
   "source": [
    "unique_features = features.feature_text.unique()\n",
    "unique_features.shape"
   ]
  },
  {
   "cell_type": "code",
   "execution_count": 4,
   "metadata": {},
   "outputs": [],
   "source": [
    "case_num = []\n",
    "feature_num = []\n",
    "unique_feature_num = []\n",
    "\n",
    "for i, feature in enumerate(unique_features):\n",
    "    case_num = case_num + features.loc[features['feature_text'] == feature, 'case_num'].to_list()\n",
    "    feature_num = feature_num + features.loc[features['feature_text'] == feature, 'feature_num'].to_list()\n",
    "    unique_feature_num = unique_feature_num + list(np.full(len(case_num) - len(unique_feature_num), i))\n",
    "\n",
    "feature_mapping = pd.DataFrame({'case_num': case_num, 'feature_num': feature_num, 'unique_feature_num': unique_feature_num})\n"
   ]
  },
  {
   "cell_type": "code",
   "execution_count": 5,
   "metadata": {},
   "outputs": [],
   "source": [
    "train_data = pd.read_csv('data/train.csv')\n",
    "\n",
    "train_data['unique_feature_num'] = train_data.apply(lambda raw: feature_mapping.loc[(feature_mapping['case_num'] == raw['case_num']) & (feature_mapping['feature_num'] == raw['feature_num']), ['unique_feature_num']], axis = 1)\n",
    "train_data.location.replace('[]', None, inplace=True)\n",
    "train_data.dropna(inplace = True, axis = 0)"
   ]
  },
  {
   "cell_type": "code",
   "execution_count": 6,
   "metadata": {},
   "outputs": [],
   "source": [
    "patient_notes = pd.read_csv('data/patient_notes.csv')"
   ]
  },
  {
   "cell_type": "code",
   "execution_count": 9,
   "metadata": {},
   "outputs": [],
   "source": [
    "patient_notes_train_data = patient_notes.loc[patient_notes['pn_num'].isin(train_data.pn_num), :].copy()\n",
    "patient_notes_train_data['features'] = patient_notes_train_data.apply(lambda raw: train_data.loc[train_data['pn_num'] == raw['pn_num'], 'unique_feature_num'].to_list(), axis = 1)"
   ]
  },
  {
   "cell_type": "code",
   "execution_count": null,
   "metadata": {},
   "outputs": [],
   "source": []
  },
  {
   "cell_type": "code",
   "execution_count": null,
   "metadata": {},
   "outputs": [],
   "source": []
  }
 ],
 "metadata": {
  "kernelspec": {
   "display_name": "Python 3 (ipykernel)",
   "language": "python",
   "name": "python3"
  },
  "language_info": {
   "codemirror_mode": {
    "name": "ipython",
    "version": 3
   },
   "file_extension": ".py",
   "mimetype": "text/x-python",
   "name": "python",
   "nbconvert_exporter": "python",
   "pygments_lexer": "ipython3",
   "version": "3.9.7"
  },
  "vscode": {
   "interpreter": {
    "hash": "570feb405e2e27c949193ac68f46852414290d515b0ba6e5d90d076ed2284471"
   }
  }
 },
 "nbformat": 4,
 "nbformat_minor": 4
}
